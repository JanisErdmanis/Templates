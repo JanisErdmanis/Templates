{
 "metadata": {
  "name": "Anal\u012bzes probl\u0113mas"
 },
 "nbformat": 3,
 "nbformat_minor": 0,
 "worksheets": [
  {
   "cells": [
    {
     "cell_type": "code",
     "collapsed": false,
     "input": [
      "%reload_ext sympy.interactive.ipythonprinting\n",
      "from sympy import *"
     ],
     "language": "python",
     "metadata": {},
     "outputs": [],
     "prompt_number": 8
    },
    {
     "cell_type": "heading",
     "level": 3,
     "metadata": {},
     "source": [
      "L\u012bnijintegr\u0101\u013ca uzdevums 1.6 #grina"
     ]
    },
    {
     "cell_type": "code",
     "collapsed": false,
     "input": [
      "var('x y')"
     ],
     "language": "python",
     "metadata": {},
     "outputs": [
      {
       "latex": [
        "$$\\begin{pmatrix}x, & y\\end{pmatrix}$$"
       ],
       "output_type": "pyout",
       "prompt_number": 9,
       "text": [
        "(x, y)"
       ]
      }
     ],
     "prompt_number": 9
    },
    {
     "cell_type": "code",
     "collapsed": false,
     "input": [
      "P = -y/(x**2+y**2)"
     ],
     "language": "python",
     "metadata": {},
     "outputs": [],
     "prompt_number": 10
    },
    {
     "cell_type": "code",
     "collapsed": false,
     "input": [
      "Q = x/(x**2+y**2)"
     ],
     "language": "python",
     "metadata": {},
     "outputs": [],
     "prompt_number": 11
    },
    {
     "cell_type": "code",
     "collapsed": false,
     "input": [
      "r = [P,Q]\n",
      "r"
     ],
     "language": "python",
     "metadata": {},
     "outputs": [
      {
       "latex": [
        "$$\\begin{bmatrix}- \\frac{y}{x^{2} + y^{2}}, & \\frac{x}{x^{2} + y^{2}}\\end{bmatrix}$$"
       ],
       "output_type": "pyout",
       "prompt_number": 12,
       "text": [
        "\u23a1   -y       x   \u23a4\n",
        "\u23a2\u2500\u2500\u2500\u2500\u2500\u2500\u2500, \u2500\u2500\u2500\u2500\u2500\u2500\u2500\u23a5\n",
        "\u23a2 2    2   2    2\u23a5\n",
        "\u23a3x  + y   x  + y \u23a6"
       ]
      }
     ],
     "prompt_number": 12
    },
    {
     "cell_type": "code",
     "collapsed": false,
     "input": [
      "together(diff(P,y))"
     ],
     "language": "python",
     "metadata": {},
     "outputs": [
      {
       "latex": [
        "$$\\frac{- x^{2} + y^{2}}{\\left(x^{2} + y^{2}\\right)^{2}}$$"
       ],
       "output_type": "pyout",
       "png": "[encoded data removed]",
       "prompt_number": 13,
       "text": [
        "   2    2 \n",
        "- x  + y  \n",
        "\u2500\u2500\u2500\u2500\u2500\u2500\u2500\u2500\u2500\u2500\n",
        "         2\n",
        "\u239b 2    2\u239e \n",
        "\u239dx  + y \u23a0 "
       ]
      }
     ],
     "prompt_number": 13
    },
    {
     "cell_type": "code",
     "collapsed": false,
     "input": [
      "together(diff(Q,x))"
     ],
     "language": "python",
     "metadata": {},
     "outputs": [
      {
       "latex": [
        "$$\\frac{- x^{2} + y^{2}}{\\left(x^{2} + y^{2}\\right)^{2}}$$"
       ],
       "output_type": "pyout",
       "png": "[encoded data removed]",
       "prompt_number": 14,
       "text": [
        "   2    2 \n",
        "- x  + y  \n",
        "\u2500\u2500\u2500\u2500\u2500\u2500\u2500\u2500\u2500\u2500\n",
        "         2\n",
        "\u239b 2    2\u239e \n",
        "\u239dx  + y \u23a0 "
       ]
      }
     ],
     "prompt_number": 14
    },
    {
     "cell_type": "code",
     "collapsed": false,
     "input": [
      "var('t')\n",
      "L=Curve((sin(t),cos(t)),(0,2*pi,t))"
     ],
     "language": "python",
     "metadata": {},
     "outputs": [],
     "prompt_number": 15
    },
    {
     "cell_type": "code",
     "collapsed": false,
     "input": [
      "rpar = [i.subs({'x':cos(t),'y':sin(t)}) for i in r]"
     ],
     "language": "python",
     "metadata": {},
     "outputs": [],
     "prompt_number": 16
    },
    {
     "cell_type": "code",
     "collapsed": false,
     "input": [
      "rpar"
     ],
     "language": "python",
     "metadata": {},
     "outputs": [
      {
       "latex": [
        "$$\\begin{bmatrix}- \\frac{\\operatorname{sin}\\left(t\\right)}{\\operatorname{sin}^{2}\\left(t\\right) + \\operatorname{cos}^{2}\\left(t\\right)}, & \\frac{\\operatorname{cos}\\left(t\\right)}{\\operatorname{sin}^{2}\\left(t\\right) + \\operatorname{cos}^{2}\\left(t\\right)}\\end{bmatrix}$$"
       ],
       "output_type": "pyout",
       "prompt_number": 34,
       "text": [
        "[\n",
        "     -sin(t)     \n",
        "\u2500\u2500\u2500\u2500\u2500\u2500\u2500\u2500\u2500\u2500\u2500\u2500\u2500\u2500\u2500\u2500\u2500\n",
        "   2         2   \n",
        "sin (t) + cos (t),\n",
        " \n",
        "      cos(t)     \n",
        "\u2500\u2500\u2500\u2500\u2500\u2500\u2500\u2500\u2500\u2500\u2500\u2500\u2500\u2500\u2500\u2500\u2500\n",
        "   2         2   \n",
        "sin (t) + cos (t)]"
       ]
      }
     ],
     "prompt_number": 34
    },
    {
     "cell_type": "code",
     "collapsed": false,
     "input": [
      "rpar"
     ],
     "language": "python",
     "metadata": {},
     "outputs": [
      {
       "latex": [
        "$$\\begin{bmatrix}- \\frac{\\operatorname{sin}\\left(t\\right)}{\\operatorname{sin}^{2}\\left(t\\right) + \\operatorname{cos}^{2}\\left(t\\right)}, & \\frac{\\operatorname{cos}\\left(t\\right)}{\\operatorname{sin}^{2}\\left(t\\right) + \\operatorname{cos}^{2}\\left(t\\right)}\\end{bmatrix}$$"
       ],
       "output_type": "pyout",
       "prompt_number": 36,
       "text": [
        "[\n",
        "     -sin(t)     \n",
        "\u2500\u2500\u2500\u2500\u2500\u2500\u2500\u2500\u2500\u2500\u2500\u2500\u2500\u2500\u2500\u2500\u2500\n",
        "   2         2   \n",
        "sin (t) + cos (t),\n",
        " \n",
        "      cos(t)     \n",
        "\u2500\u2500\u2500\u2500\u2500\u2500\u2500\u2500\u2500\u2500\u2500\u2500\u2500\u2500\u2500\u2500\u2500\n",
        "   2         2   \n",
        "sin (t) + cos (t)]"
       ]
      }
     ],
     "prompt_number": 36
    },
    {
     "cell_type": "code",
     "collapsed": false,
     "input": [
      "dd = [-sin(t),cos(t)]"
     ],
     "language": "python",
     "metadata": {},
     "outputs": [],
     "prompt_number": 37
    },
    {
     "cell_type": "code",
     "collapsed": false,
     "input": [
      "parametric = sum([i*j for i,j in zip(rpar,dd)])\n",
      "parametric"
     ],
     "language": "python",
     "metadata": {},
     "outputs": [
      {
       "latex": [
        "$$\\frac{\\operatorname{sin}^{2}\\left(t\\right)}{\\operatorname{sin}^{2}\\left(t\\right) + \\operatorname{cos}^{2}\\left(t\\right)} + \\frac{\\operatorname{cos}^{2}\\left(t\\right)}{\\operatorname{sin}^{2}\\left(t\\right) + \\operatorname{cos}^{2}\\left(t\\right)}$$"
       ],
       "output_type": "pyout",
       "png": "[encoded data removed]",
       "prompt_number": 43,
       "text": [
        "\n",
        "        2                   2        \n",
        "     sin (t)             cos (t)     \n",
        "\u2500\u2500\u2500\u2500\u2500\u2500\u2500\u2500\u2500\u2500\u2500\u2500\u2500\u2500\u2500\u2500\u2500 + \u2500\u2500\u2500\u2500\u2500\u2500\u2500\u2500\u2500\u2500\u2500\u2500\u2500\u2500\u2500\u2500\u2500\n",
        "   2         2         2         2   \n",
        "sin (t) + cos (t)   sin (t) + cos (t)"
       ]
      }
     ],
     "prompt_number": 43
    },
    {
     "cell_type": "code",
     "collapsed": false,
     "input": [
      "integrate(parametric,(t,0,2*pi))"
     ],
     "language": "python",
     "metadata": {},
     "outputs": [
      {
       "latex": [
        "$$2 \\pi$$"
       ],
       "output_type": "pyout",
       "png": "[encoded data removed]",
       "prompt_number": 44,
       "text": [
        "2\u22c5\u03c0"
       ]
      }
     ],
     "prompt_number": 44
    },
    {
     "cell_type": "markdown",
     "metadata": {},
     "source": [
      "Kas sakr\u012bt ar uzdevuma atbildi ;)"
     ]
    },
    {
     "cell_type": "code",
     "collapsed": false,
     "input": [
      "var('r')\n",
      "integrate(r*sqrt(4-r**2)+1/3*r**3,(r,0,1))"
     ],
     "language": "python",
     "metadata": {},
     "outputs": [
      {
       "latex": [
        "$$- \\sqrt{3} + \\frac{8}{3}$$"
       ],
       "output_type": "pyout",
       "png": "[encoded data removed]",
       "prompt_number": 8,
       "text": [
        "\n",
        "    \u23bd\u23bd\u23bd   8\n",
        "- \u2572\u2571 3  + \u2500\n",
        "          3"
       ]
      }
     ],
     "prompt_number": 8
    },
    {
     "cell_type": "code",
     "collapsed": false,
     "input": [
      "var('x')\n",
      "integrate(3*x-x*sqrt(9+4*x**2),(x,0,2))"
     ],
     "language": "python",
     "metadata": {},
     "outputs": [
      {
       "latex": [
        "$$- \\frac{13}{6}$$"
       ],
       "output_type": "pyout",
       "png": "[encoded data removed]",
       "prompt_number": 22,
       "text": [
        "-13/6"
       ]
      }
     ],
     "prompt_number": 22
    },
    {
     "cell_type": "heading",
     "level": 3,
     "metadata": {},
     "source": [
      "Tr\u012bsk\u0101r\u0161\u0101 integr\u0101\u013ca piem\u0113rs:"
     ]
    },
    {
     "cell_type": "code",
     "collapsed": false,
     "input": [
      "var('x y z')\n",
      "#No anal\u012bzes 2.8\n",
      "first = integrate(1,(z,0,1./2*y**2))\n",
      "second = integrate(first,(y,0,4-2./3*x))\n",
      "integrate(second,(x,0,6))"
     ],
     "language": "python",
     "metadata": {},
     "outputs": [
      {
       "latex": [
        "$$16.0$$"
       ],
       "output_type": "pyout",
       "png": "[encoded data removed]",
       "prompt_number": 32,
       "text": [
        "16.0000000000000"
       ]
      }
     ],
     "prompt_number": 32
    },
    {
     "cell_type": "code",
     "collapsed": false,
     "input": [
      "def tilpums(eq):\n",
      "    \"\"\"\n",
      "Atgrie\u017e integr\u0101li pa tilpumu vien\u0101dojumam eq\n",
      "    \"\"\"\n",
      "    first = integrate(eq,(z,0,1./2*y**2))\n",
      "    second = integrate(first,(y,0,4-2./3*x))\n",
      "    return integrate(second,(x,0,6))\n",
      "    "
     ],
     "language": "python",
     "metadata": {},
     "outputs": [],
     "prompt_number": 34
    },
    {
     "cell_type": "code",
     "collapsed": false,
     "input": [
      "tilpums(1)"
     ],
     "language": "python",
     "metadata": {},
     "outputs": [
      {
       "latex": [
        "$$16.0$$"
       ],
       "output_type": "pyout",
       "png": "[encoded data removed]",
       "prompt_number": 35,
       "text": [
        "16.0000000000000"
       ]
      }
     ],
     "prompt_number": 35
    },
    {
     "cell_type": "code",
     "collapsed": false,
     "input": [
      "Rm = [tilpums(x),tilpums(y),tilpums(z)]\n",
      "Rm"
     ],
     "language": "python",
     "metadata": {},
     "outputs": [
      {
       "latex": [
        "$$\\begin{bmatrix}19.2, & 38.4, & 25.6000000000002\\end{bmatrix}$$"
       ],
       "output_type": "pyout",
       "prompt_number": 39,
       "text": [
        "[19.2000000000000, 38.4000000000000, 25.6000000000002]"
       ]
      }
     ],
     "prompt_number": 39
    },
    {
     "cell_type": "code",
     "collapsed": false,
     "input": [
      "[i/tilpums(1) for i in Rm]"
     ],
     "language": "python",
     "metadata": {},
     "outputs": [
      {
       "latex": [
        "$$\\begin{bmatrix}1.2, & 2.4, & 1.60000000000001\\end{bmatrix}$$"
       ],
       "output_type": "pyout",
       "prompt_number": 40,
       "text": [
        "[1.20000000000000, 2.40000000000000, 1.60000000000001]"
       ]
      }
     ],
     "prompt_number": 40
    },
    {
     "cell_type": "code",
     "collapsed": false,
     "input": [
      "'%.2g'%0.00058787"
     ],
     "language": "python",
     "metadata": {},
     "outputs": [
      {
       "output_type": "pyout",
       "prompt_number": 47,
       "text": [
        "0.00059"
       ]
      }
     ],
     "prompt_number": 47
    },
    {
     "cell_type": "code",
     "collapsed": false,
     "input": [
      "var('x')\n",
      "integrate(cos(x)**4/sin(x)**6,(x))"
     ],
     "language": "python",
     "metadata": {},
     "outputs": [
      {
       "latex": [
        "$$- \\frac{\\operatorname{cos}\\left(x\\right)}{5 \\operatorname{sin}\\left(x\\right)} + \\frac{2}{5} \\frac{\\operatorname{cos}\\left(x\\right)}{\\operatorname{sin}^{3}\\left(x\\right)} - \\frac{\\operatorname{cos}\\left(x\\right)}{5 \\operatorname{sin}^{5}\\left(x\\right)}$$"
       ],
       "output_type": "pyout",
       "png": "[encoded data removed]",
       "prompt_number": 6,
       "text": [
        "\n",
        "   cos(x)     2\u22c5cos(x)     cos(x) \n",
        "- \u2500\u2500\u2500\u2500\u2500\u2500\u2500\u2500 + \u2500\u2500\u2500\u2500\u2500\u2500\u2500\u2500\u2500 - \u2500\u2500\u2500\u2500\u2500\u2500\u2500\u2500\u2500\n",
        "  5\u22c5sin(x)        3           5   \n",
        "             5\u22c5sin (x)   5\u22c5sin (x)"
       ]
      }
     ],
     "prompt_number": 6
    },
    {
     "cell_type": "heading",
     "level": 3,
     "metadata": {},
     "source": [
      "Virsmu integr\u0101\u013ci    "
     ]
    },
    {
     "cell_type": "code",
     "collapsed": false,
     "input": [
      "var('x')\n",
      "integrate(cos(x)**2*sin(x)**2,(x,0,2*pi))"
     ],
     "language": "python",
     "metadata": {},
     "outputs": [
      {
       "latex": [
        "$$\\frac{1}{4} \\pi$$"
       ],
       "output_type": "pyout",
       "png": "[encoded data removed]",
       "prompt_number": 5,
       "text": [
        "\n",
        "\u03c0\n",
        "\u2500\n",
        "4"
       ]
      }
     ],
     "prompt_number": 5
    },
    {
     "cell_type": "code",
     "collapsed": false,
     "input": [
      "integrate(sin(x)**5*cos(x)**2,(x,pi/2,pi))"
     ],
     "language": "python",
     "metadata": {},
     "outputs": [
      {
       "latex": [
        "$$\\frac{8}{105}$$"
       ],
       "output_type": "pyout",
       "png": "[encoded data removed]",
       "prompt_number": 6,
       "text": [
        "8/105"
       ]
      }
     ],
     "prompt_number": 6
    },
    {
     "cell_type": "code",
     "collapsed": false,
     "input": [
      "integrate(cos(x)**2*sin(x)**2,(x,0,2*pi))"
     ],
     "language": "python",
     "metadata": {},
     "outputs": [
      {
       "latex": [
        "$$\\frac{1}{4} \\pi$$"
       ],
       "output_type": "pyout",
       "png": "[encoded data removed]",
       "prompt_number": 10,
       "text": [
        "\n",
        "\u03c0\n",
        "\u2500\n",
        "4"
       ]
      }
     ],
     "prompt_number": 10
    },
    {
     "cell_type": "code",
     "collapsed": false,
     "input": [
      "integrate(sin(x)**5,(x,pi/2,pi))"
     ],
     "language": "python",
     "metadata": {},
     "outputs": [
      {
       "latex": [
        "$$\\frac{8}{15}$$"
       ],
       "output_type": "pyout",
       "png": "[encoded data removed]",
       "prompt_number": 11,
       "text": [
        "8/15"
       ]
      }
     ],
     "prompt_number": 11
    },
    {
     "cell_type": "heading",
     "level": 3,
     "metadata": {},
     "source": [
      "Uzdevumi patst\u0101v\u012bgai risin\u0101\u0161anai par vair\u0101kk\u0101rt\u012bgajiem integr\u0101\u013ciem"
     ]
    },
    {
     "cell_type": "code",
     "collapsed": false,
     "input": [
      "var('x y')"
     ],
     "language": "python",
     "metadata": {},
     "outputs": [
      {
       "latex": [
        "$$\\begin{pmatrix}x, & y\\end{pmatrix}$$"
       ],
       "output_type": "pyout",
       "prompt_number": 2,
       "text": [
        "(x, y)"
       ]
      }
     ],
     "prompt_number": 2
    },
    {
     "cell_type": "code",
     "collapsed": false,
     "input": [
      "eq = x*(6-2*x-2*y)\n",
      "eq"
     ],
     "language": "python",
     "metadata": {},
     "outputs": [
      {
       "latex": [
        "$$x \\left(- 2 x - 2 y + 6\\right)$$"
       ],
       "output_type": "pyout",
       "png": "[encoded data removed]",
       "prompt_number": 4,
       "text": [
        "x\u22c5(-2\u22c5x - 2\u22c5y + 6)"
       ]
      }
     ],
     "prompt_number": 4
    },
    {
     "cell_type": "code",
     "collapsed": false,
     "input": [
      "integrate(eq,(x,0,3-y))"
     ],
     "language": "python",
     "metadata": {},
     "outputs": [
      {
       "latex": [
        "$$\\frac{1}{3} \\left(- y + 3\\right)^{3}$$"
       ],
       "output_type": "pyout",
       "png": "[encoded data removed]",
       "prompt_number": 5,
       "text": [
        "\n",
        "        3\n",
        "(-y + 3) \n",
        "\u2500\u2500\u2500\u2500\u2500\u2500\u2500\u2500\u2500\n",
        "    3    "
       ]
      }
     ],
     "prompt_number": 5
    },
    {
     "cell_type": "code",
     "collapsed": false,
     "input": [
      "integrate(_,(y,0,3))"
     ],
     "language": "python",
     "metadata": {},
     "outputs": [
      {
       "latex": [
        "$$\\frac{27}{4}$$"
       ],
       "output_type": "pyout",
       "png": "[encoded data removed]",
       "prompt_number": 9,
       "text": [
        "27/4"
       ]
      }
     ],
     "prompt_number": 9
    },
    {
     "cell_type": "code",
     "collapsed": false,
     "input": [],
     "language": "python",
     "metadata": {},
     "outputs": []
    }
   ],
   "metadata": {}
  }
 ]
}