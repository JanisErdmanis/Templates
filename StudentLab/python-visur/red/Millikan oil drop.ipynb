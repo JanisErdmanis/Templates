{
 "metadata": {
  "name": "Millikan oil drop"
 },
 "nbformat": 3,
 "nbformat_minor": 0,
 "worksheets": [
  {
   "cells": [
    {
     "cell_type": "code",
     "collapsed": false,
     "input": [
      "from pandas import *\n",
      "import sympy as s\n",
      "from sympy import var, Eq, solve\n",
      "import statsmodels.api as sm"
     ],
     "language": "python",
     "metadata": {},
     "outputs": [],
     "prompt_number": 1
    },
    {
     "cell_type": "code",
     "collapsed": false,
     "input": [
      "%reload_ext sympy.interactive.ipythonprinting"
     ],
     "language": "python",
     "metadata": {},
     "outputs": [],
     "prompt_number": 7
    },
    {
     "cell_type": "code",
     "collapsed": false,
     "input": [
      "%qtconsole"
     ],
     "language": "python",
     "metadata": {},
     "outputs": [],
     "prompt_number": 8
    },
    {
     "cell_type": "code",
     "collapsed": false,
     "input": [
      "var('g b p mu v_f E v_r d k U t')\n",
      "ro = s.Symbol('rho')\n",
      "\n",
      "\n",
      "definitions = {\n",
      "        d : 7.6e-3,\n",
      "        g : 9.81,\n",
      "        b : 8.22e-3,\n",
      "        p : 101.3e3,\n",
      "        ro: 886,\n",
      "        mu: 1.8840e-5,\n",
      "        v_f: 0.5e-3/15,\n",
      "        E : 1000e2,\n",
      "        v_r: 0.5e-3/15,\n",
      "}\n",
      "\n",
      "\n",
      "definitions2 = {\n",
      "        'd' : 7.6e-3,\n",
      "        'g' : 9.81,\n",
      "        'b' : 8.22e-3,\n",
      "        'p' : 101.3e3,\n",
      "        'ro': 886,\n",
      "        'mu': 1.8840e-5,\n",
      "        'v_f': 0.5e-3/15,\n",
      "        'E' : 1000e2,\n",
      "        'k': 2.299e-9,\n",
      "        'v_r': 0.5e-3/15,\n",
      "}"
     ],
     "language": "python",
     "metadata": {},
     "outputs": [],
     "prompt_number": 279
    },
    {
     "cell_type": "code",
     "collapsed": false,
     "input": [
      "var('m g k v_f v_r')\n",
      "var('q')\n",
      "forces = Eq(m*g*(v_f + v_r)/(E*v_f),q)\n",
      "display(forces)\n",
      "\n",
      "var('a m')\n",
      "mass = Eq(4*s.pi*a**3*ro/3,m)\n",
      "display(mass)\n",
      "\n",
      "var('g mu')\n",
      "stokes = Eq(a**2,9*mu*v_f/(2*g*ro))\n",
      "display(stokes)\n",
      "\n",
      "var('a b p')\n",
      "mu_ef = mu*(1 + b/(p*a))**-1\n",
      "display(mu_ef)"
     ],
     "language": "python",
     "metadata": {},
     "outputs": [
      {
       "latex": [
        "$$1.0 \\times 10^{-5} \\frac{g m \\left(v_{f} + v_{r}\\right)}{v_{f}} = q$$"
       ],
       "output_type": "display_data",
       "png": "[encoded data removed]",
       "text": [
        "1.0e-5\u22c5g\u22c5m\u22c5(v_f + v\u1d63)    \n",
        "\u2500\u2500\u2500\u2500\u2500\u2500\u2500\u2500\u2500\u2500\u2500\u2500\u2500\u2500\u2500\u2500\u2500\u2500\u2500\u2500\u2500 = q\n",
        "         v_f             "
       ]
      },
      {
       "latex": [
        "$$\\frac{3544}{3} \\pi a^{3} = m$$"
       ],
       "output_type": "display_data",
       "png": "[encoded data removed]",
       "text": [
        "        3    \n",
        "3544\u22c5\u03c0\u22c5a     \n",
        "\u2500\u2500\u2500\u2500\u2500\u2500\u2500\u2500\u2500 = m\n",
        "    3        "
       ]
      },
      {
       "latex": [
        "$$a^{2} = \\frac{9}{1772} \\frac{\\mu v_{f}}{g}$$"
       ],
       "output_type": "display_data",
       "png": "[encoded data removed]",
       "text": [
        " 2   9\u22c5\u03bc\u22c5v_f\n",
        "a  = \u2500\u2500\u2500\u2500\u2500\u2500\u2500\n",
        "      1772\u22c5g"
       ]
      },
      {
       "latex": [
        "$$\\frac{\\mu}{1 + \\frac{b}{a p}}$$"
       ],
       "output_type": "display_data",
       "png": "[encoded data removed]",
       "text": [
        "   \u03bc   \n",
        "\u2500\u2500\u2500\u2500\u2500\u2500\u2500\n",
        "     b \n",
        "1 + \u2500\u2500\u2500\n",
        "    a\u22c5p"
       ]
      }
     ],
     "prompt_number": 325
    },
    {
     "cell_type": "code",
     "collapsed": false,
     "input": [
      "asol = solve(stokes.subs({mu:mu_ef}),a,dict=True)[1]\n",
      "display(asol)"
     ],
     "language": "python",
     "metadata": {},
     "outputs": [
      {
       "output_type": "display_data",
       "text": [
        "\u23a7              ____________________________\u23ab\n",
        "\u23aa             \u2571     \u239b 2             2    \u239e \u23aa\n",
        "\u23a8      b    \u2572\u2571  g\u22c5\u03c1\u22c5\u239db \u22c5g\u22c5\u03c1 + 18\u22c5\u03bc\u22c5p \u22c5v_f\u23a0 \u23ac\n",
        "\u23aaa: - \u2500\u2500\u2500 + \u2500\u2500\u2500\u2500\u2500\u2500\u2500\u2500\u2500\u2500\u2500\u2500\u2500\u2500\u2500\u2500\u2500\u2500\u2500\u2500\u2500\u2500\u2500\u2500\u2500\u2500\u2500\u2500\u2500\u2500\u2500\u23aa\n",
        "\u23a9     2\u22c5p               2\u22c5g\u22c5p\u22c5\u03c1            \u23ad"
       ]
      }
     ],
     "prompt_number": 11
    },
    {
     "cell_type": "code",
     "collapsed": false,
     "input": [
      "raw_diameter = s.sqrt(9*mu*v_f/2/g/ro)*2\n",
      "raw_diameter"
     ],
     "language": "python",
     "metadata": {},
     "outputs": [
      {
       "latex": [
        "$$3 \\sqrt{2} \\sqrt{\\frac{\\mu v_{f}}{g \\rho}}$$"
       ],
       "output_type": "pyout",
       "png": "[encoded data removed]",
       "prompt_number": 12,
       "text": [
        "            _______\n",
        "    ___    \u2571 \u03bc\u22c5v_f \n",
        "3\u22c5\u2572\u2571 2 \u22c5  \u2571  \u2500\u2500\u2500\u2500\u2500 \n",
        "        \u2572\u2571    g\u22c5\u03c1  "
       ]
      }
     ],
     "prompt_number": 12
    },
    {
     "cell_type": "code",
     "collapsed": false,
     "input": [
      "def raw_diam(corrections={}):\n",
      "    new = dict(definitions)\n",
      "    new.update(corrections)\n",
      "    diam = raw_diameter.subs(new)\n",
      "    return diam.evalf()"
     ],
     "language": "python",
     "metadata": {},
     "outputs": [],
     "prompt_number": 13
    },
    {
     "cell_type": "code",
     "collapsed": false,
     "input": [
      "def diameter(corrections={}):\n",
      "    \"\"\"\n",
      "Expected diameter if correction is used\n",
      "Uses:\n",
      "    asol\n",
      "    definitions from header\n",
      "    \"\"\"\n",
      "    new = dict(definitions)\n",
      "    new.update(corrections)\n",
      "    diam = a.subs(asol).subs(new)*2\n",
      "    return diam.evalf()\n",
      "    "
     ],
     "language": "python",
     "metadata": {},
     "outputs": [],
     "prompt_number": 14
    },
    {
     "cell_type": "code",
     "collapsed": false,
     "input": [
      "solution = solve([mass.subs(asol),forces],q,m)\n",
      "charge = q.subs(solution)\n",
      "display(charge)"
     ],
     "language": "python",
     "metadata": {},
     "outputs": [
      {
       "latex": [
        "$$- \\frac{\\pi \\left(v_{f} + v_{r}\\right) \\left(4 b^{3} g^{3} \\rho^{3} - 3 b^{2} g^{2} \\rho^{2} \\sqrt{g \\rho \\left(b^{2} g \\rho + 18 \\mu p^{2} v_{f}\\right)} + 54 b g^{2} \\mu p^{2} \\rho^{2} v_{f} - \\left(g \\rho \\left(b^{2} g \\rho + 18 \\mu p^{2} v_{f}\\right)\\right)^{\\frac{3}{2}}\\right)}{6 E g^{2} p^{3} \\rho^{2} v_{f}}$$"
       ],
       "output_type": "display_data",
       "png": "[encoded data removed]",
       "text": [
        "              \u239b                           ____________________________        \n",
        "              \u239c   3  3  3      2  2  2   \u2571     \u239b 2             2    \u239e         \n",
        "-\u03c0\u22c5(v_f + v\u1d63)\u22c5\u239d4\u22c5b \u22c5g \u22c5\u03c1  - 3\u22c5b \u22c5g \u22c5\u03c1 \u22c5\u2572\u2571  g\u22c5\u03c1\u22c5\u239db \u22c5g\u22c5\u03c1 + 18\u22c5\u03bc\u22c5p \u22c5v_f\u23a0  + 54\u22c5b\u22c5\n",
        "\u2500\u2500\u2500\u2500\u2500\u2500\u2500\u2500\u2500\u2500\u2500\u2500\u2500\u2500\u2500\u2500\u2500\u2500\u2500\u2500\u2500\u2500\u2500\u2500\u2500\u2500\u2500\u2500\u2500\u2500\u2500\u2500\u2500\u2500\u2500\u2500\u2500\u2500\u2500\u2500\u2500\u2500\u2500\u2500\u2500\u2500\u2500\u2500\u2500\u2500\u2500\u2500\u2500\u2500\u2500\u2500\u2500\u2500\u2500\u2500\u2500\u2500\u2500\u2500\u2500\u2500\u2500\u2500\u2500\u2500\u2500\u2500\u2500\u2500\u2500\u2500\u2500\u2500\n",
        "                                                             2  3  2          \n",
        "                                                        6\u22c5E\u22c5g \u22c5p \u22c5\u03c1 \u22c5v_f      \n",
        "\n",
        "                                             3/2\u239e\n",
        " 2    2  2       \u239b    \u239b 2             2    \u239e\u239e   \u239f\n",
        "g \u22c5\u03bc\u22c5p \u22c5\u03c1 \u22c5v_f - \u239dg\u22c5\u03c1\u22c5\u239db \u22c5g\u22c5\u03c1 + 18\u22c5\u03bc\u22c5p \u22c5v_f\u23a0\u23a0   \u23a0\n",
        "\u2500\u2500\u2500\u2500\u2500\u2500\u2500\u2500\u2500\u2500\u2500\u2500\u2500\u2500\u2500\u2500\u2500\u2500\u2500\u2500\u2500\u2500\u2500\u2500\u2500\u2500\u2500\u2500\u2500\u2500\u2500\u2500\u2500\u2500\u2500\u2500\u2500\u2500\u2500\u2500\u2500\u2500\u2500\u2500\u2500\u2500\u2500\u2500\u2500\n",
        "                                                 \n",
        "                                                 "
       ]
      }
     ],
     "prompt_number": 15
    },
    {
     "cell_type": "code",
     "collapsed": false,
     "input": [
      "def how (corrections={}):\n",
      "    \"\"\"\n",
      "Returns number of electron charge on the drop using the solution from previous cell\n",
      "    \"\"\"\n",
      "    new = dict(definitions)  \n",
      "    new.update(corrections)\n",
      "    return (charge.subs(new)/1.60e-19).evalf()"
     ],
     "language": "python",
     "metadata": {},
     "outputs": [],
     "prompt_number": 16
    },
    {
     "cell_type": "code",
     "collapsed": false,
     "input": [
      "dotais = 4*s.pi*ro*g/3*(s.sqrt((b/2/p)**2 + 9*mu*v_f/(2*g*ro)) - b/2/p )**3 * (v_f+v_r)/(E*v_f)\n",
      "dotais"
     ],
     "language": "python",
     "metadata": {},
     "outputs": [
      {
       "latex": [
        "$$\\frac{4}{3} \\frac{\\pi g \\rho \\left(v_{f} + v_{r}\\right) \\left(- \\frac{b}{2 p} + \\sqrt{\\frac{b^{2}}{4 p^{2}} + \\frac{9}{2} \\frac{\\mu v_{f}}{g \\rho}}\\right)^{3}}{E v_{f}}$$"
       ],
       "output_type": "pyout",
       "png": "[encoded data removed]",
       "prompt_number": 17,
       "text": [
        "                                                   3\n",
        "                   \u239b              ________________\u239e \n",
        "                   \u239c             \u2571   2            \u239f \n",
        "                   \u239c   b        \u2571   b     9\u22c5\u03bc\u22c5v_f \u239f \n",
        "4\u22c5\u03c0\u22c5g\u22c5\u03c1\u22c5(v_f + v\u1d63)\u22c5\u239c- \u2500\u2500\u2500 +    \u2571   \u2500\u2500\u2500\u2500 + \u2500\u2500\u2500\u2500\u2500\u2500\u2500 \u239f \n",
        "                   \u239c  2\u22c5p     \u2571       2    2\u22c5g\u22c5\u03c1  \u239f \n",
        "                   \u239d        \u2572\u2571     4\u22c5p            \u23a0 \n",
        "\u2500\u2500\u2500\u2500\u2500\u2500\u2500\u2500\u2500\u2500\u2500\u2500\u2500\u2500\u2500\u2500\u2500\u2500\u2500\u2500\u2500\u2500\u2500\u2500\u2500\u2500\u2500\u2500\u2500\u2500\u2500\u2500\u2500\u2500\u2500\u2500\u2500\u2500\u2500\u2500\u2500\u2500\u2500\u2500\u2500\u2500\u2500\u2500\u2500\u2500\u2500\u2500\n",
        "                      3\u22c5E\u22c5v_f                       "
       ]
      }
     ],
     "prompt_number": 17
    },
    {
     "cell_type": "code",
     "collapsed": false,
     "input": [
      "def electrons(corrections={}):\n",
      "    \"\"\"\n",
      "Returns number of electrons using the Pasco\n",
      "    \"\"\"\n",
      "    new = dict(definitions)\n",
      "    new.update(corrections)\n",
      "    try:\n",
      "        new[E]=new[U]/new[d]\n",
      "        print 'izdevaas'\n",
      "    except:\n",
      "        pass\n",
      "    \n",
      "    try:\n",
      "        new[v_r]=1e-3/new[t]\n",
      "    except:\n",
      "        pass\n",
      "    \n",
      "    return (dotais.subs(new)/1.60e-19).evalf()"
     ],
     "language": "python",
     "metadata": {},
     "outputs": [],
     "prompt_number": 18
    },
    {
     "cell_type": "code",
     "collapsed": false,
     "input": [
      "cd /home/akels/Dropbox/progr/Latex/Labori/Milikans"
     ],
     "language": "python",
     "metadata": {},
     "outputs": [
      {
       "output_type": "stream",
       "stream": "stdout",
       "text": [
        "/home/akels/Dropbox/progr/Latex/Labori/Milikans\n"
       ]
      }
     ],
     "prompt_number": 19
    },
    {
     "cell_type": "code",
     "collapsed": false,
     "input": [
      "def piesatinajums(filename='piesatinajums'):\n",
      "    \n",
      "    pies = read_table(filename,header=3)\n",
      "    tvid = average(pies.t)\n",
      "    display(tvid)\n",
      "    \n",
      "    v0 = 1e-3/tvid\n",
      "    display(v0)\n",
      "    \n",
      "    definitions.update({v_f:v0})"
     ],
     "language": "python",
     "metadata": {},
     "outputs": [],
     "prompt_number": 20
    },
    {
     "cell_type": "code",
     "collapsed": false,
     "input": [
      "forfit = 4*s.pi/3*g*k*ro/v_f*(s.sqrt((b/2/p)**2 + 9*mu*v_f/2/g/ro) - b/2/p)**3\n",
      "display(forfit)"
     ],
     "language": "python",
     "metadata": {},
     "outputs": [
      {
       "latex": [
        "$$\\frac{4}{3} \\frac{\\pi g k \\rho \\left(- \\frac{b}{2 p} + \\sqrt{\\frac{b^{2}}{4 p^{2}} + \\frac{9}{2} \\frac{\\mu v_{f}}{g \\rho}}\\right)^{3}}{v_{f}}$$"
       ],
       "output_type": "display_data",
       "png": "[encoded data removed]",
       "text": [
        "                                          3\n",
        "          \u239b              ________________\u239e \n",
        "          \u239c             \u2571   2            \u239f \n",
        "          \u239c   b        \u2571   b     9\u22c5\u03bc\u22c5v_f \u239f \n",
        "4\u22c5\u03c0\u22c5g\u22c5k\u22c5\u03c1\u22c5\u239c- \u2500\u2500\u2500 +    \u2571   \u2500\u2500\u2500\u2500 + \u2500\u2500\u2500\u2500\u2500\u2500\u2500 \u239f \n",
        "          \u239c  2\u22c5p     \u2571       2    2\u22c5g\u22c5\u03c1  \u239f \n",
        "          \u239d        \u2572\u2571     4\u22c5p            \u23a0 \n",
        "\u2500\u2500\u2500\u2500\u2500\u2500\u2500\u2500\u2500\u2500\u2500\u2500\u2500\u2500\u2500\u2500\u2500\u2500\u2500\u2500\u2500\u2500\u2500\u2500\u2500\u2500\u2500\u2500\u2500\u2500\u2500\u2500\u2500\u2500\u2500\u2500\u2500\u2500\u2500\u2500\u2500\u2500\u2500\n",
        "                   3\u22c5v_f                   "
       ]
      }
     ],
     "prompt_number": 21
    },
    {
     "cell_type": "code",
     "collapsed": false,
     "input": [
      "def fit_charge(g,k,ro,v_f,b,p,mu,**kwargs):\n",
      "    #framelocals().update(defin)\n",
      "   # return k\n",
      "   # print v_f\n",
      "    from uncertainties.umath import sqrt\n",
      "    a = (sqrt((b/2/p)**2 + 9*mu*v_f/2/g/ro) - b/2/p)\n",
      "    print a\n",
      "#    print 'a=%f' %(sqrt((b/2/p)**2 + 9*mu*v_f/2/g/ro) - b/2/p)\n",
      "    return (4*pi/3*g*k*ro/v_f*a**3/1.60e-19) #(sqrt((b/2/p)**2 + 9*mu*v_f/2/g/ro) - b/2/p)**3 ) /1.60e-19"
     ],
     "language": "python",
     "metadata": {},
     "outputs": [],
     "prompt_number": 432
    },
    {
     "cell_type": "code",
     "collapsed": false,
     "input": [
      "def fitted_charge(corrections={}):\n",
      "    new = dict(definitions)\n",
      "    new.update(corrections)\n",
      "    print new\n",
      "    charge = forfit.subs(new)/1.60e-19\n",
      "    \n",
      "    return charge.evalf()\n",
      "    "
     ],
     "language": "python",
     "metadata": {},
     "outputs": [],
     "prompt_number": 335
    },
    {
     "cell_type": "code",
     "collapsed": false,
     "input": [
      "def compute(self):\n",
      "    table = self\n",
      "    self['E'] = (table.U)/definitions[d] * 1e-3\n",
      "    self['v'] = 1e-3/(table.t) * 1e6\n",
      "\n",
      "DataFrame.compute = compute"
     ],
     "language": "python",
     "metadata": {},
     "outputs": [],
     "prompt_number": 202
    },
    {
     "cell_type": "code",
     "collapsed": false,
     "input": [
      "DataFrame.parameters = dict(definitions)"
     ],
     "language": "python",
     "metadata": {},
     "outputs": [],
     "prompt_number": 24
    },
    {
     "cell_type": "code",
     "collapsed": false,
     "input": [
      "def update_vf(self,filename):\n",
      "    \n",
      "    pies = read_table(filename,header=3)\n",
      "    tvid = average(pies.t)\n",
      "    tstd = std(pies.t)\n",
      "    \n",
      "    display(tvid)\n",
      "    \n",
      "    v0 = 1e-3/tvid\n",
      "    print 'v0 = %g  r = %g %%' %(v0,tstd/tvid*100*2)\n",
      "    \n",
      "    self.parameters.update({v_f:v0})\n",
      "   \n",
      "#Tabulas izvads\n",
      "    pies['v'] = 1e-3/pies.t\n",
      "    \n",
      "\n",
      "DataFrame.update_vf = update_vf"
     ],
     "language": "python",
     "metadata": {},
     "outputs": [],
     "prompt_number": 97
    },
    {
     "cell_type": "code",
     "collapsed": false,
     "input": [
      "def plot_table(self):\n",
      "    \n",
      "    table = self\n",
      "    \n",
      "    \n",
      "    table.compute() # kautkas ko vajadzeetu iestraadaat __init__ funkcij\u0101!\n",
      "    \n",
      "    X = table.E*1e-3\n",
      "    Y = table.v*1e6\n",
      "    \n",
      "    plot(X,Y,'o',markersize=4)\n",
      "    for x,y,r in zip(X,Y,range(len(X))):\n",
      "        text(x,y,'%d' %r)\n",
      "    xlabel('$E, V/mm$')\n",
      "    ylabel(r'$v, \\mu m/sek$')\n",
      "    grid()\n",
      "    \n",
      "   # X = table.E\n",
      "  #  Y = table.v\n",
      " #   X = sm.add_constant(X)\n",
      "    \n",
      "#model = sm.OLS(Y,X)\n",
      "  #  fitted = model.fit()\n",
      "    #errorbar(t,eps,yerr=sig,fmt='o')\n",
      "    \n",
      " #   plot(table.E,fitted.predict())\n",
      "    \n",
      " #   kvalue = fitted.params[0]\n",
      "    \n",
      " #   charge = fitted_charge(corrections={k:kvalue})\n",
      "    \n",
      "#    title('k = %g \\n q = %f' %(kvalue,charge))\n",
      "    \n",
      "    #return fitted\n",
      "    #Y = table.v\n",
      "    \n",
      "DataFrame.plot_table = plot_table"
     ],
     "language": "python",
     "metadata": {},
     "outputs": [],
     "prompt_number": 203
    },
    {
     "cell_type": "code",
     "collapsed": false,
     "input": [
      "def fitted_params(self, a=0,b=20):\n",
      "    \n",
      "    table = self\n",
      "    \n",
      "    crit = (table.index >= a) * (table.index <= b) *(table.index!=1)#* (table.index!=10)\n",
      "    \n",
      "    E = table.E \n",
      "    v = table.v\n",
      "    \n",
      "    #print crit\n",
      "    #E = table.E[crit]\n",
      "    #v = table.v[crit]\n",
      "    \n",
      "    plot(E[crit],v[crit],'o',label='used for fit')\n",
      "    \n",
      "    plot(E[crit==False],v[crit==False],'x', label='other points for this drop')\n",
      "    \n",
      "    xlabel('E, V/mm')\n",
      "    ylabel(r'$v, \\mu m/sek$')\n",
      "    legend(loc=2)\n",
      "    grid()\n",
      "    \n",
      "    X = E[crit]\n",
      "    Y = v[crit]\n",
      "    X = sm.add_constant(X)\n",
      "    \n",
      "    #print X\n",
      "    model = sm.OLS(Y,X)\n",
      "    fitted = model.fit()\n",
      "    #errorbar(t,eps,yerr=sig,fmt='o')\n",
      "    \n",
      "    plot(E[crit],fitted.predict())\n",
      "    \n",
      "    kvalue = fitted.params[0]\n",
      "    kdelta = fitted.delta()[0]\n",
      "    r = kdelta/kvalue * 100\n",
      "    \n",
      "    #charge = fitted_charge(corrections={k:kvalue})\n",
      "    \n",
      "    title('k = %4.4g [r = %2.1f %%]' %(kvalue,r))\n",
      "    \n",
      "    return fitted\n",
      "    #Y = table.v\n",
      "    \n",
      "DataFrame.fitted_params = fitted_params"
     ],
     "language": "python",
     "metadata": {},
     "outputs": [],
     "prompt_number": 247
    },
    {
     "cell_type": "code",
     "collapsed": false,
     "input": [
      "filename = '1tabula'\n",
      "table = read_table(filename,header=3)\n",
      "table['E'] = (table.U)/definitions[d]\n",
      "table['v'] = 1e-3/(table.t)\n",
      "\n",
      "lad = [electrons({E:Ei,v_r:vi}) for Ei,vi in zip(table.E,table.v)]\n",
      "\n",
      "display(table)"
     ],
     "language": "python",
     "metadata": {},
     "outputs": [
      {
       "html": [
        "<div style=\"max-height:1000px;max-width:1500px;overflow:auto;\">\n",
        "<table border=\"1\">\n",
        "  <thead>\n",
        "    <tr>\n",
        "      <th></th>\n",
        "      <th>U</th>\n",
        "      <th>t</th>\n",
        "      <th>E</th>\n",
        "      <th>v</th>\n",
        "    </tr>\n",
        "  </thead>\n",
        "  <tbody>\n",
        "    <tr>\n",
        "      <td><strong>0</strong></td>\n",
        "      <td> 503</td>\n",
        "      <td>   5.72</td>\n",
        "      <td> 66184.210526</td>\n",
        "      <td> 0.000175</td>\n",
        "    </tr>\n",
        "    <tr>\n",
        "      <td><strong>1</strong></td>\n",
        "      <td>-503</td>\n",
        "      <td>  -7.81</td>\n",
        "      <td>-66184.210526</td>\n",
        "      <td>-0.000128</td>\n",
        "    </tr>\n",
        "    <tr>\n",
        "      <td><strong>2</strong></td>\n",
        "      <td> 400</td>\n",
        "      <td>   6.65</td>\n",
        "      <td> 52631.578947</td>\n",
        "      <td> 0.000150</td>\n",
        "    </tr>\n",
        "    <tr>\n",
        "      <td><strong>3</strong></td>\n",
        "      <td>-400</td>\n",
        "      <td> -10.56</td>\n",
        "      <td>-52631.578947</td>\n",
        "      <td>-0.000095</td>\n",
        "    </tr>\n",
        "    <tr>\n",
        "      <td><strong>4</strong></td>\n",
        "      <td> 299</td>\n",
        "      <td>   8.88</td>\n",
        "      <td> 39342.105263</td>\n",
        "      <td> 0.000113</td>\n",
        "    </tr>\n",
        "    <tr>\n",
        "      <td><strong>5</strong></td>\n",
        "      <td>-299</td>\n",
        "      <td> -15.06</td>\n",
        "      <td>-39342.105263</td>\n",
        "      <td>-0.000066</td>\n",
        "    </tr>\n",
        "    <tr>\n",
        "      <td><strong>6</strong></td>\n",
        "      <td> 201</td>\n",
        "      <td>  41.96</td>\n",
        "      <td> 26447.368421</td>\n",
        "      <td> 0.000024</td>\n",
        "    </tr>\n",
        "    <tr>\n",
        "      <td><strong>7</strong></td>\n",
        "      <td>-201</td>\n",
        "      <td>-137.50</td>\n",
        "      <td>-26447.368421</td>\n",
        "      <td>-0.000007</td>\n",
        "    </tr>\n",
        "    <tr>\n",
        "      <td><strong>8</strong></td>\n",
        "      <td> 251</td>\n",
        "      <td>  16.15</td>\n",
        "      <td> 33026.315789</td>\n",
        "      <td> 0.000062</td>\n",
        "    </tr>\n",
        "    <tr>\n",
        "      <td><strong>9</strong></td>\n",
        "      <td>-251</td>\n",
        "      <td> -64.32</td>\n",
        "      <td>-33026.315789</td>\n",
        "      <td>-0.000016</td>\n",
        "    </tr>\n",
        "    <tr>\n",
        "      <td><strong>10</strong></td>\n",
        "      <td> 351</td>\n",
        "      <td>  34.38</td>\n",
        "      <td> 46184.210526</td>\n",
        "      <td> 0.000029</td>\n",
        "    </tr>\n",
        "    <tr>\n",
        "      <td><strong>11</strong></td>\n",
        "      <td>-351</td>\n",
        "      <td> -36.56</td>\n",
        "      <td>-46184.210526</td>\n",
        "      <td>-0.000027</td>\n",
        "    </tr>\n",
        "    <tr>\n",
        "      <td><strong>12</strong></td>\n",
        "      <td> 500</td>\n",
        "      <td>  10.22</td>\n",
        "      <td> 65789.473684</td>\n",
        "      <td> 0.000098</td>\n",
        "    </tr>\n",
        "    <tr>\n",
        "      <td><strong>13</strong></td>\n",
        "      <td>-500</td>\n",
        "      <td> -19.84</td>\n",
        "      <td>-65789.473684</td>\n",
        "      <td>-0.000050</td>\n",
        "    </tr>\n",
        "    <tr>\n",
        "      <td><strong>14</strong></td>\n",
        "      <td> 451</td>\n",
        "      <td>  11.35</td>\n",
        "      <td> 59342.105263</td>\n",
        "      <td> 0.000088</td>\n",
        "    </tr>\n",
        "    <tr>\n",
        "      <td><strong>15</strong></td>\n",
        "      <td>-451</td>\n",
        "      <td> -24.10</td>\n",
        "      <td>-59342.105263</td>\n",
        "      <td>-0.000041</td>\n",
        "    </tr>\n",
        "    <tr>\n",
        "      <td><strong>16</strong></td>\n",
        "      <td> 401</td>\n",
        "      <td>  12.12</td>\n",
        "      <td> 52763.157895</td>\n",
        "      <td> 0.000083</td>\n",
        "    </tr>\n",
        "    <tr>\n",
        "      <td><strong>17</strong></td>\n",
        "      <td>-401</td>\n",
        "      <td> -27.82</td>\n",
        "      <td>-52763.157895</td>\n",
        "      <td>-0.000036</td>\n",
        "    </tr>\n",
        "    <tr>\n",
        "      <td><strong>18</strong></td>\n",
        "      <td> 349</td>\n",
        "      <td>  13.10</td>\n",
        "      <td> 45921.052632</td>\n",
        "      <td> 0.000076</td>\n",
        "    </tr>\n",
        "    <tr>\n",
        "      <td><strong>19</strong></td>\n",
        "      <td>-349</td>\n",
        "      <td> -33.62</td>\n",
        "      <td>-45921.052632</td>\n",
        "      <td>-0.000030</td>\n",
        "    </tr>\n",
        "    <tr>\n",
        "      <td><strong>20</strong></td>\n",
        "      <td> 301</td>\n",
        "      <td>  15.06</td>\n",
        "      <td> 39605.263158</td>\n",
        "      <td> 0.000066</td>\n",
        "    </tr>\n",
        "    <tr>\n",
        "      <td><strong>21</strong></td>\n",
        "      <td>-301</td>\n",
        "      <td> -42.08</td>\n",
        "      <td>-39605.263158</td>\n",
        "      <td>-0.000024</td>\n",
        "    </tr>\n",
        "  </tbody>\n",
        "</table>\n",
        "</div>"
       ],
       "output_type": "display_data",
       "text": [
        "      U       t             E         v\n",
        "0   503    5.72  66184.210526  0.000175\n",
        "1  -503   -7.81 -66184.210526 -0.000128\n",
        "2   400    6.65  52631.578947  0.000150\n",
        "3  -400  -10.56 -52631.578947 -0.000095\n",
        "4   299    8.88  39342.105263  0.000113\n",
        "5  -299  -15.06 -39342.105263 -0.000066\n",
        "6   201   41.96  26447.368421  0.000024\n",
        "7  -201 -137.50 -26447.368421 -0.000007\n",
        "8   251   16.15  33026.315789  0.000062\n",
        "9  -251  -64.32 -33026.315789 -0.000016\n",
        "10  351   34.38  46184.210526  0.000029\n",
        "11 -351  -36.56 -46184.210526 -0.000027\n",
        "12  500   10.22  65789.473684  0.000098\n",
        "13 -500  -19.84 -65789.473684 -0.000050\n",
        "14  451   11.35  59342.105263  0.000088\n",
        "15 -451  -24.10 -59342.105263 -0.000041\n",
        "16  401   12.12  52763.157895  0.000083\n",
        "17 -401  -27.82 -52763.157895 -0.000036\n",
        "18  349   13.10  45921.052632  0.000076\n",
        "19 -349  -33.62 -45921.052632 -0.000030\n",
        "20  301   15.06  39605.263158  0.000066\n",
        "21 -301  -42.08 -39605.263158 -0.000024"
       ]
      }
     ],
     "prompt_number": 28
    },
    {
     "cell_type": "heading",
     "level": 3,
     "metadata": {},
     "source": [
      "Izmanto\u0161ana"
     ]
    },
    {
     "cell_type": "markdown",
     "metadata": {},
     "source": [
      "1. Tiek p\u0101rbaud\u012bts vai iestat\u012bt\u0101s defin\u012bciju v\u0113rt\u012bbas ir patiesas\n",
      "\n",
      "2. Veic m\u0113rijumus, kad kamer\u0101 nav elektrisk\u0101 lauka un ieraksta tos fail\u0101 \"piesatinajums\"\n",
      "\n",
      "3. No qtconsoles izsauc komandu piesatinajums(), kas atjaunin\u0101s definitions v_f v\u0113rt\u012bbu ar jauno tuvin\u0101jumu\n",
      "\n",
      "4. Veic m\u0113rijumus piliena laikam(lai pieveiktu divas liel\u0101s ieda\u013cas) no piesl\u0113gt\u0101 sprieguma\n",
      "\n",
      "5. Izsauc komandu plot_table() ar tabulas nosaukumu\n",
      "\n",
      "6. Papildus, lai p\u0101rbaud\u012btu elektronu skaitu var izmantot komandu electrons({v_r:5e-5, E:5e4, U:400, t=30})"
     ]
    },
    {
     "cell_type": "heading",
     "level": 3,
     "metadata": {},
     "source": [
      "Tabulas"
     ]
    },
    {
     "cell_type": "markdown",
     "metadata": {},
     "source": [
      "1. katram pilienam v0 noteik\u0161anai izmantojamo tabulu [Npk, t[sek],v0/msek]"
     ]
    },
    {
     "cell_type": "code",
     "collapsed": false,
     "input": [
      "run /home/akels/Dropbox/progr/Latex/Labori/Nr12/module.py"
     ],
     "language": "python",
     "metadata": {},
     "outputs": [],
     "prompt_number": 105
    },
    {
     "cell_type": "code",
     "collapsed": false,
     "input": [
      "%load 117"
     ],
     "language": "python",
     "metadata": {},
     "outputs": [],
     "prompt_number": 119
    },
    {
     "cell_type": "code",
     "collapsed": false,
     "input": [
      "pies = read_table('piesatinajums1',header=3)\n",
      "pies['v'] = 1e3/pies.t\n",
      "pret = pies.pretty([('t','t, sek'),('v','$v_f$ m/sek')])\n",
      "pret.to_latex('1pies')"
     ],
     "language": "python",
     "metadata": {},
     "outputs": []
    },
    {
     "cell_type": "code",
     "collapsed": false,
     "input": [
      "%load 195 197 204 208"
     ],
     "language": "python",
     "metadata": {},
     "outputs": [],
     "prompt_number": 209
    },
    {
     "cell_type": "code",
     "collapsed": false,
     "input": [
      "piliens1 = read_table('1tabula',header=3)\n",
      "piliens1.update_vf('piesatinajums1')\n",
      "piliens1.compute()\n",
      "piliens1.fitted_params()"
     ],
     "language": "python",
     "metadata": {},
     "outputs": [
      {
       "output_type": "display_data",
       "png": "[encoded data removed]",
       "text": [
        "41.677777777777777"
       ]
      },
      {
       "output_type": "stream",
       "stream": "stdout",
       "text": [
        "v0 = 2.39936e-05  r = 9.01109 %\n"
       ]
      },
      {
       "output_type": "pyout",
       "prompt_number": 210,
       "text": [
        "<statsmodels.regression.linear_model.RegressionResultsWrapper object at 0xb3da\n",
        "2ac>"
       ]
      },
      {
       "output_type": "display_data",
       "png": "[encoded data removed]",
       "text": [
        "Figure(480x320)"
       ]
      }
     ],
     "prompt_number": 210
    },
    {
     "cell_type": "code",
     "collapsed": false,
     "input": [],
     "language": "python",
     "metadata": {},
     "outputs": []
    }
   ],
   "metadata": {}
  }
 ]
}