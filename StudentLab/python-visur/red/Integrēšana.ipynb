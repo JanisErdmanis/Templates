{
 "metadata": {
  "name": "Integr\u0113\u0161ana"
 },
 "nbformat": 3,
 "nbformat_minor": 0,
 "worksheets": [
  {
   "cells": [
    {
     "cell_type": "code",
     "collapsed": false,
     "input": [
      "from sympy import *\n",
      "%load_ext sympyprinting"
     ],
     "language": "python",
     "metadata": {},
     "outputs": [],
     "prompt_number": 6
    },
    {
     "cell_type": "code",
     "collapsed": false,
     "input": [
      "var('k t omega')\n",
      "eq = exp(k*t)*cos(omega*t)"
     ],
     "language": "python",
     "metadata": {},
     "outputs": [],
     "prompt_number": 7
    },
    {
     "cell_type": "code",
     "collapsed": false,
     "input": [
      "eq2=integrate(eq,t).together()/exp(k*t)\n",
      "eq2"
     ],
     "language": "python",
     "metadata": {},
     "outputs": [
      {
       "latex": [
        "$$\\frac{k \\operatorname{cos}\\left(\\omega t\\right) + \\omega \\operatorname{sin}\\left(\\omega t\\right)}{k^{2} + \\omega^{2}}$$"
       ],
       "output_type": "pyout",
       "png": "[encoded data removed]",
       "prompt_number": 9,
       "text": [
        "\n",
        "k\u22c5cos(\u03c9\u22c5t) + \u03c9\u22c5sin(\u03c9\u22c5t)\n",
        "\u2500\u2500\u2500\u2500\u2500\u2500\u2500\u2500\u2500\u2500\u2500\u2500\u2500\u2500\u2500\u2500\u2500\u2500\u2500\u2500\u2500\u2500\u2500\n",
        "         2    2        \n",
        "        k  + \u03c9         "
       ]
      }
     ],
     "prompt_number": 9
    },
    {
     "cell_type": "code",
     "collapsed": false,
     "input": [
      "var('T0 T1')\n",
      "u = T0 + k*T1*eq2\n",
      "u"
     ],
     "language": "python",
     "metadata": {},
     "outputs": [
      {
       "latex": [
        "$$T_{0} + \\frac{T_{1} k \\left(k \\operatorname{cos}\\left(\\omega t\\right) + \\omega \\operatorname{sin}\\left(\\omega t\\right)\\right)}{k^{2} + \\omega^{2}}$$"
       ],
       "output_type": "pyout",
       "png": "[encoded data removed]",
       "prompt_number": 13,
       "text": [
        "\n",
        "     T\u2081\u22c5k\u22c5(k\u22c5cos(\u03c9\u22c5t) + \u03c9\u22c5sin(\u03c9\u22c5t))\n",
        "T\u2080 + \u2500\u2500\u2500\u2500\u2500\u2500\u2500\u2500\u2500\u2500\u2500\u2500\u2500\u2500\u2500\u2500\u2500\u2500\u2500\u2500\u2500\u2500\u2500\u2500\u2500\u2500\u2500\u2500\u2500\u2500\n",
        "                 2    2            \n",
        "                k  + \u03c9             "
       ]
      }
     ],
     "prompt_number": 13
    },
    {
     "cell_type": "code",
     "collapsed": false,
     "input": [
      "u.diff(t)"
     ],
     "language": "python",
     "metadata": {},
     "outputs": [
      {
       "latex": [
        "$$\\frac{T_{1} k \\left(- k \\omega \\operatorname{sin}\\left(\\omega t\\right) + \\omega^{2} \\operatorname{cos}\\left(\\omega t\\right)\\right)}{k^{2} + \\omega^{2}}$$"
       ],
       "output_type": "pyout",
       "png": "[encoded data removed]",
       "prompt_number": 14,
       "text": [
        "\n",
        "     \u239b                 2         \u239e\n",
        "T\u2081\u22c5k\u22c5\u239d-k\u22c5\u03c9\u22c5sin(\u03c9\u22c5t) + \u03c9 \u22c5cos(\u03c9\u22c5t)\u23a0\n",
        "\u2500\u2500\u2500\u2500\u2500\u2500\u2500\u2500\u2500\u2500\u2500\u2500\u2500\u2500\u2500\u2500\u2500\u2500\u2500\u2500\u2500\u2500\u2500\u2500\u2500\u2500\u2500\u2500\u2500\u2500\u2500\u2500\u2500\u2500\n",
        "              2    2              \n",
        "             k  + \u03c9               "
       ]
      }
     ],
     "prompt_number": 14
    },
    {
     "cell_type": "code",
     "collapsed": false,
     "input": [
      "T = T0 + T1*cos(omega*t)\n",
      "T"
     ],
     "language": "python",
     "metadata": {},
     "outputs": [
      {
       "latex": [
        "$$T_{0} + T_{1} \\operatorname{cos}\\left(\\omega t\\right)$$"
       ],
       "output_type": "pyout",
       "png": "[encoded data removed]",
       "prompt_number": 15,
       "text": [
        "T\u2080 + T\u2081\u22c5cos(\u03c9\u22c5t)"
       ]
      }
     ],
     "prompt_number": 15
    },
    {
     "cell_type": "code",
     "collapsed": false,
     "input": [
      "var('C')\n",
      "u = exp(-k*t)*(k*integrate(exp(k*t)*T,t))"
     ],
     "language": "python",
     "metadata": {},
     "outputs": [],
     "prompt_number": 31
    },
    {
     "cell_type": "code",
     "collapsed": false,
     "input": [
      "simplify(u).diff(t).together()"
     ],
     "language": "python",
     "metadata": {},
     "outputs": [
      {
       "latex": [
        "$$\\frac{T_{1} k \\omega \\left(- k \\operatorname{sin}\\left(\\omega t\\right) + \\omega \\operatorname{cos}\\left(\\omega t\\right)\\right)}{k^{2} + \\omega^{2}}$$"
       ],
       "output_type": "pyout",
       "png": "[encoded data removed]",
       "prompt_number": 32,
       "text": [
        "\n",
        "T\u2081\u22c5k\u22c5\u03c9\u22c5(-k\u22c5sin(\u03c9\u22c5t) + \u03c9\u22c5cos(\u03c9\u22c5t))\n",
        "\u2500\u2500\u2500\u2500\u2500\u2500\u2500\u2500\u2500\u2500\u2500\u2500\u2500\u2500\u2500\u2500\u2500\u2500\u2500\u2500\u2500\u2500\u2500\u2500\u2500\u2500\u2500\u2500\u2500\u2500\u2500\u2500\u2500\n",
        "              2    2             \n",
        "             k  + \u03c9              "
       ]
      }
     ],
     "prompt_number": 32
    },
    {
     "cell_type": "code",
     "collapsed": false,
     "input": [
      "(-k*(u-T)).simplify()"
     ],
     "language": "python",
     "metadata": {},
     "outputs": [
      {
       "latex": [
        "$$\\frac{T_{1} k \\omega \\left(- k \\operatorname{sin}\\left(\\omega t\\right) + \\omega \\operatorname{cos}\\left(\\omega t\\right)\\right)}{k^{2} + \\omega^{2}}$$"
       ],
       "output_type": "pyout",
       "png": "[encoded data removed]",
       "prompt_number": 33,
       "text": [
        "\n",
        "T\u2081\u22c5k\u22c5\u03c9\u22c5(-k\u22c5sin(\u03c9\u22c5t) + \u03c9\u22c5cos(\u03c9\u22c5t))\n",
        "\u2500\u2500\u2500\u2500\u2500\u2500\u2500\u2500\u2500\u2500\u2500\u2500\u2500\u2500\u2500\u2500\u2500\u2500\u2500\u2500\u2500\u2500\u2500\u2500\u2500\u2500\u2500\u2500\u2500\u2500\u2500\u2500\u2500\n",
        "              2    2             \n",
        "             k  + \u03c9              "
       ]
      }
     ],
     "prompt_number": 33
    },
    {
     "cell_type": "code",
     "collapsed": false,
     "input": [
      "u.simplify()"
     ],
     "language": "python",
     "metadata": {},
     "outputs": [
      {
       "latex": [
        "$$\\frac{T_{0} k^{2} + T_{0} \\omega^{2} + T_{1} k^{2} \\operatorname{cos}\\left(\\omega t\\right) + T_{1} k \\omega \\operatorname{sin}\\left(\\omega t\\right)}{k^{2} + \\omega^{2}}$$"
       ],
       "output_type": "pyout",
       "png": "[encoded data removed]",
       "prompt_number": 35,
       "text": [
        "\n",
        "    2       2       2                           \n",
        "T\u2080\u22c5k  + T\u2080\u22c5\u03c9  + T\u2081\u22c5k \u22c5cos(\u03c9\u22c5t) + T\u2081\u22c5k\u22c5\u03c9\u22c5sin(\u03c9\u22c5t)\n",
        "\u2500\u2500\u2500\u2500\u2500\u2500\u2500\u2500\u2500\u2500\u2500\u2500\u2500\u2500\u2500\u2500\u2500\u2500\u2500\u2500\u2500\u2500\u2500\u2500\u2500\u2500\u2500\u2500\u2500\u2500\u2500\u2500\u2500\u2500\u2500\u2500\u2500\u2500\u2500\u2500\u2500\u2500\u2500\u2500\u2500\u2500\u2500\u2500\n",
        "                     2    2                     \n",
        "                    k  + \u03c9                      "
       ]
      }
     ],
     "prompt_number": 35
    },
    {
     "cell_type": "code",
     "collapsed": false,
     "input": [],
     "language": "python",
     "metadata": {},
     "outputs": []
    }
   ],
   "metadata": {}
  }
 ]
}