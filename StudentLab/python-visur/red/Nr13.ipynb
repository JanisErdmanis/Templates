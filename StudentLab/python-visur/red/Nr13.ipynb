{
 "metadata": {
  "name": "Nr13"
 },
 "nbformat": 3,
 "nbformat_minor": 0,
 "worksheets": [
  {
   "cells": [
    {
     "cell_type": "code",
     "collapsed": false,
     "input": [
      "cd /home/akels/Dropbox/Programming_for_physics/Latex/Labori/Nr13"
     ],
     "language": "python",
     "metadata": {},
     "outputs": [
      {
       "output_type": "stream",
       "stream": "stdout",
       "text": [
        "/home/akels/Dropbox/Programming_for_physics/Latex/Labori/Nr13\n"
       ]
      }
     ],
     "prompt_number": 748
    },
    {
     "cell_type": "code",
     "collapsed": false,
     "input": [
      "ls"
     ],
     "language": "python",
     "metadata": {},
     "outputs": [
      {
       "output_type": "stream",
       "stream": "stdout",
       "text": [
        "Labors.tex           paralel_dati~  tabular.tex  virknes_dati\r\n",
        "\u001b[0m\u001b[01;34mmatrix2latexPython\u001b[0m/  paralels.png   tiny.tex     virknes_dati~\r\n",
        "paralel_dati         paralels.tex   virkne.png   virkne.tex\r\n"
       ]
      }
     ],
     "prompt_number": 749
    },
    {
     "cell_type": "code",
     "collapsed": false,
     "input": [
      "cat 'virknes_dati'"
     ],
     "language": "python",
     "metadata": {},
     "outputs": [
      {
       "output_type": "stream",
       "stream": "stdout",
       "text": [
        "U_z = 2.00 V, C=3.6 mikro_faradi[ar 5 % grade], R=16.2 omi\r\n",
        "f,Hz\tI,mA\tU_c,V\tU_l,V\r\n",
        "271.387\t95.1\t15.27\t16.54\r\n",
        "282.438\t64.4\t9.93\t11.67\r\n",
        "293.328\t48.3\t7.21\t9.08\r\n",
        "294.445\t47.1\t7.00\t8.87\r\n",
        "311.667\t33.\t4.64\t6.61\r\n",
        "325.575\t26.6\t3.57\t5.56\r\n",
        "337.139\t23.0\t2.99\t4.99\r\n",
        "347.504\t20.6\t2.59\t4.60\r\n",
        "368.135\t17\t2.03\t4.05\r\n",
        "398.970\t13.6\t1.50\t3.53\r\n",
        "440.474\t10.8\t1.07\t3.12\r\n",
        "616.622\t5.8\t0.40\t2.46\r\n",
        "823.98\t3.7\t0.17\t2.26\r\n",
        "275.646\t83.7\t13.26\t14.74\r\n",
        "278.754\t75.1\t11.76\t13.37\r\n",
        "266.382\t114.2\t18.71\t19.42\r\n",
        "258.302\t118.2\t19.97\t19.49\r\n",
        "255.232\t109.5\t18.72\t17.85\r\n",
        "243.460\t69.4\t12.46\t10.82\r\n",
        "261.269\t121.8\t20.1\t20.3\r\n",
        "247.721\t82.4\t14.52\t13.04\r\n",
        "114.710\t6.5\t2.48\t0.49\r\n",
        "235.702\t52.5\t9.73\t7.92\r\n",
        "165.337\t12.5\t3.32\t1.34\r\n",
        "215.430\t29.9\t6.08\t4.14\r\n",
        "195.422\t20.2\t4.52\t2.54\r\n"
       ]
      }
     ],
     "prompt_number": 750
    },
    {
     "cell_type": "code",
     "collapsed": false,
     "input": [
      "cat 'paralel_dati'"
     ],
     "language": "python",
     "metadata": {},
     "outputs": [
      {
       "output_type": "stream",
       "stream": "stdout",
       "text": [
        "C = 3.6 mikroF, R = 16.2 omi U_z=2.00 V\r\n",
        "f,Hz\tI,mA\tI_c,mA\tI_l,mA\r\n",
        "270.203\t2.89\t12.70\t11.66\r\n",
        "258.710\t2.78\t12.13\t12.13\r\n",
        "260.004\t2.76\t12.16\t12.04\r\n",
        "249.813\t2.97\t11.70\t12.53\r\n",
        "239.783\t3.47\t11.24\t13.06\r\n",
        "229.623\t4.17\t10.75\t13.60\r\n",
        "118.089\t20.9\t5.51\t25.9\r\n",
        "158.667\t12.64\t7.38\t19.02\r\n",
        "77.165\t35.3\t3.6\t38.3\r\n",
        "280.364\t3.22\t13.07\t11.15\r\n",
        "300.390\t4.34\t14.00\t10.43\r\n",
        "360.886\t8.53\t17.01\t8.75\r\n",
        "402.279\t11.18\t18.87\t7.87\r\n",
        "483.548\t16.31\t22.8\t6.3\r\n",
        "565.082\t20.5\t26.5\t5.2\r\n"
       ]
      }
     ],
     "prompt_number": 751
    },
    {
     "cell_type": "code",
     "collapsed": false,
     "input": [
      "%load_ext sympyprinting"
     ],
     "language": "python",
     "metadata": {},
     "outputs": [],
     "prompt_number": 752
    },
    {
     "cell_type": "code",
     "collapsed": false,
     "input": [
      "class AttrDict(dict):\n",
      "\t\"\"\"A dictionary with attribute-style access. It maps attribute access to\n",
      "\tthe real dictionary.  \"\"\"\n",
      "\tdef __init__(self, init={}):\n",
      "\t\tdict.__init__(self, init)\n",
      "\n",
      "\tdef __getstate__(self):\n",
      "\t\treturn self.__dict__.items()\n",
      "\n",
      "\tdef __setstate__(self, items):\n",
      "\t\tfor key, val in items:\n",
      "\t\t\tself.__dict__[key] = val\n",
      "\n",
      "\tdef __repr__(self):\n",
      "\t\treturn \"%s(%s)\" % (self.__class__.__name__, dict.__repr__(self))\n",
      "\n",
      "\tdef __setitem__(self, key, value):\n",
      "\t\treturn super(AttrDict, self).__setitem__(key, value)\n",
      "\n",
      "\tdef __getitem__(self, name):\n",
      "\t\treturn super(AttrDict, self).__getitem__(name)\n",
      "\n",
      "\tdef __delitem__(self, name):\n",
      "\t\treturn super(AttrDict, self).__delitem__(name)\n",
      "\n",
      "\t__getattr__ = __getitem__\n",
      "\t__setattr__ = __setitem__\n",
      "\n",
      "\tdef copy(self):\n",
      "\t\tch = AttrDict(self)\n",
      "\t\treturn ch"
     ],
     "language": "python",
     "metadata": {},
     "outputs": [],
     "prompt_number": 753
    },
    {
     "cell_type": "code",
     "collapsed": false,
     "input": [
      "import sympy as sp"
     ],
     "language": "python",
     "metadata": {},
     "outputs": [],
     "prompt_number": 754
    },
    {
     "cell_type": "heading",
     "level": 3,
     "metadata": {},
     "source": [
      "Virknes sl\u0113gums"
     ]
    },
    {
     "cell_type": "code",
     "collapsed": false,
     "input": [
      "v,e,eq,f = [AttrDict(),AttrDict(),AttrDict(),AttrDict()]"
     ],
     "language": "python",
     "metadata": {},
     "outputs": [],
     "prompt_number": 755
    },
    {
     "cell_type": "code",
     "collapsed": false,
     "input": [
      "cat 'virknes_dati' | head "
     ],
     "language": "python",
     "metadata": {},
     "outputs": [
      {
       "output_type": "stream",
       "stream": "stdout",
       "text": [
        "U_z = 2.00 V, C=3.6 mikro_faradi[ar 5 % grade], R=16.2 omi\r\n",
        "f,Hz\tI,mA\tU_c,V\tU_l,V\r\n",
        "271.387\t95.1\t15.27\t16.54\r\n",
        "282.438\t64.4\t9.93\t11.67\r\n",
        "293.328\t48.3\t7.21\t9.08\r\n",
        "294.445\t47.1\t7.00\t8.87\r\n",
        "311.667\t33.\t4.64\t6.61\r\n",
        "325.575\t26.6\t3.57\t5.56\r\n",
        "337.139\t23.0\t2.99\t4.99\r\n",
        "347.504\t20.6\t2.59\t4.60\r\n"
       ]
      }
     ],
     "prompt_number": 756
    },
    {
     "cell_type": "code",
     "collapsed": false,
     "input": [
      "#v.f, v.I, v.uc, v.ul\n",
      "dati = loadtxt('virknes_dati',delimiter='\\t',usecols=(0,1,2,3),unpack=True,skiprows=2)\n",
      "s = lexsort((dati[0],))\n",
      "v.f, v.I, v.uc, v.ul = [i[s] for i in dati]\n",
      "v.R = 16.2\n",
      "v.uz = 2.00"
     ],
     "language": "python",
     "metadata": {},
     "outputs": [],
     "prompt_number": 757
    },
    {
     "cell_type": "code",
     "collapsed": false,
     "input": [
      "e.R = 0.008**v.R +0.1\n",
      "e.I = v.I*0.018 + 0.1 \n",
      "e.uc = v.uc*0.008 + 0.01\n",
      "e.ul = v.ul*0.008 + 0.01"
     ],
     "language": "python",
     "metadata": {},
     "outputs": [],
     "prompt_number": 758
    },
    {
     "cell_type": "code",
     "collapsed": false,
     "input": [
      "import sympy as s\n",
      "s.var('U_c U_l omega I X_c Z_l Q L C')"
     ],
     "language": "python",
     "metadata": {},
     "outputs": [
      {
       "latex": [
        "$$\\begin{pmatrix}U_{c}, & U_{l}, & \\omega, & I, & X_{c}, & Z_{l}, & Q, & L, & C\\end{pmatrix}$$"
       ],
       "output_type": "pyout",
       "prompt_number": 759,
       "text": [
        "(U_c, U_l, \u03c9, I, X_c, Z_l, Q, L, C)"
       ]
      }
     ],
     "prompt_number": 759
    },
    {
     "cell_type": "code",
     "collapsed": false,
     "input": [
      "v.o = 2* pi * v.f\n",
      "#e.o = v.o * e.f/v.f\n",
      "\n",
      "v.xc = v.uc/v.I*1e3\n",
      "v.zl = v.ul/v.I*1e3\n",
      "\n",
      "e.xc = v.xc*sqrt((e.uc/v.uc)**2 + (e.I/v.I)**2)\n",
      "e.zl = v.zl*sqrt((e.I/v.I)**2 + (e.ul/v.ul)**2)\n",
      "\n",
      "v.C = 1/(v.o*v.xc)\n",
      "e.C = v.C*e.xc/v.xc\n",
      "\n",
      "v.Q = 1/v.R*s.sqrt(L/C)"
     ],
     "language": "python",
     "metadata": {},
     "outputs": [],
     "prompt_number": 760
    },
    {
     "cell_type": "code",
     "collapsed": false,
     "input": [
      "\n",
      "eq.L = s.sqrt(Z_l**2-R**2)/omega\n",
      "eq.Q = 1/R*s.sqrt(L/C) \n",
      "\n",
      "eq.I_r=1/s.sqrt(1/Q**2 + (omega_r-1/omega_r)**2)\n",
      "eq.I_r2=eq.I_r.subs({omega_r:omega*s.sqrt(L*C),Q:eq.Q}) #lai ieg\u016btu skaistu funkciju str\u0101vai\n",
      "\n",
      "(eq.L,eq.I_r2)"
     ],
     "language": "python",
     "metadata": {},
     "outputs": [
      {
       "latex": [
        "$$\\begin{pmatrix}\\frac{\\sqrt{- R^{2} + Z_{l}^{2}}}{\\omega}, & \\frac{1}{\\sqrt{\\frac{C R^{2}}{L} + \\left(\\omega \\sqrt{C L} - \\frac{1}{\\omega \\sqrt{C L}}\\right)^{2}}}\\end{pmatrix}$$"
       ],
       "output_type": "pyout",
       "prompt_number": 761,
       "text": [
        "(\n",
        "   \u23bd\u23bd\u23bd\u23bd\u23bd\u23bd\u23bd\u23bd\u23bd\u23bd\u23bd\u23bd\u23bd\n",
        "  \u2571    2      2 \n",
        "\u2572\u2571  - R  + Z_l  \n",
        "\u2500\u2500\u2500\u2500\u2500\u2500\u2500\u2500\u2500\u2500\u2500\u2500\u2500\u2500\u2500\u2500\n",
        "       \u03c9        ,\n",
        " \n",
        "                   1                   \n",
        "\u2500\u2500\u2500\u2500\u2500\u2500\u2500\u2500\u2500\u2500\u2500\u2500\u2500\u2500\u2500\u2500\u2500\u2500\u2500\u2500\u2500\u2500\u2500\u2500\u2500\u2500\u2500\u2500\u2500\u2500\u2500\u2500\u2500\u2500\u2500\u2500\u2500\u2500\u2500\n",
        "      \u23bd\u23bd\u23bd\u23bd\u23bd\u23bd\u23bd\u23bd\u23bd\u23bd\u23bd\u23bd\u23bd\u23bd\u23bd\u23bd\u23bd\u23bd\u23bd\u23bd\u23bd\u23bd\u23bd\u23bd\u23bd\u23bd\u23bd\u23bd\u23bd\u23bd\u23bd\u23bd\u23bd\n",
        "     \u2571    2                          2 \n",
        "    \u2571  C\u22c5R    \u239b    \u23bd\u23bd\u23bd\u23bd\u23bd       1    \u239e  \n",
        "   \u2571   \u2500\u2500\u2500\u2500 + \u239c\u03c9\u22c5\u2572\u2571 C\u22c5L  - \u2500\u2500\u2500\u2500\u2500\u2500\u2500\u2500\u2500\u239f  \n",
        "  \u2571     L     \u239c                \u23bd\u23bd\u23bd\u23bd\u23bd\u239f  \n",
        "\u2572\u2571            \u239d            \u03c9\u22c5\u2572\u2571 C\u22c5L \u23a0  )"
       ]
      }
     ],
     "prompt_number": 761
    },
    {
     "cell_type": "code",
     "collapsed": false,
     "input": [
      "f.L = s.lambdify((R,Z_l,omega),eq.L,'numpy')\n",
      "f.I_r = s.lambdify((C,R,L,omega),eq.I_r2)"
     ],
     "language": "python",
     "metadata": {},
     "outputs": [],
     "prompt_number": 762
    },
    {
     "cell_type": "code",
     "collapsed": false,
     "input": [
      "v.L = f.L(16.2,v.zl,v.o)\n",
      "\n",
      "e.L_R = f.L(16.2+0.1,v.zl,v.o) - v.L\n",
      "e.L_zl = f.L(16.2,v.zl+e.zl,v.o) - v.L\n",
      "#e.L_o = f.L(16.2,v.zl,v.o+e.o) - v.L\n",
      "e.L = sqrt(e.L_R**2 + e.L_zl**2)"
     ],
     "language": "python",
     "metadata": {},
     "outputs": [],
     "prompt_number": 763
    },
    {
     "cell_type": "heading",
     "level": 4,
     "metadata": {},
     "source": [
      "Vid\u0113j\u0101 v\u0113rt\u012bba"
     ]
    },
    {
     "cell_type": "code",
     "collapsed": false,
     "input": [
      "#from scipy.interpolate import UnivariateSpline"
     ],
     "language": "python",
     "metadata": {},
     "outputs": [],
     "prompt_number": 764
    },
    {
     "cell_type": "code",
     "collapsed": false,
     "input": [
      "average(v.L),std(v.L),average(e.L)"
     ],
     "language": "python",
     "metadata": {},
     "outputs": [
      {
       "latex": [
        "$$\\begin{pmatrix}0.102688362915, & 0.00345793112797, & 0.00266561378168\\end{pmatrix}$$"
       ],
       "output_type": "pyout",
       "prompt_number": 765,
       "text": [
        "(0.1026883629150778, 0.0034579311279703279, 0.0026656137816825375)"
       ]
      }
     ],
     "prompt_number": 765
    },
    {
     "cell_type": "code",
     "collapsed": false,
     "input": [
      "average(v.C),std(v.C)"
     ],
     "language": "python",
     "metadata": {},
     "outputs": [
      {
       "latex": [
        "$$\\begin{pmatrix}3.66711780894e-06, & 1.09920911345e-07\\end{pmatrix}$$"
       ],
       "output_type": "pyout",
       "prompt_number": 766,
       "text": [
        "(3.6671178089390476e-06, 1.0992091134477625e-07)"
       ]
      }
     ],
     "prompt_number": 766
    },
    {
     "cell_type": "code",
     "collapsed": false,
     "input": [
      "fig, ax = plt.subplots(2, sharex=True)\n",
      "ax[0].errorbar(v.f,v.uc,yerr=e.uc,label='$U_C$')\n",
      "#plot(v.f_r,f.uc(v.f_r))\n",
      "ax[0].errorbar(v.f,v.ul,yerr=e.ul,label='$U_L$')\n",
      "ax[0].legend()\n",
      "ax[0].set_ylabel('$U, V$')\n",
      "\n",
      "ax[1].errorbar(v.f,v.I,yerr=e.I,fmt='--',label='$I$')\n",
      "\n",
      "\n",
      "v.f_r = linspace(min(v.f),max(v.f),1000) \n",
      "#v.o_r = linspace(min(v.o),max(v.o),100)\n",
      "v.I_r = f.I_r(3.6e-6,v.R,average(v.L),v.f_r * 2*pi)\n",
      "\n",
      "ax[1].plot(v.f_r,v.I_r*v.uz*2*pi, label='Theoretical')\n",
      "\n",
      "xlim([100,500])\n",
      "ax[1].set_xlabel('$f, Hz$')\n",
      "ax[1].set_ylabel('$I, mA$')\n",
      "for i in ax: i.legend(prop={'size':6})\n",
      "for i in ax: i.grid(which='major')\n",
      "savefig('virkne',dpi=400)"
     ],
     "language": "python",
     "metadata": {},
     "outputs": [
      {
       "output_type": "display_data",
       "png": "[encoded data removed]"
      }
     ],
     "prompt_number": 767
    },
    {
     "cell_type": "code",
     "collapsed": false,
     "input": [
      "errorbar(v.f,v.uc,yerr=e.uc,fmt='o',label='Kondensatora spriegums $U_C$')\n",
      "#plot(v.f_r,f.uc(v.f_r))\n",
      "errorbar(v.f,v.ul,yerr=e.ul,fmt='o',label='Spoles spriegums $U_L$')\n",
      "legend()\n",
      "xlim([100,500])\n",
      "xlabel('$f, Hz$')\n",
      "ylabel('$U, V$')\n",
      "show()\n",
      "errorbar(v.f,v.I,yerr=e.I,fmt='--',label='$I$')\n",
      "#plot(v.o_r,v.I_r)\n",
      "#f_list = linspace(min(v.f),max(v.f),100)\n",
      "plot(v.f_r,v.I_r*v.uz*2*pi, label='Theoretical')\n",
      "xlim([259,264])\n",
      "ylim([110,130])\n",
      "xlabel('$f, Hz$')\n",
      "ylabel('$I, mA$')\n",
      "savefig('virknes_kluda')"
     ],
     "language": "python",
     "metadata": {},
     "outputs": [
      {
       "output_type": "display_data",
       "png": "[encoded data removed]"
      },
      {
       "output_type": "pyout",
       "prompt_number": 772,
       "text": [
        "Text(0,0.5,'$I, mA$')"
       ]
      },
      {
       "output_type": "display_data",
       "png": "[encoded data removed]"
      }
     ],
     "prompt_number": 772
    },
    {
     "cell_type": "code",
     "collapsed": false,
     "input": [
      "[average(i) for i in [v.C, v.L] ]"
     ],
     "language": "python",
     "metadata": {},
     "outputs": [
      {
       "latex": [
        "$$\\begin{bmatrix}3.66711780894e-06, & 0.102688362915\\end{bmatrix}$$"
       ],
       "output_type": "pyout",
       "prompt_number": 775,
       "text": [
        "[3.6671178089390476e-06, 0.1026883629150778]"
       ]
      }
     ],
     "prompt_number": 775
    },
    {
     "cell_type": "code",
     "collapsed": false,
     "input": [
      "print average(v2.L),std(v2.L),average(e2.L)"
     ],
     "language": "python",
     "metadata": {},
     "outputs": [
      {
       "ename": "TypeError",
       "evalue": "super(type, obj): obj must be an instance or subtype of type",
       "output_type": "pyerr",
       "traceback": [
        "\u001b[1;31m---------------------------------------------------------------------------\u001b[0m\n\u001b[1;31mTypeError\u001b[0m                                 Traceback (most recent call last)",
        "\u001b[1;32m<ipython-input-776-15dda133cb33>\u001b[0m in \u001b[0;36m<module>\u001b[1;34m()\u001b[0m\n\u001b[1;32m----> 1\u001b[1;33m \u001b[1;32mprint\u001b[0m \u001b[0maverage\u001b[0m\u001b[1;33m(\u001b[0m\u001b[0mv2\u001b[0m\u001b[1;33m.\u001b[0m\u001b[0mL\u001b[0m\u001b[1;33m)\u001b[0m\u001b[1;33m,\u001b[0m\u001b[0mstd\u001b[0m\u001b[1;33m(\u001b[0m\u001b[0mv2\u001b[0m\u001b[1;33m.\u001b[0m\u001b[0mL\u001b[0m\u001b[1;33m)\u001b[0m\u001b[1;33m,\u001b[0m\u001b[0maverage\u001b[0m\u001b[1;33m(\u001b[0m\u001b[0me2\u001b[0m\u001b[1;33m.\u001b[0m\u001b[0mL\u001b[0m\u001b[1;33m)\u001b[0m\u001b[1;33m\u001b[0m\u001b[0m\n\u001b[0m",
        "\u001b[1;32m<ipython-input-154-e146ae3470d7>\u001b[0m in \u001b[0;36m__getitem__\u001b[1;34m(self, name)\u001b[0m\n\u001b[0;32m     19\u001b[0m \u001b[1;33m\u001b[0m\u001b[0m\n\u001b[0;32m     20\u001b[0m         \u001b[1;32mdef\u001b[0m \u001b[0m__getitem__\u001b[0m\u001b[1;33m(\u001b[0m\u001b[0mself\u001b[0m\u001b[1;33m,\u001b[0m \u001b[0mname\u001b[0m\u001b[1;33m)\u001b[0m\u001b[1;33m:\u001b[0m\u001b[1;33m\u001b[0m\u001b[0m\n\u001b[1;32m---> 21\u001b[1;33m                 \u001b[1;32mreturn\u001b[0m \u001b[0msuper\u001b[0m\u001b[1;33m(\u001b[0m\u001b[0mAttrDict\u001b[0m\u001b[1;33m,\u001b[0m \u001b[0mself\u001b[0m\u001b[1;33m)\u001b[0m\u001b[1;33m.\u001b[0m\u001b[0m__getitem__\u001b[0m\u001b[1;33m(\u001b[0m\u001b[0mname\u001b[0m\u001b[1;33m)\u001b[0m\u001b[1;33m\u001b[0m\u001b[0m\n\u001b[0m\u001b[0;32m     22\u001b[0m \u001b[1;33m\u001b[0m\u001b[0m\n\u001b[0;32m     23\u001b[0m         \u001b[1;32mdef\u001b[0m \u001b[0m__delitem__\u001b[0m\u001b[1;33m(\u001b[0m\u001b[0mself\u001b[0m\u001b[1;33m,\u001b[0m \u001b[0mname\u001b[0m\u001b[1;33m)\u001b[0m\u001b[1;33m:\u001b[0m\u001b[1;33m\u001b[0m\u001b[0m\n",
        "\u001b[1;31mTypeError\u001b[0m: super(type, obj): obj must be an instance or subtype of type"
       ]
      }
     ],
     "prompt_number": 776
    },
    {
     "cell_type": "heading",
     "level": 3,
     "metadata": {},
     "source": [
      "Paral\u0113lais sl\u0113gums"
     ]
    },
    {
     "cell_type": "code",
     "collapsed": false,
     "input": [
      "cat 'paralel_dati' | head"
     ],
     "language": "python",
     "metadata": {},
     "outputs": [
      {
       "output_type": "stream",
       "stream": "stdout",
       "text": [
        "C = 3.6 mikroF, R = 16.2 omi U_z=2.00 V\r\n",
        "f,Hz\tI,mA\tI_c,mA\tI_l,mA\r\n",
        "270.203\t2.89\t12.70\t11.66\r\n",
        "258.710\t2.78\t12.13\t12.13\r\n",
        "260.004\t2.76\t12.16\t12.04\r\n",
        "249.813\t2.97\t11.70\t12.53\r\n",
        "239.783\t3.47\t11.24\t13.06\r\n",
        "229.623\t4.17\t10.75\t13.60\r\n",
        "118.089\t20.9\t5.51\t25.9\r\n",
        "158.667\t12.64\t7.38\t19.02\r\n"
       ]
      }
     ],
     "prompt_number": 777
    },
    {
     "cell_type": "code",
     "collapsed": false,
     "input": [
      "v2,e2,eq2,f2 = [AttrDict(),AttrDict(),AttrDict(),AttrDict()]\n",
      "\n",
      "dati = loadtxt('paralel_dati',delimiter='\\t',usecols=(0,1,2,3),unpack=True,skiprows=2)\n",
      "sor = lexsort((dati[0],))\n",
      "v2.f,v2.I,v2.I_c,v2.I_l = [i[sor] for i in dati]\n",
      "v2.U_z = 2.00\n",
      "e2.U_z = 0.01 + 0.008*v2.U_z\n",
      "v2.R = 16.2\n",
      "e2.R = 0.1 + 0.008*v2.R"
     ],
     "language": "python",
     "metadata": {},
     "outputs": [],
     "prompt_number": 778
    },
    {
     "cell_type": "code",
     "collapsed": false,
     "input": [
      "e2.I = 0.018*v2.I + 0.01\n",
      "e2.I_c = 0.018*v2.I_c + 0.01\n",
      "e2.I_l = 0.018*v2.I_l + 0.01"
     ],
     "language": "python",
     "metadata": {},
     "outputs": [],
     "prompt_number": 779
    },
    {
     "cell_type": "code",
     "collapsed": false,
     "input": [
      "v2.omega = 2*pi*v2.f\n",
      "\n",
      "v2.X_c = v2.U_z/v2.I_c*1e3\n",
      "e2.X_c = v2.X_c * sqrt((e2.U_z/v2.U_z)**2 + (e2.I_c/v2.I_c)**2)\n",
      "\n",
      "v2.Z_l = v2.U_z/v2.I_l*1e3\n",
      "e2.Z_l = v2.Z_l * sqrt((e2.U_z/v2.U_z)**2 + (e2.I_c/v2.I_l)**2)\n",
      "\n",
      "v2.C = 1/(v2.omega*v2.X_c)\n",
      "e2.C = v2.C*e2.X_c/v2.X_c\n",
      "\n",
      "\n",
      "v2.L = 1/(v2.omega)*sqrt(v2.Z_l**2-v2.R**2)\n",
      "e2.L = 1/(v2.omega*sqrt(v2.Z_l**2-v2.R**2)) *  sqrt((v2.Z_l*e2.Z_l)**2 + (v2.R*e2.R)**2) \n",
      "\n",
      "v2.Q = 1/v2.R*sqrt(v2.L/v2.C)"
     ],
     "language": "python",
     "metadata": {},
     "outputs": [],
     "prompt_number": 780
    },
    {
     "cell_type": "code",
     "collapsed": false,
     "input": [
      "\n",
      "errorbar(v2.f,v2.I,yerr=e2.I,fmt='-',label='All current $I$')\n",
      "errorbar(v2.f,v2.I_c,yerr=e2.I_c,fmt='-',label='Capacitor $I_c$')\n",
      "errorbar(v2.f,v2.I_l,yerr=e2.I_l,fmt='-',label='Coil $I_l$')\n",
      "\n",
      "x=linspace(min(v2.f),max(v2.f),100)\n",
      "#from scipy.interpolate import interp1d\n",
      "#for i in [v2.I,v2.I_c,v2.I_l]: plot(x, interp1d(v2.f,i,kind=1)(x))\n",
      "#Text(1,1,'Mans teksts',color='red')\n",
      "legend()\n",
      "grid(which='major')\n",
      "ylabel('I, mA')\n",
      "xlabel('f, Hz')\n",
      "savefig('paralels',dpi=300)"
     ],
     "language": "python",
     "metadata": {},
     "outputs": [
      {
       "output_type": "display_data",
       "png": "[encoded data removed]"
      }
     ],
     "prompt_number": 781
    },
    {
     "cell_type": "code",
     "collapsed": false,
     "input": [
      "errorbar(v2.f,v2.I,yerr=e2.I,fmt='-',label='All current $I$')\n",
      "xlim([254,266])\n",
      "ylim([2.6,2.9])"
     ],
     "language": "python",
     "metadata": {},
     "outputs": [
      {
       "latex": [
        "$$\\begin{pmatrix}2.6, & 2.9\\end{pmatrix}$$"
       ],
       "output_type": "pyout",
       "prompt_number": 793,
       "text": [
        "(2.6, 2.9)"
       ]
      },
      {
       "output_type": "display_data",
       "png": "[encoded data removed]"
      }
     ],
     "prompt_number": 793
    },
    {
     "cell_type": "heading",
     "level": 3,
     "metadata": {},
     "source": [
      "Tabulu izvads"
     ]
    },
    {
     "cell_type": "code",
     "collapsed": false,
     "input": [
      "def form(v,e,i,j,spec={}):\n",
      "    \"\"\"\n",
      "Returns two or one formated number depending if error found. If error found then number is rounded to mach last two digits\n",
      "    \"\"\"\n",
      "    if i in ['npk','Npk','NPK','mpk','Mpk']: #iesp\u0113jams pievienot elementu \u0161aj\u0101 viet\u0101 dictionary t\u0101d\u0113j\u0101di samazinot indentation level\n",
      "        return '%d' % (j+1)\n",
      "    else:\n",
      "        num = v[i][j]\n",
      "        try: \n",
      "            num *= spec[i]['*']\n",
      "        except:\n",
      "            pass\n",
      "        if i in e.keys():\n",
      "            #counts how many 0 is before first number appears 14.5689 +- 0.00687 in this case 2 \n",
      "            er = e[i][j]\n",
      "            try:\n",
      "                    er *= spec[i]['*']\n",
      "            except:\n",
      "                pass\n",
      "            error = er/100 #in case if zeroos not found\n",
      "            decim = 0\n",
      "            while error<1:\n",
      "                error*=10\n",
      "                decim+=1\n",
      "                \n",
      "            if decim>0:\n",
      "                how = '%.'+ str(decim-1)+'f $\\pm$ %.'+str(decim-1)+'f'\n",
      "            elif er>1000:\n",
      "                how = '%g $\\pm$ %g'\n",
      "            return how %(num,er)\n",
      "        \n",
      "        else:\n",
      "            try:\n",
      "                sp = spec[i]['spec'] \n",
      "            except:\n",
      "                sp = '%3.1f'\n",
      "            return sp % num"
     ],
     "language": "python",
     "metadata": {},
     "outputs": [],
     "prompt_number": 649
    },
    {
     "cell_type": "code",
     "collapsed": false,
     "input": [
      "ls"
     ],
     "language": "python",
     "metadata": {},
     "outputs": [
      {
       "output_type": "stream",
       "stream": "stdout",
       "text": [
        "Labors.tex           paralel_dati   paralels.png  virknes_dati\r\n",
        "\u001b[0m\u001b[01;34mmatrix2latexPython\u001b[0m/  paralel_dati~  virkne.png    virknes_dati~\r\n"
       ]
      }
     ],
     "prompt_number": 614
    },
    {
     "cell_type": "code",
     "collapsed": false,
     "input": [
      "cd ./matrix2latexPython/"
     ],
     "language": "python",
     "metadata": {},
     "outputs": [
      {
       "output_type": "stream",
       "stream": "stdout",
       "text": [
        "/home/akels/Dropbox/Programming_for_physics/Latex/Labori/Nr13/matrix2latexPython\n"
       ]
      }
     ],
     "prompt_number": 562
    },
    {
     "cell_type": "code",
     "collapsed": false,
     "input": [
      "from matrix2latex import *"
     ],
     "language": "python",
     "metadata": {},
     "outputs": [],
     "prompt_number": 563
    },
    {
     "cell_type": "code",
     "collapsed": false,
     "input": [
      "cd ../"
     ],
     "language": "python",
     "metadata": {},
     "outputs": [
      {
       "output_type": "stream",
       "stream": "stdout",
       "text": [
        "/home/akels/Dropbox/Programming_for_physics/Latex/Labori/Nr13\n"
       ]
      }
     ],
     "prompt_number": 564
    },
    {
     "cell_type": "code",
     "collapsed": false,
     "input": [
      "[i for i in  v.iterkeys()]"
     ],
     "language": "python",
     "metadata": {},
     "outputs": [
      {
       "output_type": "pyout",
       "prompt_number": 565,
       "text": [
        "[zl, C, uz, I, xc, f, L, o, Q, ul, R, f_r, I_r, uc]"
       ]
      }
     ],
     "prompt_number": 565
    },
    {
     "cell_type": "code",
     "collapsed": false,
     "input": [
      "form(v,e,'I',1)"
     ],
     "language": "python",
     "metadata": {},
     "outputs": [
      {
       "output_type": "pyout",
       "prompt_number": 566,
       "text": [
        "12.50\\pm0.72"
       ]
      }
     ],
     "prompt_number": 566
    },
    {
     "cell_type": "code",
     "collapsed": false,
     "input": [
      "head = ['npk','f','I','uc','ul','xc','C','zl','L']\n",
      "spec={'C':{'*':1e6}, 'f':{'spec':'%.3f'}, 'L':{'*':1e3}}\n",
      "hr = ['$'+i+'$' for i in ['Npk','f, Hz','I, mA', 'U_c, V','U_L, V','X_C, \\Omega','C, \\mu F','Z_L,\\Omega','L,mH'] ]\n",
      "mydata = zip(*[[form(v,e,p,i,spec) for i in range(len(v[head[1]]))] for p in head])\n",
      "_ = matrix2latex(mydata,'virkne','tabular',headerRow=hr,format='%s')"
     ],
     "language": "python",
     "metadata": {},
     "outputs": [],
     "prompt_number": 745
    },
    {
     "cell_type": "code",
     "collapsed": false,
     "input": [
      "form(v,e,'xc',0)"
     ],
     "language": "python",
     "metadata": {},
     "outputs": [
      {
       "output_type": "pyout",
       "prompt_number": 620,
       "text": [
        "382 \\pm 32"
       ]
      }
     ],
     "prompt_number": 620
    },
    {
     "cell_type": "code",
     "collapsed": false,
     "input": [
      "v.xc[0],e.xc[0]"
     ],
     "language": "python",
     "metadata": {},
     "outputs": [
      {
       "latex": [
        "$$\\begin{pmatrix}381.538461538, & 32.3625431167\\end{pmatrix}$$"
       ],
       "output_type": "pyout",
       "prompt_number": 590,
       "text": [
        "(381.53846153846155, 32.362543116725213)"
       ]
      }
     ],
     "prompt_number": 590
    },
    {
     "cell_type": "code",
     "collapsed": false,
     "input": [
      "num = v.I[0]\n",
      "er = e.I[0]\n",
      "\n",
      "error = er/100 #in case if zeroos not \n",
      "decim = 0\n",
      "\n",
      "while error<1:\n",
      "    error*=10\n",
      "    decim+=1\n",
      "if decim>0:\n",
      "    how = '%.'+ str(decim-1)+'f \\pm %.'+str(decim-1)+'f'\n",
      "elif e.xc[0]>1000:\n",
      "    how = '%g \\pm %g'\n",
      "print how %(num,er)"
     ],
     "language": "python",
     "metadata": {},
     "outputs": [
      {
       "output_type": "stream",
       "stream": "stdout",
       "text": [
        "6.50 \\pm 0.43\n"
       ]
      }
     ],
     "prompt_number": 612
    },
    {
     "cell_type": "code",
     "collapsed": false,
     "input": [
      "[i for i in  v2.iterkeys()]"
     ],
     "language": "python",
     "metadata": {},
     "outputs": [
      {
       "output_type": "pyout",
       "prompt_number": 657,
       "text": [
        "[C, I_l, X_c, f, I, Z_l, I_c, L, Q, R, U_z, omega]"
       ]
      }
     ],
     "prompt_number": 657
    },
    {
     "cell_type": "code",
     "collapsed": false,
     "input": [
      "head = ['npk','f','I','I_c','I_l','X_c','C','Z_l','L']\n",
      "spec={'C':{'*':1e6}, 'f':{'spec':'%.3f'}, 'L':{'*':1e3}}\n",
      "hr = ['$'+i+'$' for i in ['Npk','f, Hz','I, mA', 'I_C, mA','I_L, mA','X_C, \\Omega','C, \\mu F','Z_L,\\Omega','L,mH'] ]\n",
      "mydata = zip(*[[form(v2,e2,p,i,spec) for i in range(len(v2[head[1]]))] for p in head])\n",
      "_ = matrix2latex(mydata,'paralels','tabular',headerRow=hr,format='%s')"
     ],
     "language": "python",
     "metadata": {},
     "outputs": [],
     "prompt_number": 746
    },
    {
     "cell_type": "code",
     "collapsed": false,
     "input": [
      "'%.3f'%(300.39)"
     ],
     "language": "python",
     "metadata": {},
     "outputs": [
      {
       "output_type": "pyout",
       "prompt_number": 672,
       "text": [
        "300.390"
       ]
      }
     ],
     "prompt_number": 672
    },
    {
     "cell_type": "heading",
     "level": 3,
     "metadata": {},
     "source": [
      "Saist\u012btie pieraksti"
     ]
    },
    {
     "cell_type": "code",
     "collapsed": false,
     "input": [
      "from scipy.stats import t\n",
      "t.ppf(0.975,len(v.L)) # 0.95 iesp\u0113jam\u012bbai"
     ],
     "language": "python",
     "metadata": {},
     "outputs": [
      {
       "output_type": "pyout",
       "png": "[encoded data removed]",
       "prompt_number": 796,
       "text": [
        "2.0555294386428704"
       ]
      }
     ],
     "prompt_number": 796
    },
    {
     "cell_type": "code",
     "collapsed": false,
     "input": [
      "from scipy.stats import t\n",
      "t.ppf(0.975,len(v2.L)) # 0.95 iesp\u0113jam\u012bbai"
     ],
     "language": "python",
     "metadata": {},
     "outputs": [
      {
       "output_type": "pyout",
       "png": "[encoded data removed]",
       "prompt_number": 797,
       "text": [
        "2.131449545559323"
       ]
      }
     ],
     "prompt_number": 797
    },
    {
     "cell_type": "code",
     "collapsed": false,
     "input": [],
     "language": "python",
     "metadata": {},
     "outputs": []
    }
   ],
   "metadata": {}
  }
 ]
}