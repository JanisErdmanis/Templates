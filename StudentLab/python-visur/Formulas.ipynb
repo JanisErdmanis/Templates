{
 "metadata": {
  "name": "Formulas"
 },
 "nbformat": 3,
 "nbformat_minor": 0,
 "worksheets": [
  {
   "cells": [
    {
     "cell_type": "markdown",
     "metadata": {},
     "source": [
      "##\u0160aj\u0101 fail\u0101 par\u0101d\u012bsies da\u017ei savstarp\u0113ji nesaist\u012bti pa\u0146\u0113mieni laboru apstr\u0101dei"
     ]
    },
    {
     "cell_type": "markdown",
     "metadata": {},
     "source": [
      "###Funkciju argumentu pado\u0161ana, eso\u0161o funkciju uzlabo\u0161ana"
     ]
    },
    {
     "cell_type": "markdown",
     "metadata": {},
     "source": [
      "###Array objekts no numpy"
     ]
    },
    {
     "cell_type": "markdown",
     "metadata": {},
     "source": [
      "###Pandas objekts"
     ]
    },
    {
     "cell_type": "markdown",
     "metadata": {},
     "source": [
      "###Matplotlib"
     ]
    },
    {
     "cell_type": "markdown",
     "metadata": {},
     "source": [
      "###Scipy.curve_fit un piedz\u012bto parametru nov\u0113rt\u0113jums"
     ]
    },
    {
     "cell_type": "code",
     "collapsed": false,
     "input": [],
     "language": "python",
     "metadata": {},
     "outputs": []
    }
   ],
   "metadata": {}
  }
 ]
}