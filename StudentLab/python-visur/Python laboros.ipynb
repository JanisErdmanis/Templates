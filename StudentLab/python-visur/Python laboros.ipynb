{
 "metadata": {
  "name": "Python laboros"
 },
 "nbformat": 3,
 "nbformat_minor": 0,
 "worksheets": [
  {
   "cells": [
    {
     "cell_type": "heading",
     "level": 2,
     "metadata": {},
     "source": [
      "Ieteicam\u0101 literat\u016bra"
     ]
    },
    {
     "cell_type": "markdown",
     "metadata": {},
     "source": [
      "#### Numpy cookbook\n",
      "    Pirmaj\u0101 paragr\u0101f\u0101 par\u0101d\u012bts, k\u0101 nokonfigur\u0113t ipython notebook\n",
      "#### A Primer on Scientific Programming with Python \n",
      "    Ieteicami pirmie divi paragr\u0101fi, kuros apl\u016bko pa\u0161u python programm\u0113\u0161anas valodu no pythonisk\u0101 skatapunkta\n",
      "#### SciPy and NumPy\n",
      "    Apl\u016bko visbie\u017e\u0101k izmantot\u0101s lietas no \u0161\u012bm bibliot\u0113k\u0101m\n",
      "#### http://pandas.pydata.org/pandas-docs/stable/basics.html\n",
      "    Pandas objekts, kas visp\u0101rina numpy.array objektu. \u0112rts, jo objekts tiek uzkat\u012bts par tabulu turkl\u0101t iek\u0161 ipython-notebook tabula tiek ar\u012b druk\u0101ta!\n",
      "#### http://www.loria.fr/~rougier/teaching/matplotlib/ [viss, kas nepiecie\u0161ams, lai att\u0113lotu datus grafik\u0101]"
     ]
    },
    {
     "cell_type": "heading",
     "level": 2,
     "metadata": {},
     "source": [
      "Datu ielas\u012b\u0161ana"
     ]
    },
    {
     "cell_type": "markdown",
     "metadata": {},
     "source": [
      "####Tiks apskat\u012bts Pandas objekta metode read_table, kura sp\u0113j teksta nolas\u012bt failu, ja:\n",
      "    1 kolonnas ir p\u0113c noklus\u0113juma savstarp\u0113ji atdal\u012btas ar '\\t'\n",
      "    2 vis\u0101m rind\u0101m viens kolonnu skaits (iesp\u0113jams nor\u0101d\u012bt, kuras rindas tiek izlaistas)\n",
      "####S\u0101ksim ar vienk\u0101r\u0161\u0101ko piem\u0113ru, kad ir fails, kuram ir divas kollonas - arguments x un atkar\u012bgais y. Fails atrod\u0101s direktorij\u0101, k\u0101 p(V), t\u0101 strukt\u016bra:\n",
      "    Mans koment\u0101rs! Parasti lietder\u012bgi \u0161eit pierakst\u012bt p\u0101r\u0113jo nemain\u012bgo parametru v\u0113rt\u012bbas.\n",
      "    V\tp\n",
      "    [l]\t[Pa]\n",
      "    0.021\t754840\n",
      "    0.042\t349262\n",
      "    0.063\t283789\n",
      "    0.084\t180425"
     ]
    },
    {
     "cell_type": "code",
     "collapsed": false,
     "input": [
      "from pandas import * # Defin\u0113 vai p\u0101rdefin\u0113 visu objektus. V\u0113rt\u012bga komanda \u0161aj\u0101 sakar\u0101 %whos ar kuru var ieraudz\u012bt visas nodefin\u0113t\u0101s funkcijas"
     ],
     "language": "python",
     "metadata": {},
     "outputs": [],
     "prompt_number": 8
    },
    {
     "cell_type": "code",
     "collapsed": false,
     "input": [
      "!cat './data/p(V).dat' # P\u0101rbaudam vai fails visp\u0101r eksist\u0113 (Visas komandas kuras s\u0101k\u0101s ar ! tiek izsauktas no bash (citas progr. valodas))\n",
      "# V\u0113rt\u012bgi zin\u0101t komandas - ls, cd, cat\n",
      "\n",
      "# ls - druk\u0101 eso\u0161o direktoriju\n",
      "\n",
      "# cd - maina akt\u012bvo direktoriju, piem:\n",
      "    # cd ./data # ieiet map\u0113 releat\u012bvi pret eso\u0161o mapi\n",
      "    # cd ../  #iziet no mapes\n",
      "    # cd /home/akels/Dropbox/dati # ieiet map\u0113 attiec\u012bb\u0101 pret OS mapju strukt\u016bru"
     ],
     "language": "python",
     "metadata": {},
     "outputs": [
      {
       "output_type": "stream",
       "stream": "stdout",
       "text": [
        "Mans koment\u0101rs! Parasti lietder\u012bgi \u0161eit pierakst\u012bt p\u0101r\u0113jo nemain\u012bgo parametru v\u0113rt\u012bbas.\r\n",
        "V\tp\r\n",
        "[l]\t[Pa]\r\n",
        "0.021\t754840\r\n",
        "0.042\t349262\r\n",
        "0.063\t283789\r\n",
        "0.084\t180425\r\n",
        "0.105\t183845\r\n",
        "0.126\t109811\r\n",
        "0.147\t149705\r\n",
        "0.168\t69382.5\r\n",
        "0.189\t83772.4\r\n",
        "0.21\t51708.7\r\n",
        "0.231\t21607.6\r\n",
        "0.252\t59770.8\r\n",
        "0.273\t353.147\r\n",
        "0.294\t9035.15\r\n",
        "0.315\t36003.5\r\n",
        "0.336\t44198.8\r\n",
        "0.357\t10863.7\r\n",
        "0.378\t70264.2\r\n",
        "0.399\t25365.4\r\n",
        "0.42\t33553.4\r\n"
       ]
      }
     ],
     "prompt_number": 30
    },
    {
     "cell_type": "code",
     "collapsed": false,
     "input": [
      "read_table('./data/p(V).dat',header=1) # paskatamiesm, ko komanda dara\n",
      "    # heder=1 noz\u012bm\u0113, ka izlai\u017eam visas iepriek\u0161\u0113j\u0101s rindas fail\u0101 (\u0161aj\u0101 gad\u012bjum\u0101 0. rindu)"
     ],
     "language": "python",
     "metadata": {},
     "outputs": [
      {
       "html": [
        "<div style=\"max-height:1000px;max-width:1500px;overflow:auto;\">\n",
        "<table border=\"1\">\n",
        "  <thead>\n",
        "    <tr>\n",
        "      <th></th>\n",
        "      <th>V</th>\n",
        "      <th>p</th>\n",
        "    </tr>\n",
        "  </thead>\n",
        "  <tbody>\n",
        "    <tr>\n",
        "      <td><strong>0</strong></td>\n",
        "      <td>   [l]</td>\n",
        "      <td>    [Pa]</td>\n",
        "    </tr>\n",
        "    <tr>\n",
        "      <td><strong>1</strong></td>\n",
        "      <td> 0.021</td>\n",
        "      <td>  754840</td>\n",
        "    </tr>\n",
        "    <tr>\n",
        "      <td><strong>2</strong></td>\n",
        "      <td> 0.042</td>\n",
        "      <td>  349262</td>\n",
        "    </tr>\n",
        "    <tr>\n",
        "      <td><strong>3</strong></td>\n",
        "      <td> 0.063</td>\n",
        "      <td>  283789</td>\n",
        "    </tr>\n",
        "    <tr>\n",
        "      <td><strong>4</strong></td>\n",
        "      <td> 0.084</td>\n",
        "      <td>  180425</td>\n",
        "    </tr>\n",
        "    <tr>\n",
        "      <td><strong>5</strong></td>\n",
        "      <td> 0.105</td>\n",
        "      <td>  183845</td>\n",
        "    </tr>\n",
        "    <tr>\n",
        "      <td><strong>6</strong></td>\n",
        "      <td> 0.126</td>\n",
        "      <td>  109811</td>\n",
        "    </tr>\n",
        "    <tr>\n",
        "      <td><strong>7</strong></td>\n",
        "      <td> 0.147</td>\n",
        "      <td>  149705</td>\n",
        "    </tr>\n",
        "    <tr>\n",
        "      <td><strong>8</strong></td>\n",
        "      <td> 0.168</td>\n",
        "      <td> 69382.5</td>\n",
        "    </tr>\n",
        "    <tr>\n",
        "      <td><strong>9</strong></td>\n",
        "      <td> 0.189</td>\n",
        "      <td> 83772.4</td>\n",
        "    </tr>\n",
        "    <tr>\n",
        "      <td><strong>10</strong></td>\n",
        "      <td>  0.21</td>\n",
        "      <td> 51708.7</td>\n",
        "    </tr>\n",
        "    <tr>\n",
        "      <td><strong>11</strong></td>\n",
        "      <td> 0.231</td>\n",
        "      <td> 21607.6</td>\n",
        "    </tr>\n",
        "    <tr>\n",
        "      <td><strong>12</strong></td>\n",
        "      <td> 0.252</td>\n",
        "      <td> 59770.8</td>\n",
        "    </tr>\n",
        "    <tr>\n",
        "      <td><strong>13</strong></td>\n",
        "      <td> 0.273</td>\n",
        "      <td> 353.147</td>\n",
        "    </tr>\n",
        "    <tr>\n",
        "      <td><strong>14</strong></td>\n",
        "      <td> 0.294</td>\n",
        "      <td> 9035.15</td>\n",
        "    </tr>\n",
        "    <tr>\n",
        "      <td><strong>15</strong></td>\n",
        "      <td> 0.315</td>\n",
        "      <td> 36003.5</td>\n",
        "    </tr>\n",
        "    <tr>\n",
        "      <td><strong>16</strong></td>\n",
        "      <td> 0.336</td>\n",
        "      <td> 44198.8</td>\n",
        "    </tr>\n",
        "    <tr>\n",
        "      <td><strong>17</strong></td>\n",
        "      <td> 0.357</td>\n",
        "      <td> 10863.7</td>\n",
        "    </tr>\n",
        "    <tr>\n",
        "      <td><strong>18</strong></td>\n",
        "      <td> 0.378</td>\n",
        "      <td> 70264.2</td>\n",
        "    </tr>\n",
        "    <tr>\n",
        "      <td><strong>19</strong></td>\n",
        "      <td> 0.399</td>\n",
        "      <td> 25365.4</td>\n",
        "    </tr>\n",
        "    <tr>\n",
        "      <td><strong>20</strong></td>\n",
        "      <td>  0.42</td>\n",
        "      <td> 33553.4</td>\n",
        "    </tr>\n",
        "  </tbody>\n",
        "</table>\n",
        "</div>"
       ],
       "output_type": "pyout",
       "prompt_number": 32,
       "text": [
        "        V        p\n",
        "0     [l]     [Pa]\n",
        "1   0.021   754840\n",
        "2   0.042   349262\n",
        "3   0.063   283789\n",
        "4   0.084   180425\n",
        "5   0.105   183845\n",
        "6   0.126   109811\n",
        "7   0.147   149705\n",
        "8   0.168  69382.5\n",
        "9   0.189  83772.4\n",
        "10   0.21  51708.7\n",
        "11  0.231  21607.6\n",
        "12  0.252  59770.8\n",
        "13  0.273  353.147\n",
        "14  0.294  9035.15\n",
        "15  0.315  36003.5\n",
        "16  0.336  44198.8\n",
        "17  0.357  10863.7\n",
        "18  0.378  70264.2\n",
        "19  0.399  25365.4\n",
        "20   0.42  33553.4"
       ]
      }
     ],
     "prompt_number": 32
    },
    {
     "cell_type": "code",
     "collapsed": false,
     "input": [
      "# Redzams, ka 0 rinda tabul\u0101 ir m\u0113rvien\u012bbas, kuras trauc\u0113 veikt aritm\u0113tiskas oper\u0101cijas ar kollonn\u0101m\n",
      "# T\u0101d\u0113\u013c t\u0101s tiek izlaistas ar parametru skiprows=[2,] kur starp iekav\u0101m varam nor\u0101d\u012bt, kuras rindas ielasot izlaist\n",
      "tabula = read_table('./data/p(V).dat',header=1,skiprows=[2,])\n",
      "\n",
      "# Reiz\u0113m kollonas tiek atdal\u012btas ar citiem simboliem piem\u0113ram ',', t\u0101d\u0101 gad\u012bjum\u0101 ar parametru nor\u0101dam sep=','"
     ],
     "language": "python",
     "metadata": {},
     "outputs": [],
     "prompt_number": 49
    },
    {
     "cell_type": "code",
     "collapsed": false,
     "input": [
      "# Tabulas kolonn\u0101m varam piek\u013c\u016bt divos veidos\n",
      "tabula.V\n",
      "# Un tabula['V'], t\u0101 k\u0101 pirmais gad\u012bjums ir paroc\u012bg\u0101ks, jo Ipython uzspie\u017eot tab, kad kursors ir aiz tabula. par\u0101da metodes(funkcijas objektam) \n",
      "# un atrib\u016btus(objekt\u0101 defin\u0113tus main\u012bgos), tad otro gad\u012bjumu nelietosim\n",
      "# Lai tabula.<atrib\u016bts> str\u0101d\u0101tu, nepiecie\u0161ams, lai header rindas kolonnu nosaukumi b\u016btu der\u012bgi python main\u012bgie! \n",
      "#(otr\u0101 komanda savuk\u0101rt str\u0101d\u0101s vienm\u0113r)"
     ],
     "language": "python",
     "metadata": {},
     "outputs": [
      {
       "output_type": "pyout",
       "prompt_number": 54,
       "text": [
        "0     0.021\n",
        "1     0.042\n",
        "2     0.063\n",
        "3     0.084\n",
        "4     0.105\n",
        "5     0.126\n",
        "6     0.147\n",
        "7     0.168\n",
        "8     0.189\n",
        "9     0.210\n",
        "10    0.231\n",
        "11    0.252\n",
        "12    0.273\n",
        "13    0.294\n",
        "14    0.315\n",
        "15    0.336\n",
        "16    0.357\n",
        "17    0.378\n",
        "18    0.399\n",
        "19    0.420\n",
        "Name: V"
       ]
      }
     ],
     "prompt_number": 54
    },
    {
     "cell_type": "heading",
     "level": 2,
     "metadata": {},
     "source": [
      "Datu z\u012bm\u0113\u0161ana"
     ]
    },
    {
     "cell_type": "code",
     "collapsed": false,
     "input": [
      "plot(tabula.V,tabula.p) # Pirmie divi argumenti nor\u0101da x un y ass kollonu"
     ],
     "language": "python",
     "metadata": {},
     "outputs": [
      {
       "output_type": "pyout",
       "prompt_number": 56,
       "text": [
        "[<matplotlib.lines.Line2D at 0x9b4266c>]"
       ]
      },
      {
       "output_type": "display_data",
       "png": "[encoded data removed]",
       "text": [
        "<matplotlib.figure.Figure at 0x98e508c>"
       ]
      }
     ],
     "prompt_number": 56
    },
    {
     "cell_type": "code",
     "collapsed": false,
     "input": [
      "#Reiz\u0113m nepiecie\u0161ams pielikt k\u013c\u016bdu. \n",
      "errorbar(tabula.V,tabula.p,yerr=1e5) # yerr nor\u0101da vai nu vienu skaitli vai ar\u012b k\u013c\u016bdas kollonnu"
     ],
     "language": "python",
     "metadata": {},
     "outputs": [
      {
       "output_type": "pyout",
       "prompt_number": 62,
       "text": [
        "<Container object of 3 artists>"
       ]
      },
      {
       "output_type": "display_data",
       "png": "[encoded data removed]",
       "text": [
        "<matplotlib.figure.Figure at 0xa28f5ec>"
       ]
      }
     ],
     "prompt_number": 62
    },
    {
     "cell_type": "code",
     "collapsed": false,
     "input": [
      "# Lai vair\u0101k saprastu par grafiku z\u012bm\u0113\u0161anu un noform\u0113\u0161anu ejam - http://www.loria.fr/~rougier/teaching/matplotlib/\n",
      "\n",
      "# \u0160aj\u0101 \u0161\u016bn\u0101 par\u0101d\u012b\u0161u visas komandas, ar parametriem, kuras esmu izmantojis, lai noform\u0113tu grafikus\n",
      "\n",
      "errorbar(tabula.V,tabula.p,yerr=1e5,fmt='-o',label='dati') # errorbar no plot at\u0161\u0137ir\u0101s tikai ar fmt parametru, \n",
      "#kuru plot komandai nor\u0101da, k\u0101 tre\u0161o p\u0113c k\u0101rtas\n",
      "\n",
      "xlabel('Tilpums, l') # p\u0113c noklus\u0113juma komanda atbalsta tikai ASCII ar LATEX piem\u0113ram:\n",
      "#xlabel(r'$V,dm^3$') # Lai redz\u0113tu izmai\u0146as atkoment\u0113jam\n",
      "ylabel('Spiediens, Pa')\n",
      "\n",
      "legend(loc=1) # Par\u0101da grafikiem nosaukumus, loc=1 nor\u0101da, atra\u0161an\u0101s vietu. Varam eksperiment\u0113t ar 0,...,9\n",
      "\n",
      "grid() # Man pat\u012bk r\u016btots grafiks :)\n",
      "\n",
      "ylim(0,1e6) # nor\u0101da k\u0101d\u0101s robe\u017e\u0101s tiks att\u0113lots\n",
      "xlim(0,0.5)\n",
      "\n",
      "savefig('1grafiks',dpi=300) # dpi=300 , jo p\u0113c nokllus\u0113juma mani neapmierina grafika kvalit\u0101te"
     ],
     "language": "python",
     "metadata": {},
     "outputs": [
      {
       "output_type": "display_data",
       "png": "[encoded data removed]",
       "text": [
        "<matplotlib.figure.Figure at 0xb131d4c>"
       ]
      }
     ],
     "prompt_number": 86
    },
    {
     "cell_type": "heading",
     "level": 2,
     "metadata": {},
     "source": [
      "Jauna vektora apr\u0113\u0137in\u0101\u0161ana"
     ]
    },
    {
     "cell_type": "code",
     "collapsed": false,
     "input": [
      "tabula.V"
     ],
     "language": "python",
     "metadata": {},
     "outputs": [
      {
       "output_type": "pyout",
       "prompt_number": 87,
       "text": [
        "0     0.021\n",
        "1     0.042\n",
        "2     0.063\n",
        "3     0.084\n",
        "4     0.105\n",
        "5     0.126\n",
        "6     0.147\n",
        "7     0.168\n",
        "8     0.189\n",
        "9     0.210\n",
        "10    0.231\n",
        "11    0.252\n",
        "12    0.273\n",
        "13    0.294\n",
        "14    0.315\n",
        "15    0.336\n",
        "16    0.357\n",
        "17    0.378\n",
        "18    0.399\n",
        "19    0.420\n",
        "Name: V"
       ]
      }
     ],
     "prompt_number": 87
    },
    {
     "cell_type": "code",
     "collapsed": false,
     "input": [
      "tabula.V*2  # k\u0101pin\u0101\u0161anu python nor\u0101da ar '**'"
     ],
     "language": "python",
     "metadata": {},
     "outputs": [
      {
       "output_type": "pyout",
       "prompt_number": 90,
       "text": [
        "0     0.042\n",
        "1     0.084\n",
        "2     0.126\n",
        "3     0.168\n",
        "4     0.210\n",
        "5     0.252\n",
        "6     0.294\n",
        "7     0.336\n",
        "8     0.378\n",
        "9     0.420\n",
        "10    0.462\n",
        "11    0.504\n",
        "12    0.546\n",
        "13    0.588\n",
        "14    0.630\n",
        "15    0.672\n",
        "16    0.714\n",
        "17    0.756\n",
        "18    0.798\n",
        "19    0.840\n",
        "Name: V"
       ]
      }
     ],
     "prompt_number": 90
    },
    {
     "cell_type": "code",
     "collapsed": false,
     "input": [
      "1./tabula.V"
     ],
     "language": "python",
     "metadata": {},
     "outputs": [
      {
       "output_type": "pyout",
       "prompt_number": 91,
       "text": [
        "0     47.619048\n",
        "1     23.809524\n",
        "2     15.873016\n",
        "3     11.904762\n",
        "4      9.523810\n",
        "5      7.936508\n",
        "6      6.802721\n",
        "7      5.952381\n",
        "8      5.291005\n",
        "9      4.761905\n",
        "10     4.329004\n",
        "11     3.968254\n",
        "12     3.663004\n",
        "13     3.401361\n",
        "14     3.174603\n",
        "15     2.976190\n",
        "16     2.801120\n",
        "17     2.645503\n",
        "18     2.506266\n",
        "19     2.380952\n",
        "Name: V"
       ]
      }
     ],
     "prompt_number": 91
    },
    {
     "cell_type": "code",
     "collapsed": false,
     "input": [
      "#tagad redzot k\u0101 tas str\u0101d\u0101 z\u012bm\u0113jam :) \n",
      "errorbar(1./tabula.V,tabula.p,yerr=tabula.p/10)"
     ],
     "language": "python",
     "metadata": {},
     "outputs": [
      {
       "output_type": "pyout",
       "prompt_number": 97,
       "text": [
        "<Container object of 3 artists>"
       ]
      },
      {
       "output_type": "display_data",
       "png": "[encoded data removed]",
       "text": [
        "<matplotlib.figure.Figure at 0xb7b322c>"
       ]
      }
     ],
     "prompt_number": 97
    },
    {
     "cell_type": "code",
     "collapsed": false,
     "input": [
      "# Redzam, ka spiedieni p\u0113c skaitliskaj\u0101m v\u0113rt\u012bb\u0101m ir lieli t\u0101d\u0113\u013c dal\u012bsim tos ar 1e5\n",
      "\n",
      "errorbar(1./tabula.V,tabula.p/1e5)\n",
      "ylabel('atmosfeeras')\n",
      "xlabel(r'$\\frac{1}{V}$, $l^{-1}$') # Latex izteiksmes\n",
      "grid()\n",
      "savefig('2grafiks',dpi=300)"
     ],
     "language": "python",
     "metadata": {},
     "outputs": [
      {
       "output_type": "display_data",
       "png": "[encoded data removed]",
       "text": [
        "<matplotlib.figure.Figure at 0xc00aeec>"
       ]
      }
     ],
     "prompt_number": 106
    },
    {
     "cell_type": "heading",
     "level": 2,
     "metadata": {},
     "source": [
      "Tabulas papildin\u0101\u0161ana ar jauno vektoru un tabulas datu filtr\u0113\u0161ana"
     ]
    },
    {
     "cell_type": "code",
     "collapsed": false,
     "input": [
      "tabula['V_inv'] = 1./tabula.V  # Kad tabulai pie\u0161\u0137ir jaiunu kollonu, tad tas j\u0101dara form\u0101 - tabula[<nosaukums>]\n",
      "tabula.V_inv #piek\u013c\u016bstam jaunajai kollonai"
     ],
     "language": "python",
     "metadata": {},
     "outputs": [
      {
       "output_type": "pyout",
       "prompt_number": 112,
       "text": [
        "0     47.619048\n",
        "1     23.809524\n",
        "2     15.873016\n",
        "3     11.904762\n",
        "4      9.523810\n",
        "5      7.936508\n",
        "6      6.802721\n",
        "7      5.952381\n",
        "8      5.291005\n",
        "9      4.761905\n",
        "10     4.329004\n",
        "11     3.968254\n",
        "12     3.663004\n",
        "13     3.401361\n",
        "14     3.174603\n",
        "15     2.976190\n",
        "16     2.801120\n",
        "17     2.645503\n",
        "18     2.506266\n",
        "19     2.380952\n",
        "Name: V_inv"
       ]
      }
     ],
     "prompt_number": 112
    },
    {
     "cell_type": "code",
     "collapsed": false,
     "input": [
      "# Reiz\u0113m no tabulas nepiecie\u0161ams no\u0161\u0137irt tikai rindas, kur\u0101m izp\u012bld\u0101s noteikta \u012bpa\u0161\u012bba, ko vispraktisk\u0101k izdar\u012bt ar bin\u0101rajiem indeksiem.\n",
      "# \u0160\u0101j\u0101 \u0161\u016bn\u0101 apska\u012bsim k\u0101 tie tiek veidoti:\n",
      "\n",
      "tabula.V <0.2"
     ],
     "language": "python",
     "metadata": {},
     "outputs": [
      {
       "output_type": "pyout",
       "prompt_number": 113,
       "text": [
        "0      True\n",
        "1      True\n",
        "2      True\n",
        "3      True\n",
        "4      True\n",
        "5      True\n",
        "6      True\n",
        "7      True\n",
        "8      True\n",
        "9     False\n",
        "10    False\n",
        "11    False\n",
        "12    False\n",
        "13    False\n",
        "14    False\n",
        "15    False\n",
        "16    False\n",
        "17    False\n",
        "18    False\n",
        "19    False\n",
        "Name: V"
       ]
      }
     ],
     "prompt_number": 113
    },
    {
     "cell_type": "code",
     "collapsed": false,
     "input": [
      "# Tagad peik\u013c\u016bsim m\u0101in\u012bgajiem, kollonas vektoru elementiem, kuriem \u0161\u012b \u012bpa\u0161\u012bba izpild\u0101s:\n",
      "tabula.p[tabula.V<0.2] # \u0160\u012b oper\u0101cija pasl\u0113pj no lietot\u0101ja ciklus"
     ],
     "language": "python",
     "metadata": {},
     "outputs": [
      {
       "output_type": "pyout",
       "prompt_number": 115,
       "text": [
        "0    754840.0\n",
        "1    349262.0\n",
        "2    283789.0\n",
        "3    180425.0\n",
        "4    183845.0\n",
        "5    109811.0\n",
        "6    149705.0\n",
        "7     69382.5\n",
        "8     83772.4\n",
        "Name: p"
       ]
      }
     ],
     "prompt_number": 115
    },
    {
     "cell_type": "code",
     "collapsed": false,
     "input": [
      "# Uzz\u012bm\u0113sim grafiku no atlas\u012btajiem elementiem;\n",
      "plot(tabula.V_inv[tabula.V<0.2],tabula.p[tabula.V<0.2])"
     ],
     "language": "python",
     "metadata": {},
     "outputs": [
      {
       "output_type": "pyout",
       "prompt_number": 116,
       "text": [
        "[<matplotlib.lines.Line2D at 0xbc7652c>]"
       ]
      },
      {
       "output_type": "display_data",
       "png": "[encoded data removed]",
       "text": [
        "<matplotlib.figure.Figure at 0xbf344ac>"
       ]
      }
     ],
     "prompt_number": 116
    },
    {
     "cell_type": "code",
     "collapsed": false,
     "input": [
      "# Varam t\u0101d\u0101 pa\u0161\u0101 veid\u0101 izveidot jaunu tabulu:\n",
      "\n",
      "tabula_atl = tabula[tabula.V<0.2]\n",
      "\n",
      "plot(tabula_atl.V,tabula_atl.p)\n",
      "\n",
      "# bie\u017e\u0101k gan lietoju iepriek\u0161\u0113jo formu sagalab\u0101jot, jaun\u0101 main\u012bg\u0101 bin\u0101ros indeksus, kas izskat\u0101s:\n",
      "\n",
      "#crit = tabula.V<0.2\n",
      "#tabula.p[crit]"
     ],
     "language": "python",
     "metadata": {},
     "outputs": [
      {
       "output_type": "pyout",
       "prompt_number": 121,
       "text": [
        "[<matplotlib.lines.Line2D at 0xc26dc6c>]"
       ]
      },
      {
       "output_type": "display_data",
       "png": "[encoded data removed]",
       "text": [
        "<matplotlib.figure.Figure at 0xbea41cc>"
       ]
      }
     ],
     "prompt_number": 121
    },
    {
     "cell_type": "heading",
     "level": 2,
     "metadata": {},
     "source": [
      "Patva\u013c\u012bgas funkcijas piedz\u012b\u0161ana"
     ]
    },
    {
     "cell_type": "code",
     "collapsed": false,
     "input": [
      "# Vispirms j\u0101defin\u0113 funkcija, kurai pirm\u0101is elements ir main\u012bgais, bet p\u0101r\u0113jie parametri\n",
      "\n",
      "# \u0160aj\u0101 gad\u012bjum\u0101 datus apraksta pV = nRT, t\u0101tad p = c*1/V\n",
      "\n",
      "f = lambda V,c1,c2:c1/V + c2 #c2 pieskait\u012bju, lai ir interesant\u0101k"
     ],
     "language": "python",
     "metadata": {},
     "outputs": [],
     "prompt_number": 133
    },
    {
     "cell_type": "code",
     "collapsed": false,
     "input": [
      "# Att\u0113losim doto funkciju ar datiem, kur c aptuveni noteiksim vizu\u0101li\n",
      "plot(tabula.V,tabula.p,'o')\n",
      "plot(tabula.V,f(tabula.V,1e4,1))"
     ],
     "language": "python",
     "metadata": {},
     "outputs": [
      {
       "output_type": "pyout",
       "prompt_number": 134,
       "text": [
        "[<matplotlib.lines.Line2D at 0xc82b48c>]"
       ]
      },
      {
       "output_type": "display_data",
       "png": "[encoded data removed]",
       "text": [
        "<matplotlib.figure.Figure at 0xc71aa0c>"
       ]
      }
     ],
     "prompt_number": 134
    },
    {
     "cell_type": "code",
     "collapsed": false,
     "input": [
      "# Izmantosim funkciju curve_fit, kura atrad\u012bs dotos paramatrus un to kovari\u0101cijas matricu\n",
      "from scipy.optimize import curve_fit\n",
      "Par, Cov = curve_fit(f,tabula.V,tabula.p)"
     ],
     "language": "python",
     "metadata": {},
     "outputs": [],
     "prompt_number": 138
    },
    {
     "cell_type": "code",
     "collapsed": false,
     "input": [
      "Par #kurus izmantosim, lai z\u012bm\u0113tu grafiku"
     ],
     "language": "python",
     "metadata": {},
     "outputs": [
      {
       "output_type": "pyout",
       "prompt_number": 140,
       "text": [
        "array([ 16252.58016445, -12842.54750373])"
       ]
      }
     ],
     "prompt_number": 140
    },
    {
     "cell_type": "code",
     "collapsed": false,
     "input": [
      "plot(tabula.V,tabula.p,'o')\n",
      "plot(tabula.V,f(tabula.V,*Par)) # *Par noz\u012bm\u0113, ka atbr\u012bvo saraksta objektu no iekav\u0101m izsaucot funkciju jeb f(tabula.V,*Par) = f(tabula.V,Par[0],...,Par[1])"
     ],
     "language": "python",
     "metadata": {},
     "outputs": [
      {
       "output_type": "pyout",
       "prompt_number": 143,
       "text": [
        "[<matplotlib.lines.Line2D at 0xcdbd2ac>]"
       ]
      },
      {
       "output_type": "display_data",
       "png": "[encoded data removed]",
       "text": [
        "<matplotlib.figure.Figure at 0xcd0b30c>"
       ]
      }
     ],
     "prompt_number": 143
    },
    {
     "cell_type": "code",
     "collapsed": false,
     "input": [
      "Cov #Uz galven\u0101s diogn\u0101les redzami sigma**2"
     ],
     "language": "python",
     "metadata": {},
     "outputs": [
      {
       "output_type": "pyout",
       "prompt_number": 151,
       "text": [
        "array([[   361176.22292803,  -3093852.41940202],\n",
        "       [ -3093852.41940202,  65362381.8063512 ]])"
       ]
      }
     ],
     "prompt_number": 151
    },
    {
     "cell_type": "code",
     "collapsed": false,
     "input": [
      "# Varam apr\u0113\u0137in\u0101t releat\u012bvo k\u013c\u016bdu uz parametriem\n",
      "sqrt(Cov)/abs(Par) #diogn\u0101les nan, jo nav defin\u0113ta kvadr\u0101tsakne no"
     ],
     "language": "python",
     "metadata": {},
     "outputs": [
      {
       "output_type": "pyout",
       "prompt_number": 155,
       "text": [
        "array([[ 0.03697748,         nan],\n",
        "       [        nan,  0.62952467]])"
       ]
      }
     ],
     "prompt_number": 155
    },
    {
     "cell_type": "code",
     "collapsed": false,
     "input": [
      "# Korel\u0101cijas koeficients:\n",
      "Cov[0][1]/sqrt(Cov[0][0]*Cov[1][1])"
     ],
     "language": "python",
     "metadata": {},
     "outputs": [
      {
       "output_type": "pyout",
       "prompt_number": 157,
       "text": [
        "-0.63676045256295721"
       ]
      }
     ],
     "prompt_number": 157
    },
    {
     "cell_type": "code",
     "collapsed": false,
     "input": [
      "# Galarezult\u0101ts\n",
      "\n",
      "plot(tabula.V,tabula.p,'o',label='dati')\n",
      "plot(tabula.V,f(tabula.V,*Par),label='f(V) = 16252/V -12842')\n",
      "xlabel('Tilpums, l') \n",
      "ylabel('Spiediens, Pa')\n",
      "\n",
      "legend(loc=1) \n",
      "\n",
      "grid()\n",
      "savefig('3grafiks',dpi=300)"
     ],
     "language": "python",
     "metadata": {},
     "outputs": [
      {
       "output_type": "display_data",
       "png": "[encoded data removed]",
       "text": [
        "<matplotlib.figure.Figure at 0xd1ac82c>"
       ]
      }
     ],
     "prompt_number": 163
    },
    {
     "cell_type": "heading",
     "level": 2,
     "metadata": {},
     "source": [
      "Tabulas eksport\u0113\u0161ana"
     ]
    },
    {
     "cell_type": "code",
     "collapsed": false,
     "input": [
      "# Sar\u0113\u0137in\u0101sim jaunas kollonnas (bez j\u0113gas) un  att\u0113losim\n",
      "\n",
      "tabula['V2'] = tabula.V*9\n",
      "tabula['1/p'] = 1./tabula.p\n",
      "tabula['V**2 + p'] = tabula.V**2 + tabula.p\n",
      "\n",
      "tabula"
     ],
     "language": "python",
     "metadata": {},
     "outputs": [
      {
       "html": [
        "<div style=\"max-height:1000px;max-width:1500px;overflow:auto;\">\n",
        "<table border=\"1\">\n",
        "  <thead>\n",
        "    <tr>\n",
        "      <th></th>\n",
        "      <th>V</th>\n",
        "      <th>p</th>\n",
        "      <th>V_inv</th>\n",
        "      <th>V2</th>\n",
        "      <th>1/p</th>\n",
        "      <th>V**2 + p</th>\n",
        "    </tr>\n",
        "  </thead>\n",
        "  <tbody>\n",
        "    <tr>\n",
        "      <td><strong>0</strong></td>\n",
        "      <td> 0.021</td>\n",
        "      <td> 754840.000</td>\n",
        "      <td> 47.619048</td>\n",
        "      <td> 0.189</td>\n",
        "      <td> 0.000001</td>\n",
        "      <td> 754840.000441</td>\n",
        "    </tr>\n",
        "    <tr>\n",
        "      <td><strong>1</strong></td>\n",
        "      <td> 0.042</td>\n",
        "      <td> 349262.000</td>\n",
        "      <td> 23.809524</td>\n",
        "      <td> 0.378</td>\n",
        "      <td> 0.000003</td>\n",
        "      <td> 349262.001764</td>\n",
        "    </tr>\n",
        "    <tr>\n",
        "      <td><strong>2</strong></td>\n",
        "      <td> 0.063</td>\n",
        "      <td> 283789.000</td>\n",
        "      <td> 15.873016</td>\n",
        "      <td> 0.567</td>\n",
        "      <td> 0.000004</td>\n",
        "      <td> 283789.003969</td>\n",
        "    </tr>\n",
        "    <tr>\n",
        "      <td><strong>3</strong></td>\n",
        "      <td> 0.084</td>\n",
        "      <td> 180425.000</td>\n",
        "      <td> 11.904762</td>\n",
        "      <td> 0.756</td>\n",
        "      <td> 0.000006</td>\n",
        "      <td> 180425.007056</td>\n",
        "    </tr>\n",
        "    <tr>\n",
        "      <td><strong>4</strong></td>\n",
        "      <td> 0.105</td>\n",
        "      <td> 183845.000</td>\n",
        "      <td>  9.523810</td>\n",
        "      <td> 0.945</td>\n",
        "      <td> 0.000005</td>\n",
        "      <td> 183845.011025</td>\n",
        "    </tr>\n",
        "    <tr>\n",
        "      <td><strong>5</strong></td>\n",
        "      <td> 0.126</td>\n",
        "      <td> 109811.000</td>\n",
        "      <td>  7.936508</td>\n",
        "      <td> 1.134</td>\n",
        "      <td> 0.000009</td>\n",
        "      <td> 109811.015876</td>\n",
        "    </tr>\n",
        "    <tr>\n",
        "      <td><strong>6</strong></td>\n",
        "      <td> 0.147</td>\n",
        "      <td> 149705.000</td>\n",
        "      <td>  6.802721</td>\n",
        "      <td> 1.323</td>\n",
        "      <td> 0.000007</td>\n",
        "      <td> 149705.021609</td>\n",
        "    </tr>\n",
        "    <tr>\n",
        "      <td><strong>7</strong></td>\n",
        "      <td> 0.168</td>\n",
        "      <td>  69382.500</td>\n",
        "      <td>  5.952381</td>\n",
        "      <td> 1.512</td>\n",
        "      <td> 0.000014</td>\n",
        "      <td>  69382.528224</td>\n",
        "    </tr>\n",
        "    <tr>\n",
        "      <td><strong>8</strong></td>\n",
        "      <td> 0.189</td>\n",
        "      <td>  83772.400</td>\n",
        "      <td>  5.291005</td>\n",
        "      <td> 1.701</td>\n",
        "      <td> 0.000012</td>\n",
        "      <td>  83772.435721</td>\n",
        "    </tr>\n",
        "    <tr>\n",
        "      <td><strong>9</strong></td>\n",
        "      <td> 0.210</td>\n",
        "      <td>  51708.700</td>\n",
        "      <td>  4.761905</td>\n",
        "      <td> 1.890</td>\n",
        "      <td> 0.000019</td>\n",
        "      <td>  51708.744100</td>\n",
        "    </tr>\n",
        "    <tr>\n",
        "      <td><strong>10</strong></td>\n",
        "      <td> 0.231</td>\n",
        "      <td>  21607.600</td>\n",
        "      <td>  4.329004</td>\n",
        "      <td> 2.079</td>\n",
        "      <td> 0.000046</td>\n",
        "      <td>  21607.653361</td>\n",
        "    </tr>\n",
        "    <tr>\n",
        "      <td><strong>11</strong></td>\n",
        "      <td> 0.252</td>\n",
        "      <td>  59770.800</td>\n",
        "      <td>  3.968254</td>\n",
        "      <td> 2.268</td>\n",
        "      <td> 0.000017</td>\n",
        "      <td>  59770.863504</td>\n",
        "    </tr>\n",
        "    <tr>\n",
        "      <td><strong>12</strong></td>\n",
        "      <td> 0.273</td>\n",
        "      <td>    353.147</td>\n",
        "      <td>  3.663004</td>\n",
        "      <td> 2.457</td>\n",
        "      <td> 0.002832</td>\n",
        "      <td>    353.221529</td>\n",
        "    </tr>\n",
        "    <tr>\n",
        "      <td><strong>13</strong></td>\n",
        "      <td> 0.294</td>\n",
        "      <td>   9035.150</td>\n",
        "      <td>  3.401361</td>\n",
        "      <td> 2.646</td>\n",
        "      <td> 0.000111</td>\n",
        "      <td>   9035.236436</td>\n",
        "    </tr>\n",
        "    <tr>\n",
        "      <td><strong>14</strong></td>\n",
        "      <td> 0.315</td>\n",
        "      <td>  36003.500</td>\n",
        "      <td>  3.174603</td>\n",
        "      <td> 2.835</td>\n",
        "      <td> 0.000028</td>\n",
        "      <td>  36003.599225</td>\n",
        "    </tr>\n",
        "    <tr>\n",
        "      <td><strong>15</strong></td>\n",
        "      <td> 0.336</td>\n",
        "      <td>  44198.800</td>\n",
        "      <td>  2.976190</td>\n",
        "      <td> 3.024</td>\n",
        "      <td> 0.000023</td>\n",
        "      <td>  44198.912896</td>\n",
        "    </tr>\n",
        "    <tr>\n",
        "      <td><strong>16</strong></td>\n",
        "      <td> 0.357</td>\n",
        "      <td>  10863.700</td>\n",
        "      <td>  2.801120</td>\n",
        "      <td> 3.213</td>\n",
        "      <td> 0.000092</td>\n",
        "      <td>  10863.827449</td>\n",
        "    </tr>\n",
        "    <tr>\n",
        "      <td><strong>17</strong></td>\n",
        "      <td> 0.378</td>\n",
        "      <td>  70264.200</td>\n",
        "      <td>  2.645503</td>\n",
        "      <td> 3.402</td>\n",
        "      <td> 0.000014</td>\n",
        "      <td>  70264.342884</td>\n",
        "    </tr>\n",
        "    <tr>\n",
        "      <td><strong>18</strong></td>\n",
        "      <td> 0.399</td>\n",
        "      <td>  25365.400</td>\n",
        "      <td>  2.506266</td>\n",
        "      <td> 3.591</td>\n",
        "      <td> 0.000039</td>\n",
        "      <td>  25365.559201</td>\n",
        "    </tr>\n",
        "    <tr>\n",
        "      <td><strong>19</strong></td>\n",
        "      <td> 0.420</td>\n",
        "      <td>  33553.400</td>\n",
        "      <td>  2.380952</td>\n",
        "      <td> 3.780</td>\n",
        "      <td> 0.000030</td>\n",
        "      <td>  33553.576400</td>\n",
        "    </tr>\n",
        "  </tbody>\n",
        "</table>\n",
        "</div>"
       ],
       "output_type": "pyout",
       "prompt_number": 166,
       "text": [
        "        V           p      V_inv     V2       1/p       V**2 + p\n",
        "0   0.021  754840.000  47.619048  0.189  0.000001  754840.000441\n",
        "1   0.042  349262.000  23.809524  0.378  0.000003  349262.001764\n",
        "2   0.063  283789.000  15.873016  0.567  0.000004  283789.003969\n",
        "3   0.084  180425.000  11.904762  0.756  0.000006  180425.007056\n",
        "4   0.105  183845.000   9.523810  0.945  0.000005  183845.011025\n",
        "5   0.126  109811.000   7.936508  1.134  0.000009  109811.015876\n",
        "6   0.147  149705.000   6.802721  1.323  0.000007  149705.021609\n",
        "7   0.168   69382.500   5.952381  1.512  0.000014   69382.528224\n",
        "8   0.189   83772.400   5.291005  1.701  0.000012   83772.435721\n",
        "9   0.210   51708.700   4.761905  1.890  0.000019   51708.744100\n",
        "10  0.231   21607.600   4.329004  2.079  0.000046   21607.653361\n",
        "11  0.252   59770.800   3.968254  2.268  0.000017   59770.863504\n",
        "12  0.273     353.147   3.663004  2.457  0.002832     353.221529\n",
        "13  0.294    9035.150   3.401361  2.646  0.000111    9035.236436\n",
        "14  0.315   36003.500   3.174603  2.835  0.000028   36003.599225\n",
        "15  0.336   44198.800   2.976190  3.024  0.000023   44198.912896\n",
        "16  0.357   10863.700   2.801120  3.213  0.000092   10863.827449\n",
        "17  0.378   70264.200   2.645503  3.402  0.000014   70264.342884\n",
        "18  0.399   25365.400   2.506266  3.591  0.000039   25365.559201\n",
        "19  0.420   33553.400   2.380952  3.780  0.000030   33553.576400"
       ]
      }
     ],
     "prompt_number": 166
    },
    {
     "cell_type": "code",
     "collapsed": false,
     "input": [
      "#eskport\u0113sim tabulu csv form\u0101t\u0101\n",
      "tabula.to_csv('rez.dat')\n",
      "#\u0160o failu atpaz\u012bst excell un ar\u012b libreoffice-calc, kas ir noder\u012bgs, lai tabulu noform\u0113tu"
     ],
     "language": "python",
     "metadata": {},
     "outputs": [],
     "prompt_number": 183
    },
    {
     "cell_type": "code",
     "collapsed": false,
     "input": [
      "cat 'rez.dat'"
     ],
     "language": "python",
     "metadata": {},
     "outputs": [
      {
       "output_type": "stream",
       "stream": "stdout",
       "text": [
        ",V,p,V_inv,V2,1/p,V**2 + p\r\n",
        "0,0.021000000000000001,754840.0,47.619047619047613,0.189,1.3247840601981877e-06,754840.00044099998\r\n",
        "1,0.042000000000000003,349262.0,23.809523809523807,0.378,2.8631800768477535e-06,349262.00176399999\r\n",
        "2,0.063,283789.0,15.873015873015873,0.56699999999999995,3.5237447540249974e-06,283789.00396900001\r\n",
        "3,0.084000000000000005,180425.0,11.904761904761903,0.75600000000000001,5.542469170015242e-06,180425.007056\r\n",
        "4,0.105,183845.0,9.5238095238095237,0.94499999999999995,5.4393646822051187e-06,183845.01102500001\r\n",
        "5,0.126,109811.0,7.9365079365079367,1.1339999999999999,9.1065558095272792e-06,109811.015876\r\n",
        "6,0.14699999999999999,149705.0,6.8027210884353746,1.323,6.6798036137737547e-06,149705.02160899999\r\n",
        "7,0.16800000000000001,69382.5,5.9523809523809517,1.512,1.4412856267790869e-05,69382.528223999994\r\n",
        "8,0.189,83772.399999999994,5.2910052910052912,1.7010000000000001,1.1937105777081712e-05,83772.435720999987\r\n",
        "9,0.20999999999999999,51708.699999999997,4.7619047619047619,1.8899999999999999,1.9339105411661868e-05,51708.744099999996\r\n",
        "10,0.23100000000000001,21607.599999999999,4.329004329004329,2.0790000000000002,4.6280012588163426e-05,21607.653360999997\r\n",
        "11,0.252,59770.800000000003,3.9682539682539684,2.2679999999999998,1.6730577472612044e-05,59770.863504000001\r\n",
        "12,0.27300000000000002,353.14699999999999,3.6630036630036629,2.4570000000000003,0.0028316819907857069,353.22152899999998\r\n",
        "13,0.29399999999999998,9035.1499999999996,3.4013605442176873,2.6459999999999999,0.00011067884871861564,9035.2364359999992\r\n",
        "14,0.315,36003.5,3.1746031746031744,2.835,2.7775077423028317e-05,36003.599224999998\r\n",
        "15,0.33600000000000002,44198.800000000003,2.9761904761904758,3.024,2.2625048643854584e-05,44198.912896000002\r\n",
        "16,0.35699999999999998,10863.700000000001,2.801120448179272,3.2130000000000001,9.2049670001933043e-05,10863.827449\r\n",
        "17,0.378,70264.199999999997,2.6455026455026456,3.4020000000000001,1.4231998656499328e-05,70264.342883999998\r\n",
        "18,0.39900000000000002,25365.400000000001,2.5062656641604009,3.5910000000000002,3.9423782002255036e-05,25365.559201\r\n",
        "19,0.41999999999999998,33553.400000000001,2.3809523809523809,3.7799999999999998,2.9803239016016261e-05,33553.576399999998\r\n"
       ]
      }
     ],
     "prompt_number": 181
    },
    {
     "cell_type": "code",
     "collapsed": false,
     "input": [
      "# Varam \u0161o failu viegli import\u0113t atpaka\u013c :)\n",
      "read_csv('rez.dat')"
     ],
     "language": "python",
     "metadata": {},
     "outputs": [
      {
       "html": [
        "<div style=\"max-height:1000px;max-width:1500px;overflow:auto;\">\n",
        "<table border=\"1\">\n",
        "  <thead>\n",
        "    <tr>\n",
        "      <th></th>\n",
        "      <th>Unnamed: 0</th>\n",
        "      <th>V</th>\n",
        "      <th>p</th>\n",
        "      <th>V_inv</th>\n",
        "      <th>V2</th>\n",
        "      <th>1/p</th>\n",
        "      <th>V**2 + p</th>\n",
        "    </tr>\n",
        "  </thead>\n",
        "  <tbody>\n",
        "    <tr>\n",
        "      <td><strong>0</strong></td>\n",
        "      <td>  0</td>\n",
        "      <td> 0.021</td>\n",
        "      <td> 754840.000</td>\n",
        "      <td> 47.619048</td>\n",
        "      <td> 0.189</td>\n",
        "      <td> 0.000001</td>\n",
        "      <td> 754840.000441</td>\n",
        "    </tr>\n",
        "    <tr>\n",
        "      <td><strong>1</strong></td>\n",
        "      <td>  1</td>\n",
        "      <td> 0.042</td>\n",
        "      <td> 349262.000</td>\n",
        "      <td> 23.809524</td>\n",
        "      <td> 0.378</td>\n",
        "      <td> 0.000003</td>\n",
        "      <td> 349262.001764</td>\n",
        "    </tr>\n",
        "    <tr>\n",
        "      <td><strong>2</strong></td>\n",
        "      <td>  2</td>\n",
        "      <td> 0.063</td>\n",
        "      <td> 283789.000</td>\n",
        "      <td> 15.873016</td>\n",
        "      <td> 0.567</td>\n",
        "      <td> 0.000004</td>\n",
        "      <td> 283789.003969</td>\n",
        "    </tr>\n",
        "    <tr>\n",
        "      <td><strong>3</strong></td>\n",
        "      <td>  3</td>\n",
        "      <td> 0.084</td>\n",
        "      <td> 180425.000</td>\n",
        "      <td> 11.904762</td>\n",
        "      <td> 0.756</td>\n",
        "      <td> 0.000006</td>\n",
        "      <td> 180425.007056</td>\n",
        "    </tr>\n",
        "    <tr>\n",
        "      <td><strong>4</strong></td>\n",
        "      <td>  4</td>\n",
        "      <td> 0.105</td>\n",
        "      <td> 183845.000</td>\n",
        "      <td>  9.523810</td>\n",
        "      <td> 0.945</td>\n",
        "      <td> 0.000005</td>\n",
        "      <td> 183845.011025</td>\n",
        "    </tr>\n",
        "    <tr>\n",
        "      <td><strong>5</strong></td>\n",
        "      <td>  5</td>\n",
        "      <td> 0.126</td>\n",
        "      <td> 109811.000</td>\n",
        "      <td>  7.936508</td>\n",
        "      <td> 1.134</td>\n",
        "      <td> 0.000009</td>\n",
        "      <td> 109811.015876</td>\n",
        "    </tr>\n",
        "    <tr>\n",
        "      <td><strong>6</strong></td>\n",
        "      <td>  6</td>\n",
        "      <td> 0.147</td>\n",
        "      <td> 149705.000</td>\n",
        "      <td>  6.802721</td>\n",
        "      <td> 1.323</td>\n",
        "      <td> 0.000007</td>\n",
        "      <td> 149705.021609</td>\n",
        "    </tr>\n",
        "    <tr>\n",
        "      <td><strong>7</strong></td>\n",
        "      <td>  7</td>\n",
        "      <td> 0.168</td>\n",
        "      <td>  69382.500</td>\n",
        "      <td>  5.952381</td>\n",
        "      <td> 1.512</td>\n",
        "      <td> 0.000014</td>\n",
        "      <td>  69382.528224</td>\n",
        "    </tr>\n",
        "    <tr>\n",
        "      <td><strong>8</strong></td>\n",
        "      <td>  8</td>\n",
        "      <td> 0.189</td>\n",
        "      <td>  83772.400</td>\n",
        "      <td>  5.291005</td>\n",
        "      <td> 1.701</td>\n",
        "      <td> 0.000012</td>\n",
        "      <td>  83772.435721</td>\n",
        "    </tr>\n",
        "    <tr>\n",
        "      <td><strong>9</strong></td>\n",
        "      <td>  9</td>\n",
        "      <td> 0.210</td>\n",
        "      <td>  51708.700</td>\n",
        "      <td>  4.761905</td>\n",
        "      <td> 1.890</td>\n",
        "      <td> 0.000019</td>\n",
        "      <td>  51708.744100</td>\n",
        "    </tr>\n",
        "    <tr>\n",
        "      <td><strong>10</strong></td>\n",
        "      <td> 10</td>\n",
        "      <td> 0.231</td>\n",
        "      <td>  21607.600</td>\n",
        "      <td>  4.329004</td>\n",
        "      <td> 2.079</td>\n",
        "      <td> 0.000046</td>\n",
        "      <td>  21607.653361</td>\n",
        "    </tr>\n",
        "    <tr>\n",
        "      <td><strong>11</strong></td>\n",
        "      <td> 11</td>\n",
        "      <td> 0.252</td>\n",
        "      <td>  59770.800</td>\n",
        "      <td>  3.968254</td>\n",
        "      <td> 2.268</td>\n",
        "      <td> 0.000017</td>\n",
        "      <td>  59770.863504</td>\n",
        "    </tr>\n",
        "    <tr>\n",
        "      <td><strong>12</strong></td>\n",
        "      <td> 12</td>\n",
        "      <td> 0.273</td>\n",
        "      <td>    353.147</td>\n",
        "      <td>  3.663004</td>\n",
        "      <td> 2.457</td>\n",
        "      <td> 0.002832</td>\n",
        "      <td>    353.221529</td>\n",
        "    </tr>\n",
        "    <tr>\n",
        "      <td><strong>13</strong></td>\n",
        "      <td> 13</td>\n",
        "      <td> 0.294</td>\n",
        "      <td>   9035.150</td>\n",
        "      <td>  3.401361</td>\n",
        "      <td> 2.646</td>\n",
        "      <td> 0.000111</td>\n",
        "      <td>   9035.236436</td>\n",
        "    </tr>\n",
        "    <tr>\n",
        "      <td><strong>14</strong></td>\n",
        "      <td> 14</td>\n",
        "      <td> 0.315</td>\n",
        "      <td>  36003.500</td>\n",
        "      <td>  3.174603</td>\n",
        "      <td> 2.835</td>\n",
        "      <td> 0.000028</td>\n",
        "      <td>  36003.599225</td>\n",
        "    </tr>\n",
        "    <tr>\n",
        "      <td><strong>15</strong></td>\n",
        "      <td> 15</td>\n",
        "      <td> 0.336</td>\n",
        "      <td>  44198.800</td>\n",
        "      <td>  2.976190</td>\n",
        "      <td> 3.024</td>\n",
        "      <td> 0.000023</td>\n",
        "      <td>  44198.912896</td>\n",
        "    </tr>\n",
        "    <tr>\n",
        "      <td><strong>16</strong></td>\n",
        "      <td> 16</td>\n",
        "      <td> 0.357</td>\n",
        "      <td>  10863.700</td>\n",
        "      <td>  2.801120</td>\n",
        "      <td> 3.213</td>\n",
        "      <td> 0.000092</td>\n",
        "      <td>  10863.827449</td>\n",
        "    </tr>\n",
        "    <tr>\n",
        "      <td><strong>17</strong></td>\n",
        "      <td> 17</td>\n",
        "      <td> 0.378</td>\n",
        "      <td>  70264.200</td>\n",
        "      <td>  2.645503</td>\n",
        "      <td> 3.402</td>\n",
        "      <td> 0.000014</td>\n",
        "      <td>  70264.342884</td>\n",
        "    </tr>\n",
        "    <tr>\n",
        "      <td><strong>18</strong></td>\n",
        "      <td> 18</td>\n",
        "      <td> 0.399</td>\n",
        "      <td>  25365.400</td>\n",
        "      <td>  2.506266</td>\n",
        "      <td> 3.591</td>\n",
        "      <td> 0.000039</td>\n",
        "      <td>  25365.559201</td>\n",
        "    </tr>\n",
        "    <tr>\n",
        "      <td><strong>19</strong></td>\n",
        "      <td> 19</td>\n",
        "      <td> 0.420</td>\n",
        "      <td>  33553.400</td>\n",
        "      <td>  2.380952</td>\n",
        "      <td> 3.780</td>\n",
        "      <td> 0.000030</td>\n",
        "      <td>  33553.576400</td>\n",
        "    </tr>\n",
        "  </tbody>\n",
        "</table>\n",
        "</div>"
       ],
       "output_type": "pyout",
       "prompt_number": 180,
       "text": [
        "    Unnamed: 0      V           p      V_inv     V2       1/p       V**2 + p\n",
        "0            0  0.021  754840.000  47.619048  0.189  0.000001  754840.000441\n",
        "1            1  0.042  349262.000  23.809524  0.378  0.000003  349262.001764\n",
        "2            2  0.063  283789.000  15.873016  0.567  0.000004  283789.003969\n",
        "3            3  0.084  180425.000  11.904762  0.756  0.000006  180425.007056\n",
        "4            4  0.105  183845.000   9.523810  0.945  0.000005  183845.011025\n",
        "5            5  0.126  109811.000   7.936508  1.134  0.000009  109811.015876\n",
        "6            6  0.147  149705.000   6.802721  1.323  0.000007  149705.021609\n",
        "7            7  0.168   69382.500   5.952381  1.512  0.000014   69382.528224\n",
        "8            8  0.189   83772.400   5.291005  1.701  0.000012   83772.435721\n",
        "9            9  0.210   51708.700   4.761905  1.890  0.000019   51708.744100\n",
        "10          10  0.231   21607.600   4.329004  2.079  0.000046   21607.653361\n",
        "11          11  0.252   59770.800   3.968254  2.268  0.000017   59770.863504\n",
        "12          12  0.273     353.147   3.663004  2.457  0.002832     353.221529\n",
        "13          13  0.294    9035.150   3.401361  2.646  0.000111    9035.236436\n",
        "14          14  0.315   36003.500   3.174603  2.835  0.000028   36003.599225\n",
        "15          15  0.336   44198.800   2.976190  3.024  0.000023   44198.912896\n",
        "16          16  0.357   10863.700   2.801120  3.213  0.000092   10863.827449\n",
        "17          17  0.378   70264.200   2.645503  3.402  0.000014   70264.342884\n",
        "18          18  0.399   25365.400   2.506266  3.591  0.000039   25365.559201\n",
        "19          19  0.420   33553.400   2.380952  3.780  0.000030   33553.576400"
       ]
      }
     ],
     "prompt_number": 180
    }
   ],
   "metadata": {}
  }
 ]
}