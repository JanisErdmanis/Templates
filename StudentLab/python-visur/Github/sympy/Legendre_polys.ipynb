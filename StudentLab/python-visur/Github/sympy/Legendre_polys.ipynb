{
 "metadata": {
  "name": "Legendre_polys"
 },
 "nbformat": 3,
 "nbformat_minor": 0,
 "worksheets": [
  {
   "cells": [
    {
     "cell_type": "code",
     "collapsed": true,
     "input": [
      "%load_ext sympy.interactive.ipythonprinting"
     ],
     "language": "python",
     "metadata": {},
     "outputs": [],
     "prompt_number": 1
    },
    {
     "cell_type": "code",
     "collapsed": false,
     "input": [
      "%reload_ext sympy.interactive.ipythonprinting"
     ],
     "language": "python",
     "metadata": {},
     "outputs": [],
     "prompt_number": 2
    },
    {
     "cell_type": "code",
     "collapsed": true,
     "input": [
      "from sympy import *"
     ],
     "language": "python",
     "metadata": {},
     "outputs": [],
     "prompt_number": 3
    },
    {
     "cell_type": "code",
     "collapsed": true,
     "input": [
      "x = Symbol(\"x\")"
     ],
     "language": "python",
     "metadata": {},
     "outputs": [],
     "prompt_number": 4
    },
    {
     "cell_type": "code",
     "collapsed": true,
     "input": [
      "n = Symbol(\"n\", integer=True)\n",
      "k = Symbol(\"k\", integer=True)\n",
      "l = Symbol(\"l\", integer=True)\n",
      "m = Symbol(\"m\", integer=True)"
     ],
     "language": "python",
     "metadata": {},
     "outputs": [],
     "prompt_number": 5
    },
    {
     "cell_type": "code",
     "collapsed": false,
     "input": [
      "kern = (-1)**k*binomial(n, k)**2*((1+x)/2)**(n-k)*((1-x)/2)**k\n",
      "kern"
     ],
     "language": "python",
     "metadata": {},
     "outputs": [
      {
       "latex": [
        "$$\\left(-1\\right)^{k} \\left(- \\frac{1}{2} x + \\frac{1}{2}\\right)^{k} \\left(\\frac{1}{2} x + \\frac{1}{2}\\right)^{- k + n} {\\binom{n}{k}}^{2}$$"
       ],
       "output_type": "pyout",
       "png": "[encoded data removed]",
       "prompt_number": 6,
       "text": [
        "               k        -k + n    2\n",
        "    k \u239b  x   1\u239e  \u239bx   1\u239e       \u239bn\u239e \n",
        "(-1) \u22c5\u239c- \u2500 + \u2500\u239f \u22c5\u239c\u2500 + \u2500\u239f      \u22c5\u239c \u239f \n",
        "      \u239d  2   2\u23a0  \u239d2   2\u23a0       \u239dk\u23a0 "
       ]
      }
     ],
     "prompt_number": 6
    },
    {
     "cell_type": "code",
     "collapsed": false,
     "input": [
      "Pn = Sum(kern, (k, 0, n))\n",
      "Pn"
     ],
     "language": "python",
     "metadata": {},
     "outputs": [
      {
       "latex": [
        "$$\\sum_{k=0}^{n} \\left(-1\\right)^{k} \\left(- \\frac{1}{2} x + \\frac{1}{2}\\right)^{k} \\left(\\frac{1}{2} x + \\frac{1}{2}\\right)^{- k + n} {\\binom{n}{k}}^{2}$$"
       ],
       "output_type": "pyout",
       "png": "[encoded data removed]",
       "prompt_number": 7,
       "text": [
        "  n                                      \n",
        " ____                                    \n",
        " \u2572                                       \n",
        "  \u2572                  k        -k + n    2\n",
        "   \u2572      k \u239b  x   1\u239e  \u239bx   1\u239e       \u239bn\u239e \n",
        "   \u2571  (-1) \u22c5\u239c- \u2500 + \u2500\u239f \u22c5\u239c\u2500 + \u2500\u239f      \u22c5\u239c \u239f \n",
        "  \u2571         \u239d  2   2\u23a0  \u239d2   2\u23a0       \u239dk\u23a0 \n",
        " \u2571                                       \n",
        " \u203e\u203e\u203e\u203e                                    \n",
        "k = 0                                    "
       ]
      }
     ],
     "prompt_number": 7
    },
    {
     "cell_type": "code",
     "collapsed": false,
     "input": [
      "[ expand(Pn.subs(n,i).doit()) for i in range(5) ]"
     ],
     "language": "python",
     "metadata": {},
     "outputs": [
      {
       "latex": [
        "$$\\begin{bmatrix}1, & x, & \\frac{3}{2} x^{2} - \\frac{1}{2}, & \\frac{5}{2} x^{3} - \\frac{3}{2} x, & \\frac{35}{8} x^{4} - \\frac{15}{4} x^{2} + \\frac{3}{8}\\end{bmatrix}$$"
       ],
       "output_type": "pyout",
       "prompt_number": 8,
       "text": [
        "\u23a1         2         3            4       2    \u23a4\n",
        "\u23a2      3\u22c5x    1  5\u22c5x    3\u22c5x  35\u22c5x    15\u22c5x    3\u23a5\n",
        "\u23a21, x, \u2500\u2500\u2500\u2500 - \u2500, \u2500\u2500\u2500\u2500 - \u2500\u2500\u2500, \u2500\u2500\u2500\u2500\u2500 - \u2500\u2500\u2500\u2500\u2500 + \u2500\u23a5\n",
        "\u23a3       2     2   2      2     8       4     8\u23a6"
       ]
      }
     ],
     "prompt_number": 8
    },
    {
     "cell_type": "code",
     "collapsed": false,
     "input": [
      "legendre(n,x)"
     ],
     "language": "python",
     "metadata": {},
     "outputs": [
      {
       "latex": [
        "$$P_{n}\\left(x\\right)$$"
       ],
       "output_type": "pyout",
       "png": "[encoded data removed]",
       "prompt_number": 9,
       "text": [
        "legendre(n, x)"
       ]
      }
     ],
     "prompt_number": 9
    },
    {
     "cell_type": "code",
     "collapsed": false,
     "input": [
      "expand_func(_)"
     ],
     "language": "python",
     "metadata": {},
     "outputs": [
      {
       "latex": [
        "$$P_{n}\\left(x\\right)$$"
       ],
       "output_type": "pyout",
       "png": "[encoded data removed]",
       "prompt_number": 10,
       "text": [
        "legendre(n, x)"
       ]
      }
     ],
     "prompt_number": 10
    },
    {
     "cell_type": "code",
     "collapsed": false,
     "input": [
      "legendre(n, -x)"
     ],
     "language": "python",
     "metadata": {},
     "outputs": [
      {
       "latex": [
        "$$\\left(-1\\right)^{n} P_{n}\\left(x\\right)$$"
       ],
       "output_type": "pyout",
       "png": "[encoded data removed]",
       "prompt_number": 11,
       "text": [
        "    n               \n",
        "(-1) \u22c5legendre(n, x)"
       ]
      }
     ],
     "prompt_number": 11
    },
    {
     "cell_type": "code",
     "collapsed": false,
     "input": [
      "expand_func(_)"
     ],
     "language": "python",
     "metadata": {},
     "outputs": [
      {
       "latex": [
        "$$\\left(-1\\right)^{n} P_{n}\\left(x\\right)$$"
       ],
       "output_type": "pyout",
       "png": "[encoded data removed]",
       "prompt_number": 12,
       "text": [
        "    n               \n",
        "(-1) \u22c5legendre(n, x)"
       ]
      }
     ],
     "prompt_number": 12
    },
    {
     "cell_type": "code",
     "collapsed": false,
     "input": [
      "legendre(-n, x)"
     ],
     "language": "python",
     "metadata": {},
     "outputs": [
      {
       "latex": [
        "$$P_{n -1}\\left(x\\right)$$"
       ],
       "output_type": "pyout",
       "png": "[encoded data removed]",
       "prompt_number": 13,
       "text": [
        "legendre(n - 1, x)"
       ]
      }
     ],
     "prompt_number": 13
    },
    {
     "cell_type": "code",
     "collapsed": false,
     "input": [
      "expand_func(_)"
     ],
     "language": "python",
     "metadata": {},
     "outputs": [
      {
       "latex": [
        "$$P_{n -1}\\left(x\\right)$$"
       ],
       "output_type": "pyout",
       "png": "[encoded data removed]",
       "prompt_number": 14,
       "text": [
        "legendre(n - 1, x)"
       ]
      }
     ],
     "prompt_number": 14
    },
    {
     "cell_type": "code",
     "collapsed": false,
     "input": [
      "legendre(n, 0)"
     ],
     "language": "python",
     "metadata": {},
     "outputs": [
      {
       "latex": [
        "$$\\frac{\\sqrt{\\pi}}{\\Gamma\\left(- \\frac{1}{2} n + \\frac{1}{2}\\right) \\Gamma\\left(\\frac{1}{2} n + 1\\right)}$$"
       ],
       "output_type": "pyout",
       "png": "[encoded data removed]",
       "prompt_number": 15,
       "text": [
        "         ___       \n",
        "       \u2572\u2571 \u03c0        \n",
        "\u2500\u2500\u2500\u2500\u2500\u2500\u2500\u2500\u2500\u2500\u2500\u2500\u2500\u2500\u2500\u2500\u2500\u2500\u2500\n",
        " \u239b  n   1\u239e  \u239bn    \u239e\n",
        "\u0393\u239c- \u2500 + \u2500\u239f\u22c5\u0393\u239c\u2500 + 1\u239f\n",
        " \u239d  2   2\u23a0  \u239d2    \u23a0"
       ]
      }
     ],
     "prompt_number": 15
    },
    {
     "cell_type": "code",
     "collapsed": false,
     "input": [
      "expand_func(_)"
     ],
     "language": "python",
     "metadata": {},
     "outputs": [
      {
       "latex": [
        "$$2 \\frac{\\sqrt{\\pi}}{n \\Gamma\\left(\\frac{1}{2} n\\right) \\Gamma\\left(- \\frac{1}{2} n + \\frac{1}{2}\\right)}$$"
       ],
       "output_type": "pyout",
       "png": "[encoded data removed]",
       "prompt_number": 16,
       "text": [
        "         ___     \n",
        "     2\u22c5\u2572\u2571 \u03c0      \n",
        "\u2500\u2500\u2500\u2500\u2500\u2500\u2500\u2500\u2500\u2500\u2500\u2500\u2500\u2500\u2500\u2500\u2500\n",
        "   \u239bn\u239e  \u239b  n   1\u239e\n",
        "n\u22c5\u0393\u239c\u2500\u239f\u22c5\u0393\u239c- \u2500 + \u2500\u239f\n",
        "   \u239d2\u23a0  \u239d  2   2\u23a0"
       ]
      }
     ],
     "prompt_number": 16
    },
    {
     "cell_type": "code",
     "collapsed": false,
     "input": [
      "legendre(n, 1)"
     ],
     "language": "python",
     "metadata": {},
     "outputs": [
      {
       "latex": [
        "$$1$$"
       ],
       "output_type": "pyout",
       "png": "[encoded data removed]",
       "prompt_number": 17,
       "text": [
        "1"
       ]
      }
     ],
     "prompt_number": 17
    },
    {
     "cell_type": "code",
     "collapsed": false,
     "input": [
      "expand_func(_)"
     ],
     "language": "python",
     "metadata": {},
     "outputs": [
      {
       "latex": [
        "$$1$$"
       ],
       "output_type": "pyout",
       "png": "[encoded data removed]",
       "prompt_number": 18,
       "text": [
        "1"
       ]
      }
     ],
     "prompt_number": 18
    },
    {
     "cell_type": "code",
     "collapsed": false,
     "input": [
      "legendre(n, -1)"
     ],
     "language": "python",
     "metadata": {},
     "outputs": [
      {
       "latex": [
        "$$\\left(-1\\right)^{n}$$"
       ],
       "output_type": "pyout",
       "png": "[encoded data removed]",
       "prompt_number": 19,
       "text": [
        "    n\n",
        "(-1) "
       ]
      }
     ],
     "prompt_number": 19
    },
    {
     "cell_type": "code",
     "collapsed": false,
     "input": [
      "expand_func(_, deep=True)"
     ],
     "language": "python",
     "metadata": {},
     "outputs": [
      {
       "latex": [
        "$$\\left(-1\\right)^{n}$$"
       ],
       "output_type": "pyout",
       "png": "[encoded data removed]",
       "prompt_number": 20,
       "text": [
        "    n\n",
        "(-1) "
       ]
      }
     ],
     "prompt_number": 20
    },
    {
     "cell_type": "code",
     "collapsed": false,
     "input": [
      "diff(legendre(n,x), x)"
     ],
     "language": "python",
     "metadata": {},
     "outputs": [
      {
       "latex": [
        "$$\\frac{n \\left(x P_{n}\\left(x\\right) - P_{n -1}\\left(x\\right)\\right)}{x^{2} -1}$$"
       ],
       "output_type": "pyout",
       "png": "[encoded data removed]",
       "prompt_number": 21,
       "text": [
        "n\u22c5(x\u22c5legendre(n, x) - legendre(n - 1, x))\n",
        "\u2500\u2500\u2500\u2500\u2500\u2500\u2500\u2500\u2500\u2500\u2500\u2500\u2500\u2500\u2500\u2500\u2500\u2500\u2500\u2500\u2500\u2500\u2500\u2500\u2500\u2500\u2500\u2500\u2500\u2500\u2500\u2500\u2500\u2500\u2500\u2500\u2500\u2500\u2500\u2500\u2500\n",
        "                   2                     \n",
        "                  x  - 1                 "
       ]
      }
     ],
     "prompt_number": 21
    },
    {
     "cell_type": "code",
     "collapsed": false,
     "input": [
      "expand_func(_)"
     ],
     "language": "python",
     "metadata": {},
     "outputs": [
      {
       "latex": [
        "$$\\frac{n \\left(x P_{n}\\left(x\\right) - P_{n -1}\\left(x\\right)\\right)}{x^{2} -1}$$"
       ],
       "output_type": "pyout",
       "png": "[encoded data removed]",
       "prompt_number": 22,
       "text": [
        "n\u22c5(x\u22c5legendre(n, x) - legendre(n - 1, x))\n",
        "\u2500\u2500\u2500\u2500\u2500\u2500\u2500\u2500\u2500\u2500\u2500\u2500\u2500\u2500\u2500\u2500\u2500\u2500\u2500\u2500\u2500\u2500\u2500\u2500\u2500\u2500\u2500\u2500\u2500\u2500\u2500\u2500\u2500\u2500\u2500\u2500\u2500\u2500\u2500\u2500\u2500\n",
        "                   2                     \n",
        "                  x  - 1                 "
       ]
      }
     ],
     "prompt_number": 22
    },
    {
     "cell_type": "code",
     "collapsed": false,
     "input": [
      "diff(legendre(n,x), n)"
     ],
     "language": "python",
     "metadata": {},
     "outputs": [
      {
       "latex": [
        "$$\\frac{\\partial}{\\partial n} P_{n}\\left(x\\right)$$"
       ],
       "output_type": "pyout",
       "png": "[encoded data removed]",
       "prompt_number": 23,
       "text": [
        "d                 \n",
        "\u2500\u2500(legendre(n, x))\n",
        "dn                "
       ]
      }
     ],
     "prompt_number": 23
    },
    {
     "cell_type": "code",
     "collapsed": false,
     "input": [
      "LP = legendre(n,x).rewrite(\"polynomial\")\n",
      "LP"
     ],
     "language": "python",
     "metadata": {},
     "outputs": [
      {
       "latex": [
        "$$\\sum_{k=0}^{n} \\left(-1\\right)^{k} \\left(- \\frac{1}{2} x + \\frac{1}{2}\\right)^{k} \\left(\\frac{1}{2} x + \\frac{1}{2}\\right)^{- k + n} {\\binom{n}{k}}^{2}$$"
       ],
       "output_type": "pyout",
       "png": "[encoded data removed]",
       "prompt_number": 24,
       "text": [
        "  n                                      \n",
        " ____                                    \n",
        " \u2572                                       \n",
        "  \u2572                  k        -k + n    2\n",
        "   \u2572      k \u239b  x   1\u239e  \u239bx   1\u239e       \u239bn\u239e \n",
        "   \u2571  (-1) \u22c5\u239c- \u2500 + \u2500\u239f \u22c5\u239c\u2500 + \u2500\u239f      \u22c5\u239c \u239f \n",
        "  \u2571         \u239d  2   2\u23a0  \u239d2   2\u23a0       \u239dk\u23a0 \n",
        " \u2571                                       \n",
        " \u203e\u203e\u203e\u203e                                    \n",
        "k = 0                                    "
       ]
      }
     ],
     "prompt_number": 24
    },
    {
     "cell_type": "code",
     "collapsed": false,
     "input": [
      "[ legendre(i, x) for i in range(5) ]"
     ],
     "language": "python",
     "metadata": {},
     "outputs": [
      {
       "latex": [
        "$$\\begin{bmatrix}1, & x, & \\frac{3}{2} x^{2} - \\frac{1}{2}, & \\frac{5}{2} x^{3} - \\frac{3}{2} x, & \\frac{35}{8} x^{4} - \\frac{15}{4} x^{2} + \\frac{3}{8}\\end{bmatrix}$$"
       ],
       "output_type": "pyout",
       "prompt_number": 25,
       "text": [
        "\u23a1         2         3            4       2    \u23a4\n",
        "\u23a2      3\u22c5x    1  5\u22c5x    3\u22c5x  35\u22c5x    15\u22c5x    3\u23a5\n",
        "\u23a21, x, \u2500\u2500\u2500\u2500 - \u2500, \u2500\u2500\u2500\u2500 - \u2500\u2500\u2500, \u2500\u2500\u2500\u2500\u2500 - \u2500\u2500\u2500\u2500\u2500 + \u2500\u23a5\n",
        "\u23a3       2     2   2      2     8       4     8\u23a6"
       ]
      }
     ],
     "prompt_number": 25
    },
    {
     "cell_type": "code",
     "collapsed": false,
     "input": [
      "[ expand(Pn.subs(n,N).doit()) - legendre(N,x) for N in range(10) ]"
     ],
     "language": "python",
     "metadata": {},
     "outputs": [
      {
       "latex": [
        "$$\\begin{bmatrix}0, & 0, & 0, & 0, & 0, & 0, & 0, & 0, & 0, & 0\\end{bmatrix}$$"
       ],
       "output_type": "pyout",
       "prompt_number": 26,
       "text": [
        "[0, 0, 0, 0, 0, 0, 0, 0, 0, 0]"
       ]
      }
     ],
     "prompt_number": 26
    },
    {
     "cell_type": "code",
     "collapsed": false,
     "input": [
      "legendre(n,x).rewrite(\"polynomial\")"
     ],
     "language": "python",
     "metadata": {},
     "outputs": [
      {
       "latex": [
        "$$\\sum_{k=0}^{n} \\left(-1\\right)^{k} \\left(- \\frac{1}{2} x + \\frac{1}{2}\\right)^{k} \\left(\\frac{1}{2} x + \\frac{1}{2}\\right)^{- k + n} {\\binom{n}{k}}^{2}$$"
       ],
       "output_type": "pyout",
       "png": "[encoded data removed]",
       "prompt_number": 27,
       "text": [
        "  n                                      \n",
        " ____                                    \n",
        " \u2572                                       \n",
        "  \u2572                  k        -k + n    2\n",
        "   \u2572      k \u239b  x   1\u239e  \u239bx   1\u239e       \u239bn\u239e \n",
        "   \u2571  (-1) \u22c5\u239c- \u2500 + \u2500\u239f \u22c5\u239c\u2500 + \u2500\u239f      \u22c5\u239c \u239f \n",
        "  \u2571         \u239d  2   2\u23a0  \u239d2   2\u23a0       \u239dk\u23a0 \n",
        " \u2571                                       \n",
        " \u203e\u203e\u203e\u203e                                    \n",
        "k = 0                                    "
       ]
      }
     ],
     "prompt_number": 27
    },
    {
     "cell_type": "code",
     "collapsed": false,
     "input": [
      "kern0 = factorial(2*n-2*k)/(2**n*factorial(n-k)*factorial(k)*factorial(n-2*k))*(-1)**k*x**(n-2*k)\n",
      "kern0"
     ],
     "language": "python",
     "metadata": {},
     "outputs": [
      {
       "latex": [
        "$$\\frac{\\left(-1\\right)^{k} 2^{- n} x^{- 2 k + n} \\left(- 2 k + 2 n\\right)!}{k! \\left(- 2 k + n\\right)! \\left(- k + n\\right)!}$$"
       ],
       "output_type": "pyout",
       "png": "[encoded data removed]",
       "prompt_number": 28,
       "text": [
        "    k  -n  -2\u22c5k + n              \n",
        "(-1) \u22c52  \u22c5x        \u22c5(-2\u22c5k + 2\u22c5n)!\n",
        "\u2500\u2500\u2500\u2500\u2500\u2500\u2500\u2500\u2500\u2500\u2500\u2500\u2500\u2500\u2500\u2500\u2500\u2500\u2500\u2500\u2500\u2500\u2500\u2500\u2500\u2500\u2500\u2500\u2500\u2500\u2500\u2500\u2500\n",
        "     k!\u22c5(-2\u22c5k + n)!\u22c5(-k + n)!    "
       ]
      }
     ],
     "prompt_number": 28
    },
    {
     "cell_type": "code",
     "collapsed": false,
     "input": [
      "Pn0 = Sum(kern0, (k,0,floor(n/2)))\n",
      "Pn0"
     ],
     "language": "python",
     "metadata": {},
     "outputs": [
      {
       "latex": [
        "$$\\sum_{k=0}^{\\lfloor{\\frac{1}{2} n}\\rfloor} \\frac{\\left(-1\\right)^{k} 2^{- n} x^{- 2 k + n} \\left(- 2 k + 2 n\\right)!}{k! \\left(- 2 k + n\\right)! \\left(- k + n\\right)!}$$"
       ],
       "output_type": "pyout",
       "png": "[encoded data removed]",
       "prompt_number": 29,
       "text": [
        " \u23a2n\u23a5                                   \n",
        " \u23a2\u2500\u23a5                                   \n",
        " \u23a32\u23a6                                   \n",
        " ____                                  \n",
        " \u2572                                     \n",
        "  \u2572       k  -n  -2\u22c5k + n              \n",
        "   \u2572  (-1) \u22c52  \u22c5x        \u22c5(-2\u22c5k + 2\u22c5n)!\n",
        "   \u2571  \u2500\u2500\u2500\u2500\u2500\u2500\u2500\u2500\u2500\u2500\u2500\u2500\u2500\u2500\u2500\u2500\u2500\u2500\u2500\u2500\u2500\u2500\u2500\u2500\u2500\u2500\u2500\u2500\u2500\u2500\u2500\u2500\u2500\n",
        "  \u2571        k!\u22c5(-2\u22c5k + n)!\u22c5(-k + n)!    \n",
        " \u2571                                     \n",
        " \u203e\u203e\u203e\u203e                                  \n",
        "k = 0                                  "
       ]
      }
     ],
     "prompt_number": 29
    },
    {
     "cell_type": "code",
     "collapsed": false,
     "input": [
      "[ expand(Pn0.subs(n,N).doit()) - legendre(N,x) for N in range(10) ]"
     ],
     "language": "python",
     "metadata": {},
     "outputs": [
      {
       "latex": [
        "$$\\begin{bmatrix}0, & 0, & 0, & 0, & 0, & 0, & 0, & 0, & 0, & 0\\end{bmatrix}$$"
       ],
       "output_type": "pyout",
       "prompt_number": 30,
       "text": [
        "[0, 0, 0, 0, 0, 0, 0, 0, 0, 0]"
       ]
      }
     ],
     "prompt_number": 30
    },
    {
     "cell_type": "code",
     "collapsed": true,
     "input": [
      "from numpy import linspace\n",
      "from matplotlib.pyplot import *"
     ],
     "language": "python",
     "metadata": {},
     "outputs": [],
     "prompt_number": 31
    },
    {
     "cell_type": "code",
     "collapsed": true,
     "input": [
      "U = linspace(-1,1,500)"
     ],
     "language": "python",
     "metadata": {},
     "outputs": [],
     "prompt_number": 32
    },
    {
     "cell_type": "code",
     "collapsed": true,
     "input": [
      "F = lambda k: lambda u: legendre(k,u).evalf()\n",
      "polyvals = [ map(p, U) for p in map(F, xrange(10)) ]"
     ],
     "language": "python",
     "metadata": {},
     "outputs": [],
     "prompt_number": 33
    },
    {
     "cell_type": "code",
     "collapsed": false,
     "input": [
      "figure(figsize=(8,8))\n",
      "for V in polyvals:\n",
      "    plot(U, V)"
     ],
     "language": "python",
     "metadata": {},
     "outputs": [
      {
       "output_type": "display_data",
       "png": "[encoded data removed]",
       "text": [
        "Figure(640x640)"
       ]
      }
     ],
     "prompt_number": 34
    },
    {
     "cell_type": "markdown",
     "metadata": {},
     "source": [
      "Associated Legendre Polynomials"
     ]
    },
    {
     "cell_type": "code",
     "collapsed": false,
     "input": [
      "kern2 = factorial(2*l-2*k)/(2**l*factorial(l-k)*factorial(k)*factorial(l-2*k-m))*(-1)**k*x**(l-m-2*k)\n",
      "kern2"
     ],
     "language": "python",
     "metadata": {},
     "outputs": [
      {
       "latex": [
        "$$\\frac{\\left(-1\\right)^{k} 2^{- l} x^{- 2 k + l - m} \\left(- 2 k + 2 l\\right)!}{k! \\left(- k + l\\right)! \\left(- 2 k + l - m\\right)!}$$"
       ],
       "output_type": "pyout",
       "png": "[encoded data removed]",
       "prompt_number": 35,
       "text": [
        "    k  -l  -2\u22c5k + l - m              \n",
        "(-1) \u22c52  \u22c5x            \u22c5(-2\u22c5k + 2\u22c5l)!\n",
        "\u2500\u2500\u2500\u2500\u2500\u2500\u2500\u2500\u2500\u2500\u2500\u2500\u2500\u2500\u2500\u2500\u2500\u2500\u2500\u2500\u2500\u2500\u2500\u2500\u2500\u2500\u2500\u2500\u2500\u2500\u2500\u2500\u2500\u2500\u2500\u2500\u2500\n",
        "     k!\u22c5(-k + l)!\u22c5(-2\u22c5k + l - m)!    "
       ]
      }
     ],
     "prompt_number": 35
    },
    {
     "cell_type": "code",
     "collapsed": false,
     "input": [
      "pref = (1-x**2)**(m/2)\n",
      "pref"
     ],
     "language": "python",
     "metadata": {},
     "outputs": [
      {
       "latex": [
        "$$\\left(- x^{2} + 1\\right)^{\\frac{1}{2} m}$$"
       ],
       "output_type": "pyout",
       "png": "[encoded data removed]",
       "prompt_number": 36,
       "text": [
        "          m\n",
        "          \u2500\n",
        "          2\n",
        "\u239b   2    \u239e \n",
        "\u239d- x  + 1\u23a0 "
       ]
      }
     ],
     "prompt_number": 36
    },
    {
     "cell_type": "code",
     "collapsed": false,
     "input": [
      "lim = floor((l-m)/2)\n",
      "lim"
     ],
     "language": "python",
     "metadata": {},
     "outputs": [
      {
       "latex": [
        "$$\\lfloor{\\frac{1}{2} l - \\frac{1}{2} m}\\rfloor$$"
       ],
       "output_type": "pyout",
       "png": "[encoded data removed]",
       "prompt_number": 37,
       "text": [
        "\u23a2l   m\u23a5\n",
        "\u23a2\u2500 - \u2500\u23a5\n",
        "\u23a32   2\u23a6"
       ]
      }
     ],
     "prompt_number": 37
    },
    {
     "cell_type": "code",
     "collapsed": false,
     "input": [
      "Plm = pref * Sum(kern2, (k, 0, lim))\n",
      "Plm"
     ],
     "language": "python",
     "metadata": {},
     "outputs": [
      {
       "latex": [
        "$$\\left(- x^{2} + 1\\right)^{\\frac{1}{2} m} \\sum_{k=0}^{\\lfloor{\\frac{1}{2} l - \\frac{1}{2} m}\\rfloor} \\frac{\\left(-1\\right)^{k} 2^{- l} x^{- 2 k + l - m} \\left(- 2 k + 2 l\\right)!}{k! \\left(- k + l\\right)! \\left(- 2 k + l - m\\right)!}$$"
       ],
       "output_type": "pyout",
       "png": "[encoded data removed]",
       "prompt_number": 38,
       "text": [
        "            \u23a2l   m\u23a5                                      \n",
        "            \u23a2\u2500 - \u2500\u23a5                                      \n",
        "            \u23a32   2\u23a6                                      \n",
        "          m   ____                                       \n",
        "          \u2500   \u2572                                          \n",
        "          2    \u2572        k  -l  -2\u22c5k + l - m              \n",
        "\u239b   2    \u239e      \u2572   (-1) \u22c52  \u22c5x            \u22c5(-2\u22c5k + 2\u22c5l)!\n",
        "\u239d- x  + 1\u23a0 \u22c5    \u2571   \u2500\u2500\u2500\u2500\u2500\u2500\u2500\u2500\u2500\u2500\u2500\u2500\u2500\u2500\u2500\u2500\u2500\u2500\u2500\u2500\u2500\u2500\u2500\u2500\u2500\u2500\u2500\u2500\u2500\u2500\u2500\u2500\u2500\u2500\u2500\u2500\u2500\n",
        "               \u2571         k!\u22c5(-k + l)!\u22c5(-2\u22c5k + l - m)!    \n",
        "              \u2571                                          \n",
        "              \u203e\u203e\u203e\u203e                                       \n",
        "             k = 0                                       "
       ]
      }
     ],
     "prompt_number": 38
    },
    {
     "cell_type": "code",
     "collapsed": true,
     "input": [
      "L = 4\n",
      "M = 4"
     ],
     "language": "python",
     "metadata": {},
     "outputs": [],
     "prompt_number": 39
    },
    {
     "cell_type": "code",
     "collapsed": false,
     "input": [
      "expand(Plm.subs(l,L).subs(m,M).doit())"
     ],
     "language": "python",
     "metadata": {},
     "outputs": [
      {
       "latex": [
        "$$105 x^{4} - 210 x^{2} + 105$$"
       ],
       "output_type": "pyout",
       "png": "[encoded data removed]",
       "prompt_number": 40,
       "text": [
        "     4        2      \n",
        "105\u22c5x  - 210\u22c5x  + 105"
       ]
      }
     ],
     "prompt_number": 40
    },
    {
     "cell_type": "code",
     "collapsed": false,
     "input": [
      "Pml2 = (-1)**M*(1-x**2)**(Rational(M,2))*diff(Pn.subs(n,L).doit(), x, M)\n",
      "expand(Pml2)"
     ],
     "language": "python",
     "metadata": {},
     "outputs": [
      {
       "latex": [
        "$$105 x^{4} - 210 x^{2} + 105$$"
       ],
       "output_type": "pyout",
       "png": "[encoded data removed]",
       "prompt_number": 41,
       "text": [
        "     4        2      \n",
        "105\u22c5x  - 210\u22c5x  + 105"
       ]
      }
     ],
     "prompt_number": 41
    },
    {
     "cell_type": "code",
     "collapsed": false,
     "input": [
      "expand(assoc_legendre(L, M, x))"
     ],
     "language": "python",
     "metadata": {},
     "outputs": [
      {
       "latex": [
        "$$105 x^{4} - 210 x^{2} + 105$$"
       ],
       "output_type": "pyout",
       "png": "[encoded data removed]",
       "prompt_number": 42,
       "text": [
        "     4        2      \n",
        "105\u22c5x  - 210\u22c5x  + 105"
       ]
      }
     ],
     "prompt_number": 42
    },
    {
     "cell_type": "code",
     "collapsed": false,
     "input": [
      "assoc_legendre(m,n,x)"
     ],
     "language": "python",
     "metadata": {},
     "outputs": [
      {
       "latex": [
        "$$P_{m}^{\\left(n\\right)}\\left(x\\right)$$"
       ],
       "output_type": "pyout",
       "png": "[encoded data removed]",
       "prompt_number": 43,
       "text": [
        "assoc_legendre(m, n, x)"
       ]
      }
     ],
     "prompt_number": 43
    },
    {
     "cell_type": "code",
     "collapsed": false,
     "input": [
      "expand_func(_)"
     ],
     "language": "python",
     "metadata": {},
     "outputs": [
      {
       "latex": [
        "$$P_{m}^{\\left(n\\right)}\\left(x\\right)$$"
       ],
       "output_type": "pyout",
       "png": "[encoded data removed]",
       "prompt_number": 44,
       "text": [
        "assoc_legendre(m, n, x)"
       ]
      }
     ],
     "prompt_number": 44
    },
    {
     "cell_type": "code",
     "collapsed": false,
     "input": [
      "assoc_legendre(m,n,-x)"
     ],
     "language": "python",
     "metadata": {},
     "outputs": [
      {
       "latex": [
        "$$P_{m}^{\\left(n\\right)}\\left(- x\\right)$$"
       ],
       "output_type": "pyout",
       "png": "[encoded data removed]",
       "prompt_number": 45,
       "text": [
        "assoc_legendre(m, n, -x)"
       ]
      }
     ],
     "prompt_number": 45
    },
    {
     "cell_type": "code",
     "collapsed": false,
     "input": [
      "expand_func(_)"
     ],
     "language": "python",
     "metadata": {},
     "outputs": [
      {
       "latex": [
        "$$P_{m}^{\\left(n\\right)}\\left(- x\\right)$$"
       ],
       "output_type": "pyout",
       "png": "[encoded data removed]",
       "prompt_number": 46,
       "text": [
        "assoc_legendre(m, n, -x)"
       ]
      }
     ],
     "prompt_number": 46
    },
    {
     "cell_type": "code",
     "collapsed": false,
     "input": [
      "assoc_legendre(m,-n,x)"
     ],
     "language": "python",
     "metadata": {},
     "outputs": [
      {
       "latex": [
        "$$\\frac{\\left(-1\\right)^{n} P_{m}^{\\left(n\\right)}\\left(x\\right) \\left(m - n\\right)!}{\\left(m + n\\right)!}$$"
       ],
       "output_type": "pyout",
       "png": "[encoded data removed]",
       "prompt_number": 47,
       "text": [
        "    n                                 \n",
        "(-1) \u22c5assoc_legendre(m, n, x)\u22c5(m - n)!\n",
        "\u2500\u2500\u2500\u2500\u2500\u2500\u2500\u2500\u2500\u2500\u2500\u2500\u2500\u2500\u2500\u2500\u2500\u2500\u2500\u2500\u2500\u2500\u2500\u2500\u2500\u2500\u2500\u2500\u2500\u2500\u2500\u2500\u2500\u2500\u2500\u2500\u2500\u2500\n",
        "               (m + n)!               "
       ]
      }
     ],
     "prompt_number": 47
    },
    {
     "cell_type": "code",
     "collapsed": false,
     "input": [
      "expand_func(_)"
     ],
     "language": "python",
     "metadata": {},
     "outputs": [
      {
       "latex": [
        "$$\\frac{\\left(-1\\right)^{n} P_{m}^{\\left(n\\right)}\\left(x\\right) \\left(m - n\\right)!}{\\left(m + n\\right)!}$$"
       ],
       "output_type": "pyout",
       "png": "[encoded data removed]",
       "prompt_number": 48,
       "text": [
        "    n                                 \n",
        "(-1) \u22c5assoc_legendre(m, n, x)\u22c5(m - n)!\n",
        "\u2500\u2500\u2500\u2500\u2500\u2500\u2500\u2500\u2500\u2500\u2500\u2500\u2500\u2500\u2500\u2500\u2500\u2500\u2500\u2500\u2500\u2500\u2500\u2500\u2500\u2500\u2500\u2500\u2500\u2500\u2500\u2500\u2500\u2500\u2500\u2500\u2500\u2500\n",
        "               (m + n)!               "
       ]
      }
     ],
     "prompt_number": 48
    },
    {
     "cell_type": "code",
     "collapsed": false,
     "input": [
      "assoc_legendre(-m,n,x)"
     ],
     "language": "python",
     "metadata": {},
     "outputs": [
      {
       "latex": [
        "$$P_{- m}^{\\left(n\\right)}\\left(x\\right)$$"
       ],
       "output_type": "pyout",
       "png": "[encoded data removed]",
       "prompt_number": 49,
       "text": [
        "assoc_legendre(-m, n, x)"
       ]
      }
     ],
     "prompt_number": 49
    },
    {
     "cell_type": "code",
     "collapsed": false,
     "input": [
      "expand_func(_)"
     ],
     "language": "python",
     "metadata": {},
     "outputs": [
      {
       "latex": [
        "$$P_{- m}^{\\left(n\\right)}\\left(x\\right)$$"
       ],
       "output_type": "pyout",
       "png": "[encoded data removed]",
       "prompt_number": 50,
       "text": [
        "assoc_legendre(-m, n, x)"
       ]
      }
     ],
     "prompt_number": 50
    },
    {
     "cell_type": "code",
     "collapsed": false,
     "input": [
      "assoc_legendre(n,m,0)"
     ],
     "language": "python",
     "metadata": {},
     "outputs": [
      {
       "latex": [
        "$$\\frac{2^{m} \\sqrt{\\pi}}{\\Gamma\\left(- \\frac{1}{2} m - \\frac{1}{2} n + \\frac{1}{2}\\right) \\Gamma\\left(- \\frac{1}{2} m + \\frac{1}{2} n + 1\\right)}$$"
       ],
       "output_type": "pyout",
       "png": "[encoded data removed]",
       "prompt_number": 51,
       "text": [
        "            m   ___          \n",
        "           2 \u22c5\u2572\u2571 \u03c0           \n",
        "\u2500\u2500\u2500\u2500\u2500\u2500\u2500\u2500\u2500\u2500\u2500\u2500\u2500\u2500\u2500\u2500\u2500\u2500\u2500\u2500\u2500\u2500\u2500\u2500\u2500\u2500\u2500\u2500\u2500\n",
        " \u239b  m   n   1\u239e  \u239b  m   n    \u239e\n",
        "\u0393\u239c- \u2500 - \u2500 + \u2500\u239f\u22c5\u0393\u239c- \u2500 + \u2500 + 1\u239f\n",
        " \u239d  2   2   2\u23a0  \u239d  2   2    \u23a0"
       ]
      }
     ],
     "prompt_number": 51
    },
    {
     "cell_type": "code",
     "collapsed": false,
     "input": [
      "expand_func(_)"
     ],
     "language": "python",
     "metadata": {},
     "outputs": [
      {
       "latex": [
        "$$\\frac{2^{m} \\sqrt{\\pi}}{\\left(- \\frac{1}{2} m + \\frac{1}{2} n\\right) \\Gamma\\left(- \\frac{1}{2} m + \\frac{1}{2} n\\right) \\Gamma\\left(- \\frac{1}{2} m - \\frac{1}{2} n + \\frac{1}{2}\\right)}$$"
       ],
       "output_type": "pyout",
       "png": "[encoded data removed]",
       "prompt_number": 52,
       "text": [
        "               m   ___             \n",
        "              2 \u22c5\u2572\u2571 \u03c0              \n",
        "\u2500\u2500\u2500\u2500\u2500\u2500\u2500\u2500\u2500\u2500\u2500\u2500\u2500\u2500\u2500\u2500\u2500\u2500\u2500\u2500\u2500\u2500\u2500\u2500\u2500\u2500\u2500\u2500\u2500\u2500\u2500\u2500\u2500\u2500\u2500\n",
        "\u239b  m   n\u239e  \u239b  m   n\u239e  \u239b  m   n   1\u239e\n",
        "\u239c- \u2500 + \u2500\u239f\u22c5\u0393\u239c- \u2500 + \u2500\u239f\u22c5\u0393\u239c- \u2500 - \u2500 + \u2500\u239f\n",
        "\u239d  2   2\u23a0  \u239d  2   2\u23a0  \u239d  2   2   2\u23a0"
       ]
      }
     ],
     "prompt_number": 52
    },
    {
     "cell_type": "code",
     "collapsed": false,
     "input": [
      "for i in xrange(5):\n",
      "    for j in xrange(-i, i+1):\n",
      "        Poly = expand(assoc_legendre(i,j,x))\n",
      "        print((i, j, Poly))"
     ],
     "language": "python",
     "metadata": {},
     "outputs": [
      {
       "output_type": "stream",
       "stream": "stdout",
       "text": [
        "(0, 0, 1)\n",
        "(1, -1, sqrt(-x**2 + 1)/2)\n",
        "(1, 0, x)\n",
        "(1, 1, -sqrt(-x**2 + 1))\n",
        "(2, -2, -x**2/8 + 1/8)\n",
        "(2, -1, x*sqrt(-x**2 + 1)/2)\n",
        "(2, 0, 3*x**2/2 - 1/2)\n",
        "(2, 1, -3*x*sqrt(-x**2 + 1))\n",
        "(2, 2, -3*x**2 + 3)\n",
        "(3, -3, -x**2*sqrt(-x**2 + 1)/48 + sqrt(-x**2 + 1)/48)\n",
        "(3, -2, -x**3/8 + x/8)\n",
        "(3, -1, 5*x**2*sqrt(-x**2 + 1)/8 - sqrt(-x**2 + 1)/8)\n",
        "(3, 0, 5*x**3/2 - 3*x/2)\n",
        "(3, 1, -15*x**2*sqrt(-x**2 + 1)/2 + 3*sqrt(-x**2 + 1)/2)\n",
        "(3, 2, -15*x**3 + 15*x)"
       ]
      },
      {
       "output_type": "stream",
       "stream": "stdout",
       "text": [
        "\n",
        "(3, 3, 15*x**2*sqrt(-x**2 + 1) - 15*sqrt(-x**2 + 1))\n",
        "(4, -4, x**4/384 - x**2/192 + 1/384)\n",
        "(4, -3, -x**3*sqrt(-x**2 + 1)/48 + x*sqrt(-x**2 + 1)/48)\n",
        "(4, -2, -7*x**4/48 + x**2/6 - 1/48)\n",
        "(4, -1, 7*x**3*sqrt(-x**2 + 1)/8 - 3*x*sqrt(-x**2 + 1)/8)\n",
        "(4, 0, 35*x**4/8 - 15*x**2/4 + 3/8)\n",
        "(4, 1, -35*x**3*sqrt(-x**2 + 1)/2 + 15*x*sqrt(-x**2 + 1)/2)\n",
        "(4, 2, -105*x**4/2 + 60*x**2 - 15/2)\n",
        "(4, 3, 105*x**3*sqrt(-x**2 + 1) - 105*x*sqrt(-x**2 + 1))\n",
        "(4, 4, 105*x**4 - 210*x**2 + 105)\n"
       ]
      }
     ],
     "prompt_number": 53
    },
    {
     "cell_type": "code",
     "collapsed": false,
     "input": [
      "diff(assoc_legendre(n,m,x),x)"
     ],
     "language": "python",
     "metadata": {},
     "outputs": [
      {
       "latex": [
        "$$\\frac{n x P_{n}^{\\left(m\\right)}\\left(x\\right) - \\left(m + n\\right) P_{n -1}^{\\left(m\\right)}\\left(x\\right)}{x^{2} -1}$$"
       ],
       "output_type": "pyout",
       "png": "[encoded data removed]",
       "prompt_number": 54,
       "text": [
        "n\u22c5x\u22c5assoc_legendre(n, m, x) - (m + n)\u22c5assoc_legendre(n - 1, m, x)\n",
        "\u2500\u2500\u2500\u2500\u2500\u2500\u2500\u2500\u2500\u2500\u2500\u2500\u2500\u2500\u2500\u2500\u2500\u2500\u2500\u2500\u2500\u2500\u2500\u2500\u2500\u2500\u2500\u2500\u2500\u2500\u2500\u2500\u2500\u2500\u2500\u2500\u2500\u2500\u2500\u2500\u2500\u2500\u2500\u2500\u2500\u2500\u2500\u2500\u2500\u2500\u2500\u2500\u2500\u2500\u2500\u2500\u2500\u2500\u2500\u2500\u2500\u2500\u2500\u2500\u2500\n",
        "                               2                                 \n",
        "                              x  - 1                             "
       ]
      }
     ],
     "prompt_number": 54
    },
    {
     "cell_type": "code",
     "collapsed": false,
     "input": [
      "expand_func(_)"
     ],
     "language": "python",
     "metadata": {},
     "outputs": [
      {
       "latex": [
        "$$\\frac{n x P_{n}^{\\left(m\\right)}\\left(x\\right) - \\left(m + n\\right) P_{n -1}^{\\left(m\\right)}\\left(x\\right)}{x^{2} -1}$$"
       ],
       "output_type": "pyout",
       "png": "[encoded data removed]",
       "prompt_number": 55,
       "text": [
        "n\u22c5x\u22c5assoc_legendre(n, m, x) - (m + n)\u22c5assoc_legendre(n - 1, m, x)\n",
        "\u2500\u2500\u2500\u2500\u2500\u2500\u2500\u2500\u2500\u2500\u2500\u2500\u2500\u2500\u2500\u2500\u2500\u2500\u2500\u2500\u2500\u2500\u2500\u2500\u2500\u2500\u2500\u2500\u2500\u2500\u2500\u2500\u2500\u2500\u2500\u2500\u2500\u2500\u2500\u2500\u2500\u2500\u2500\u2500\u2500\u2500\u2500\u2500\u2500\u2500\u2500\u2500\u2500\u2500\u2500\u2500\u2500\u2500\u2500\u2500\u2500\u2500\u2500\u2500\u2500\n",
        "                               2                                 \n",
        "                              x  - 1                             "
       ]
      }
     ],
     "prompt_number": 55
    },
    {
     "cell_type": "code",
     "collapsed": false,
     "input": [
      "diff(assoc_legendre(n,m,x),m)"
     ],
     "language": "python",
     "metadata": {},
     "outputs": [
      {
       "latex": [
        "$$\\frac{\\partial}{\\partial m} P_{n}^{\\left(m\\right)}\\left(x\\right)$$"
       ],
       "output_type": "pyout",
       "png": "[encoded data removed]",
       "prompt_number": 56,
       "text": [
        "d                          \n",
        "\u2500\u2500(assoc_legendre(n, m, x))\n",
        "dm                         "
       ]
      }
     ],
     "prompt_number": 56
    },
    {
     "cell_type": "code",
     "collapsed": false,
     "input": [
      "diff(assoc_legendre(n,m,x),n)"
     ],
     "language": "python",
     "metadata": {},
     "outputs": [
      {
       "latex": [
        "$$\\frac{\\partial}{\\partial n} P_{n}^{\\left(m\\right)}\\left(x\\right)$$"
       ],
       "output_type": "pyout",
       "png": "[encoded data removed]",
       "prompt_number": 57,
       "text": [
        "d                          \n",
        "\u2500\u2500(assoc_legendre(n, m, x))\n",
        "dn                         "
       ]
      }
     ],
     "prompt_number": 57
    },
    {
     "cell_type": "code",
     "collapsed": false,
     "input": [
      "expand_func(_)"
     ],
     "language": "python",
     "metadata": {},
     "outputs": [
      {
       "latex": [
        "$$\\frac{\\partial}{\\partial n} P_{n}^{\\left(m\\right)}\\left(x\\right)$$"
       ],
       "output_type": "pyout",
       "png": "[encoded data removed]",
       "prompt_number": 58,
       "text": [
        "d                          \n",
        "\u2500\u2500(assoc_legendre(n, m, x))\n",
        "dn                         "
       ]
      }
     ],
     "prompt_number": 58
    },
    {
     "cell_type": "code",
     "collapsed": false,
     "input": [
      "assoc_legendre(n,m,x).rewrite(\"polynomial\")"
     ],
     "language": "python",
     "metadata": {},
     "outputs": [
      {
       "latex": [
        "$$\\left(- x^{2} + 1\\right)^{\\frac{1}{2} m} \\sum_{k=0}^{\\lfloor{- \\frac{1}{2} m + \\frac{1}{2} n}\\rfloor} \\frac{\\left(-1\\right)^{k} 2^{- n} x^{- 2 k - m + n} \\left(- 2 k + 2 n\\right)!}{k! \\left(- k + n\\right)! \\left(- 2 k - m + n\\right)!}$$"
       ],
       "output_type": "pyout",
       "png": "[encoded data removed]",
       "prompt_number": 59,
       "text": [
        "            \u23a2  m   n\u23a5                                      \n",
        "            \u23a2- \u2500 + \u2500\u23a5                                      \n",
        "            \u23a3  2   2\u23a6                                      \n",
        "          m    ____                                        \n",
        "          \u2500    \u2572                                           \n",
        "          2     \u2572         k  -n  -2\u22c5k - m + n              \n",
        "\u239b   2    \u239e       \u2572    (-1) \u22c52  \u22c5x            \u22c5(-2\u22c5k + 2\u22c5n)!\n",
        "\u239d- x  + 1\u23a0 \u22c5     \u2571    \u2500\u2500\u2500\u2500\u2500\u2500\u2500\u2500\u2500\u2500\u2500\u2500\u2500\u2500\u2500\u2500\u2500\u2500\u2500\u2500\u2500\u2500\u2500\u2500\u2500\u2500\u2500\u2500\u2500\u2500\u2500\u2500\u2500\u2500\u2500\u2500\u2500\n",
        "                \u2571          k!\u22c5(-k + n)!\u22c5(-2\u22c5k - m + n)!    \n",
        "               \u2571                                           \n",
        "               \u203e\u203e\u203e\u203e                                        \n",
        "              k = 0                                        "
       ]
      }
     ],
     "prompt_number": 59
    },
    {
     "cell_type": "code",
     "collapsed": false,
     "input": [
      "expand_func(_)"
     ],
     "language": "python",
     "metadata": {},
     "outputs": [
      {
       "latex": [
        "$$\\left(- x^{2} + 1\\right)^{\\frac{1}{2} m} \\sum_{k=0}^{\\lfloor{- \\frac{1}{2} m + \\frac{1}{2} n}\\rfloor} \\frac{\\left(-1\\right)^{k} 2^{- n} x^{- 2 k - m + n} \\left(- 2 k + 2 n\\right)!}{k! \\left(- k + n\\right)! \\left(- 2 k - m + n\\right)!}$$"
       ],
       "output_type": "pyout",
       "png": "[encoded data removed]",
       "prompt_number": 60,
       "text": [
        "            \u23a2  m   n\u23a5                                      \n",
        "            \u23a2- \u2500 + \u2500\u23a5                                      \n",
        "            \u23a3  2   2\u23a6                                      \n",
        "          m    ____                                        \n",
        "          \u2500    \u2572                                           \n",
        "          2     \u2572         k  -n  -2\u22c5k - m + n              \n",
        "\u239b   2    \u239e       \u2572    (-1) \u22c52  \u22c5x            \u22c5(-2\u22c5k + 2\u22c5n)!\n",
        "\u239d- x  + 1\u23a0 \u22c5     \u2571    \u2500\u2500\u2500\u2500\u2500\u2500\u2500\u2500\u2500\u2500\u2500\u2500\u2500\u2500\u2500\u2500\u2500\u2500\u2500\u2500\u2500\u2500\u2500\u2500\u2500\u2500\u2500\u2500\u2500\u2500\u2500\u2500\u2500\u2500\u2500\u2500\u2500\n",
        "                \u2571          k!\u22c5(-k + n)!\u22c5(-2\u22c5k - m + n)!    \n",
        "               \u2571                                           \n",
        "               \u203e\u203e\u203e\u203e                                        \n",
        "              k = 0                                        "
       ]
      }
     ],
     "prompt_number": 60
    },
    {
     "cell_type": "code",
     "collapsed": false,
     "input": [
      "for i in range(5):\n",
      "    for j in range(-i, i+1):\n",
      "        Pml2 = (-S.One)**(Abs(j))*(S.One-x**2)**(Rational(Abs(j),2))*diff(legendre(i,x), x, Abs(j))\n",
      "        if j < 0:\n",
      "            Pml2 = (-S.One)**Abs(j)*factorial(i-Abs(j))/factorial(Abs(j)+i) * Pml2\n",
      "            \n",
      "        A = expand(Pml2.doit())\n",
      "        B = assoc_legendre(i, j, x)\n",
      "        print((i, j, simplify(A - B)))"
     ],
     "language": "python",
     "metadata": {},
     "outputs": [
      {
       "output_type": "stream",
       "stream": "stdout",
       "text": [
        "(0, 0, 0)\n",
        "(1, -1, 0)\n",
        "(1, 0, 0)\n",
        "(1, 1, 0)\n",
        "(2, -2, 0)\n",
        "(2, -1, 0)\n",
        "(2, 0, 0)\n",
        "(2, 1, 0)\n",
        "(2, 2, 0)\n",
        "(3, -3, 0)"
       ]
      },
      {
       "output_type": "stream",
       "stream": "stdout",
       "text": [
        "\n",
        "(3, -2, 0)\n",
        "(3, -1, 0)"
       ]
      },
      {
       "output_type": "stream",
       "stream": "stdout",
       "text": [
        "\n",
        "(3, 0, 0)\n",
        "(3, 1, 0)"
       ]
      },
      {
       "output_type": "stream",
       "stream": "stdout",
       "text": [
        "\n",
        "(3, 2, 0)\n",
        "(3, 3, 0)"
       ]
      },
      {
       "output_type": "stream",
       "stream": "stdout",
       "text": [
        "\n",
        "(4, -4, 0)\n",
        "(4, -3, 0)"
       ]
      },
      {
       "output_type": "stream",
       "stream": "stdout",
       "text": [
        "\n",
        "(4, -2, 0)"
       ]
      },
      {
       "output_type": "stream",
       "stream": "stdout",
       "text": [
        "\n",
        "(4, -1, 0)"
       ]
      },
      {
       "output_type": "stream",
       "stream": "stdout",
       "text": [
        "\n",
        "(4, 0, 0)\n",
        "(4, 1, 0)"
       ]
      },
      {
       "output_type": "stream",
       "stream": "stdout",
       "text": [
        "\n",
        "(4, 2, 0)"
       ]
      },
      {
       "output_type": "stream",
       "stream": "stdout",
       "text": [
        "\n",
        "(4, 3, 0)\n",
        "(4, 4, 0)"
       ]
      },
      {
       "output_type": "stream",
       "stream": "stdout",
       "text": [
        "\n"
       ]
      }
     ],
     "prompt_number": 61
    },
    {
     "cell_type": "code",
     "collapsed": false,
     "input": [
      "P11 = assoc_legendre(1,1,x)\n",
      "P11"
     ],
     "language": "python",
     "metadata": {},
     "outputs": [
      {
       "latex": [
        "$$- \\sqrt{- x^{2} + 1}$$"
       ],
       "output_type": "pyout",
       "png": "[encoded data removed]",
       "prompt_number": 62,
       "text": [
        "    __________\n",
        "   \u2571    2     \n",
        "-\u2572\u2571  - x  + 1 "
       ]
      }
     ],
     "prompt_number": 62
    },
    {
     "cell_type": "code",
     "collapsed": false,
     "input": [
      "assoc_legendre(1,-1,x)"
     ],
     "language": "python",
     "metadata": {},
     "outputs": [
      {
       "latex": [
        "$$\\frac{1}{2} \\sqrt{- x^{2} + 1}$$"
       ],
       "output_type": "pyout",
       "png": "[encoded data removed]",
       "prompt_number": 63,
       "text": [
        "   __________\n",
        "  \u2571    2     \n",
        "\u2572\u2571  - x  + 1 \n",
        "\u2500\u2500\u2500\u2500\u2500\u2500\u2500\u2500\u2500\u2500\u2500\u2500\u2500\n",
        "      2      "
       ]
      }
     ],
     "prompt_number": 63
    },
    {
     "cell_type": "code",
     "collapsed": false,
     "input": [
      "-P11/2"
     ],
     "language": "python",
     "metadata": {},
     "outputs": [
      {
       "latex": [
        "$$\\frac{1}{2} \\sqrt{- x^{2} + 1}$$"
       ],
       "output_type": "pyout",
       "png": "[encoded data removed]",
       "prompt_number": 64,
       "text": [
        "   __________\n",
        "  \u2571    2     \n",
        "\u2572\u2571  - x  + 1 \n",
        "\u2500\u2500\u2500\u2500\u2500\u2500\u2500\u2500\u2500\u2500\u2500\u2500\u2500\n",
        "      2      "
       ]
      }
     ],
     "prompt_number": 64
    },
    {
     "cell_type": "code",
     "collapsed": false,
     "input": [
      "simplify(assoc_legendre(n, l, x) + assoc_legendre(n, -l, x))"
     ],
     "language": "python",
     "metadata": {},
     "outputs": [
      {
       "latex": [
        "$$\\frac{\\left(\\left(-1\\right)^{l} \\left(- l + n\\right)! + \\left(l + n\\right)!\\right) P_{n}^{\\left(l\\right)}\\left(x\\right)}{\\left(l + n\\right)!}$$"
       ],
       "output_type": "pyout",
       "png": "[encoded data removed]",
       "prompt_number": 65,
       "text": [
        "\u239b    l                     \u239e                        \n",
        "\u239d(-1) \u22c5(-l + n)! + (l + n)!\u23a0\u22c5assoc_legendre(n, l, x)\n",
        "\u2500\u2500\u2500\u2500\u2500\u2500\u2500\u2500\u2500\u2500\u2500\u2500\u2500\u2500\u2500\u2500\u2500\u2500\u2500\u2500\u2500\u2500\u2500\u2500\u2500\u2500\u2500\u2500\u2500\u2500\u2500\u2500\u2500\u2500\u2500\u2500\u2500\u2500\u2500\u2500\u2500\u2500\u2500\u2500\u2500\u2500\u2500\u2500\u2500\u2500\u2500\u2500\n",
        "                      (l + n)!                      "
       ]
      }
     ],
     "prompt_number": 65
    },
    {
     "cell_type": "code",
     "collapsed": false,
     "input": [
      "dl = diff(legendre(n,x),x)\n",
      "dl"
     ],
     "language": "python",
     "metadata": {},
     "outputs": [
      {
       "latex": [
        "$$\\frac{n \\left(x P_{n}\\left(x\\right) - P_{n -1}\\left(x\\right)\\right)}{x^{2} -1}$$"
       ],
       "output_type": "pyout",
       "png": "[encoded data removed]",
       "prompt_number": 66,
       "text": [
        "n\u22c5(x\u22c5legendre(n, x) - legendre(n - 1, x))\n",
        "\u2500\u2500\u2500\u2500\u2500\u2500\u2500\u2500\u2500\u2500\u2500\u2500\u2500\u2500\u2500\u2500\u2500\u2500\u2500\u2500\u2500\u2500\u2500\u2500\u2500\u2500\u2500\u2500\u2500\u2500\u2500\u2500\u2500\u2500\u2500\u2500\u2500\u2500\u2500\u2500\u2500\n",
        "                   2                     \n",
        "                  x  - 1                 "
       ]
      }
     ],
     "prompt_number": 66
    },
    {
     "cell_type": "code",
     "collapsed": false,
     "input": [
      "# Takes long time but works\n",
      "#integrate(dl, x)"
     ],
     "language": "python",
     "metadata": {},
     "outputs": [],
     "prompt_number": 67
    },
    {
     "cell_type": "code",
     "collapsed": true,
     "input": [
      "dlm = diff(legendre(m,x),x)\n",
      "dln = diff(legendre(n,x),x)"
     ],
     "language": "python",
     "metadata": {},
     "outputs": [],
     "prompt_number": 68
    },
    {
     "cell_type": "code",
     "collapsed": true,
     "input": [
      "# Takes an even longer time\n",
      "#integrate(dlm*dln, (x, -1,1))"
     ],
     "language": "python",
     "metadata": {},
     "outputs": [],
     "prompt_number": 69
    },
    {
     "cell_type": "code",
     "collapsed": false,
     "input": [
      "assoc_legendre(S(3)/4, S(1)/4, x)"
     ],
     "language": "python",
     "metadata": {},
     "outputs": [
      {
       "latex": [
        "$$P_{\\frac{3}{4}}^{\\left(\\frac{1}{4}\\right)}\\left(x\\right)$$"
       ],
       "output_type": "pyout",
       "png": "[encoded data removed]",
       "prompt_number": 70,
       "text": [
        "assoc_legendre(3/4, 1/4, x)"
       ]
      }
     ],
     "prompt_number": 70
    },
    {
     "cell_type": "code",
     "collapsed": false,
     "input": [
      "expand_func(_)"
     ],
     "language": "python",
     "metadata": {},
     "outputs": [
      {
       "latex": [
        "$$P_{\\frac{3}{4}}^{\\left(\\frac{1}{4}\\right)}\\left(x\\right)$$"
       ],
       "output_type": "pyout",
       "png": "[encoded data removed]",
       "prompt_number": 71,
       "text": [
        "assoc_legendre(3/4, 1/4, x)"
       ]
      }
     ],
     "prompt_number": 71
    },
    {
     "cell_type": "code",
     "collapsed": false,
     "input": [
      "legendre(10, x)"
     ],
     "language": "python",
     "metadata": {},
     "outputs": [
      {
       "latex": [
        "$$\\frac{46189}{256} x^{10} - \\frac{109395}{256} x^{8} + \\frac{45045}{128} x^{6} - \\frac{15015}{128} x^{4} + \\frac{3465}{256} x^{2} - \\frac{63}{256}$$"
       ],
       "output_type": "pyout",
       "png": "[encoded data removed]",
       "prompt_number": 72,
       "text": [
        "       10           8          6          4         2      \n",
        "46189\u22c5x     109395\u22c5x    45045\u22c5x    15015\u22c5x    3465\u22c5x     63\n",
        "\u2500\u2500\u2500\u2500\u2500\u2500\u2500\u2500\u2500 - \u2500\u2500\u2500\u2500\u2500\u2500\u2500\u2500\u2500 + \u2500\u2500\u2500\u2500\u2500\u2500\u2500\u2500 - \u2500\u2500\u2500\u2500\u2500\u2500\u2500\u2500 + \u2500\u2500\u2500\u2500\u2500\u2500\u2500 - \u2500\u2500\u2500\n",
        "   256         256        128        128        256     256"
       ]
      }
     ],
     "prompt_number": 72
    },
    {
     "cell_type": "code",
     "collapsed": false,
     "input": [
      "expand_func(_)"
     ],
     "language": "python",
     "metadata": {},
     "outputs": [
      {
       "latex": [
        "$$\\frac{46189}{256} x^{10} - \\frac{109395}{256} x^{8} + \\frac{45045}{128} x^{6} - \\frac{15015}{128} x^{4} + \\frac{3465}{256} x^{2} - \\frac{63}{256}$$"
       ],
       "output_type": "pyout",
       "png": "[encoded data removed]",
       "prompt_number": 73,
       "text": [
        "       10           8          6          4         2      \n",
        "46189\u22c5x     109395\u22c5x    45045\u22c5x    15015\u22c5x    3465\u22c5x     63\n",
        "\u2500\u2500\u2500\u2500\u2500\u2500\u2500\u2500\u2500 - \u2500\u2500\u2500\u2500\u2500\u2500\u2500\u2500\u2500 + \u2500\u2500\u2500\u2500\u2500\u2500\u2500\u2500 - \u2500\u2500\u2500\u2500\u2500\u2500\u2500\u2500 + \u2500\u2500\u2500\u2500\u2500\u2500\u2500 - \u2500\u2500\u2500\n",
        "   256         256        128        128        256     256"
       ]
      }
     ],
     "prompt_number": 73
    },
    {
     "cell_type": "code",
     "collapsed": false,
     "input": [
      "factor(_)"
     ],
     "language": "python",
     "metadata": {},
     "outputs": [
      {
       "latex": [
        "$$\\frac{1}{256} \\left(46189 x^{10} - 109395 x^{8} + 90090 x^{6} - 30030 x^{4} + 3465 x^{2} -63\\right)$$"
       ],
       "output_type": "pyout",
       "png": "[encoded data removed]",
       "prompt_number": 74,
       "text": [
        "       10           8          6          4         2     \n",
        "46189\u22c5x   - 109395\u22c5x  + 90090\u22c5x  - 30030\u22c5x  + 3465\u22c5x  - 63\n",
        "\u2500\u2500\u2500\u2500\u2500\u2500\u2500\u2500\u2500\u2500\u2500\u2500\u2500\u2500\u2500\u2500\u2500\u2500\u2500\u2500\u2500\u2500\u2500\u2500\u2500\u2500\u2500\u2500\u2500\u2500\u2500\u2500\u2500\u2500\u2500\u2500\u2500\u2500\u2500\u2500\u2500\u2500\u2500\u2500\u2500\u2500\u2500\u2500\u2500\u2500\u2500\u2500\u2500\u2500\u2500\u2500\u2500\u2500\n",
        "                           256                            "
       ]
      }
     ],
     "prompt_number": 74
    },
    {
     "cell_type": "code",
     "collapsed": false,
     "input": [
      "assoc_legendre(10, 2, x)"
     ],
     "language": "python",
     "metadata": {},
     "outputs": [
      {
       "latex": [
        "$$\\left(- x^{2} + 1\\right) \\left(\\frac{2078505}{128} x^{8} - \\frac{765765}{32} x^{6} + \\frac{675675}{64} x^{4} - \\frac{45045}{32} x^{2} + \\frac{3465}{128}\\right)$$"
       ],
       "output_type": "pyout",
       "png": "[encoded data removed]",
       "prompt_number": 75,
       "text": [
        "           \u239b         8           6           4          2       \u239e\n",
        "\u239b   2    \u239e \u239c2078505\u22c5x    765765\u22c5x    675675\u22c5x    45045\u22c5x    3465\u239f\n",
        "\u239d- x  + 1\u23a0\u22c5\u239c\u2500\u2500\u2500\u2500\u2500\u2500\u2500\u2500\u2500\u2500 - \u2500\u2500\u2500\u2500\u2500\u2500\u2500\u2500\u2500 + \u2500\u2500\u2500\u2500\u2500\u2500\u2500\u2500\u2500 - \u2500\u2500\u2500\u2500\u2500\u2500\u2500\u2500 + \u2500\u2500\u2500\u2500\u239f\n",
        "           \u239d   128           32          64         32      128 \u23a0"
       ]
      }
     ],
     "prompt_number": 75
    },
    {
     "cell_type": "code",
     "collapsed": false,
     "input": [
      "factor(_)"
     ],
     "language": "python",
     "metadata": {},
     "outputs": [
      {
       "latex": [
        "$$- \\frac{495}{128} \\left(x -1\\right) \\left(x + 1\\right) \\left(4199 x^{8} - 6188 x^{6} + 2730 x^{4} - 364 x^{2} + 7\\right)$$"
       ],
       "output_type": "pyout",
       "png": "[encoded data removed]",
       "prompt_number": 76,
       "text": [
        "                     \u239b      8         6         4        2    \u239e\n",
        "-495\u22c5(x - 1)\u22c5(x + 1)\u22c5\u239d4199\u22c5x  - 6188\u22c5x  + 2730\u22c5x  - 364\u22c5x  + 7\u23a0\n",
        "\u2500\u2500\u2500\u2500\u2500\u2500\u2500\u2500\u2500\u2500\u2500\u2500\u2500\u2500\u2500\u2500\u2500\u2500\u2500\u2500\u2500\u2500\u2500\u2500\u2500\u2500\u2500\u2500\u2500\u2500\u2500\u2500\u2500\u2500\u2500\u2500\u2500\u2500\u2500\u2500\u2500\u2500\u2500\u2500\u2500\u2500\u2500\u2500\u2500\u2500\u2500\u2500\u2500\u2500\u2500\u2500\u2500\u2500\u2500\u2500\u2500\u2500\u2500\n",
        "                              128                              "
       ]
      }
     ],
     "prompt_number": 76
    },
    {
     "cell_type": "code",
     "collapsed": false,
     "input": [
      "assoc_legendre(Rational(3,2), Rational(1,2), x)"
     ],
     "language": "python",
     "metadata": {},
     "outputs": [
      {
       "latex": [
        "$$P_{\\frac{3}{2}}^{\\left(\\frac{1}{2}\\right)}\\left(x\\right)$$"
       ],
       "output_type": "pyout",
       "png": "[encoded data removed]",
       "prompt_number": 77,
       "text": [
        "assoc_legendre(3/2, 1/2, x)"
       ]
      }
     ],
     "prompt_number": 77
    },
    {
     "cell_type": "code",
     "collapsed": false,
     "input": [
      "legendre(S(3)/2, 1.5).evalf()"
     ],
     "language": "python",
     "metadata": {},
     "outputs": [
      {
       "latex": [
        "$$2.03434274858116$$"
       ],
       "output_type": "pyout",
       "png": "[encoded data removed]",
       "prompt_number": 78,
       "text": [
        "2.03434274858116"
       ]
      }
     ],
     "prompt_number": 78
    },
    {
     "cell_type": "code",
     "collapsed": false,
     "input": [
      "legendre(S(3)/2+I, 1.5-I).evalf()"
     ],
     "language": "python",
     "metadata": {},
     "outputs": [
      {
       "latex": [
        "$$5.20465949508608 + 0.299479454976305 \\mathbf{\\imath}$$"
       ],
       "output_type": "pyout",
       "png": "[encoded data removed]",
       "prompt_number": 79,
       "text": [
        "5.20465949508608 + 0.299479454976305\u22c5\u2148"
       ]
      }
     ],
     "prompt_number": 79
    },
    {
     "cell_type": "code",
     "collapsed": false,
     "input": [
      "legendre(S(3)/2, 2).evalf(50)"
     ],
     "language": "python",
     "metadata": {},
     "outputs": [
      {
       "latex": [
        "$$3.2439396660408049154502287929704557672075154110177$$"
       ],
       "output_type": "pyout",
       "png": "[encoded data removed]",
       "prompt_number": 80,
       "text": [
        "3.2439396660408049154502287929704557672075154110177"
       ]
      }
     ],
     "prompt_number": 80
    },
    {
     "cell_type": "markdown",
     "metadata": {},
     "source": [
      "Different branch cuts!"
     ]
    },
    {
     "cell_type": "code",
     "collapsed": false,
     "input": [
      "assoc_legendre(2, 1, x) #type=1"
     ],
     "language": "python",
     "metadata": {},
     "outputs": [
      {
       "latex": [
        "$$- 3 x \\sqrt{- x^{2} + 1}$$"
       ],
       "output_type": "pyout",
       "png": "[encoded data removed]",
       "prompt_number": 81,
       "text": [
        "        __________\n",
        "       \u2571    2     \n",
        "-3\u22c5x\u22c5\u2572\u2571  - x  + 1 "
       ]
      }
     ],
     "prompt_number": 81
    },
    {
     "cell_type": "code",
     "collapsed": false,
     "input": [
      "assoc_legendre(2, 1, x) #type=2\n",
      "# -3*sqrt(1-z)*z*sqrt(1+z)"
     ],
     "language": "python",
     "metadata": {},
     "outputs": [
      {
       "latex": [
        "$$- 3 x \\sqrt{- x^{2} + 1}$$"
       ],
       "output_type": "pyout",
       "png": "[encoded data removed]",
       "prompt_number": 82,
       "text": [
        "        __________\n",
        "       \u2571    2     \n",
        "-3\u22c5x\u22c5\u2572\u2571  - x  + 1 "
       ]
      }
     ],
     "prompt_number": 82
    },
    {
     "cell_type": "code",
     "collapsed": false,
     "input": [
      "assoc_legendre(2, 1, x) #type=3\n",
      "# -3(1-z)*z*sqrt(1+z) / sqrt(z-1)"
     ],
     "language": "python",
     "metadata": {},
     "outputs": [
      {
       "latex": [
        "$$- 3 x \\sqrt{- x^{2} + 1}$$"
       ],
       "output_type": "pyout",
       "png": "[encoded data removed]",
       "prompt_number": 83,
       "text": [
        "        __________\n",
        "       \u2571    2     \n",
        "-3\u22c5x\u22c5\u2572\u2571  - x  + 1 "
       ]
      }
     ],
     "prompt_number": 83
    },
    {
     "cell_type": "code",
     "collapsed": false,
     "input": [
      "s = series(sin(x), x, n=5)"
     ],
     "language": "python",
     "metadata": {},
     "outputs": [],
     "prompt_number": 84
    },
    {
     "cell_type": "code",
     "collapsed": true,
     "input": [
      "s = sin(x) + O(x**5)"
     ],
     "language": "python",
     "metadata": {},
     "outputs": [],
     "prompt_number": 85
    },
    {
     "cell_type": "code",
     "collapsed": false,
     "input": [
      "s"
     ],
     "language": "python",
     "metadata": {},
     "outputs": [
      {
       "latex": [
        "$$\\sin{\\left (x \\right )} + \\mathcal{O}\\left(x^{5}\\right)$$"
       ],
       "output_type": "pyout",
       "png": "[encoded data removed]",
       "prompt_number": 86,
       "text": [
        "          \u239b 5\u239e\n",
        "sin(x) + O\u239dx \u23a0"
       ]
      }
     ],
     "prompt_number": 86
    },
    {
     "cell_type": "code",
     "collapsed": false,
     "input": [
      "legendre(2, s)"
     ],
     "language": "python",
     "metadata": {},
     "outputs": [
      {
       "latex": [
        "$$\\frac{3}{2} \\left(\\sin{\\left (x \\right )} + \\mathcal{O}\\left(x^{5}\\right)\\right)^{2} - \\frac{1}{2}$$"
       ],
       "output_type": "pyout",
       "png": "[encoded data removed]",
       "prompt_number": 87,
       "text": [
        "                  2    \n",
        "  \u239b          \u239b 5\u239e\u239e     \n",
        "3\u22c5\u239dsin(x) + O\u239dx \u23a0\u23a0    1\n",
        "\u2500\u2500\u2500\u2500\u2500\u2500\u2500\u2500\u2500\u2500\u2500\u2500\u2500\u2500\u2500\u2500\u2500\u2500\u2500 - \u2500\n",
        "         2            2"
       ]
      }
     ],
     "prompt_number": 87
    },
    {
     "cell_type": "code",
     "collapsed": false,
     "input": [
      "expand_func(_)"
     ],
     "language": "python",
     "metadata": {},
     "outputs": [
      {
       "latex": [
        "$$\\frac{3}{2} \\left(\\sin{\\left (x \\right )} + \\mathcal{O}\\left(x^{5}\\right)\\right)^{2} - \\frac{1}{2}$$"
       ],
       "output_type": "pyout",
       "png": "[encoded data removed]",
       "prompt_number": 88,
       "text": [
        "                  2    \n",
        "  \u239b          \u239b 5\u239e\u239e     \n",
        "3\u22c5\u239dsin(x) + O\u239dx \u23a0\u23a0    1\n",
        "\u2500\u2500\u2500\u2500\u2500\u2500\u2500\u2500\u2500\u2500\u2500\u2500\u2500\u2500\u2500\u2500\u2500\u2500\u2500 - \u2500\n",
        "         2            2"
       ]
      }
     ],
     "prompt_number": 88
    },
    {
     "cell_type": "code",
     "collapsed": false,
     "input": [
      "expand(_)"
     ],
     "language": "python",
     "metadata": {},
     "outputs": [
      {
       "latex": [
        "$$- \\frac{1}{2} + \\frac{3}{2} \\sin^{2}{\\left (x \\right )} + \\mathcal{O}\\left(x^{6}\\right)$$"
       ],
       "output_type": "pyout",
       "png": "[encoded data removed]",
       "prompt_number": 89,
       "text": [
        "           2           \n",
        "  1   3\u22c5sin (x)    \u239b 6\u239e\n",
        "- \u2500 + \u2500\u2500\u2500\u2500\u2500\u2500\u2500\u2500\u2500 + O\u239dx \u23a0\n",
        "  2       2            "
       ]
      }
     ],
     "prompt_number": 89
    },
    {
     "cell_type": "code",
     "collapsed": false,
     "input": [
      "assoc_legendre(S(3)/2, S(1)/2, s)"
     ],
     "language": "python",
     "metadata": {},
     "outputs": [
      {
       "latex": [
        "$$P_{\\frac{3}{2}}^{\\left(\\frac{1}{2}\\right)}\\left(\\sin{\\left (x \\right )} + \\mathcal{O}\\left(x^{5}\\right)\\right)$$"
       ],
       "output_type": "pyout",
       "png": "[encoded data removed]",
       "prompt_number": 90,
       "text": [
        "              \u239b                    \u239b 5\u239e\u239e\n",
        "assoc_legendre\u239d3/2, 1/2, sin(x) + O\u239dx \u23a0\u23a0"
       ]
      }
     ],
     "prompt_number": 90
    },
    {
     "cell_type": "code",
     "collapsed": false,
     "input": [
      "expand_func(_)"
     ],
     "language": "python",
     "metadata": {},
     "outputs": [
      {
       "latex": [
        "$$P_{\\frac{3}{2}}^{\\left(\\frac{1}{2}\\right)}\\left(\\sin{\\left (x \\right )} + \\mathcal{O}\\left(x^{5}\\right)\\right)$$"
       ],
       "output_type": "pyout",
       "png": "[encoded data removed]",
       "prompt_number": 91,
       "text": [
        "              \u239b                    \u239b 5\u239e\u239e\n",
        "assoc_legendre\u239d3/2, 1/2, sin(x) + O\u239dx \u23a0\u23a0"
       ]
      }
     ],
     "prompt_number": 91
    },
    {
     "cell_type": "code",
     "collapsed": false,
     "input": [
      "1+x**2+O(x**3)"
     ],
     "language": "python",
     "metadata": {},
     "outputs": [
      {
       "latex": [
        "$$1 + x^{2} + \\mathcal{O}\\left(x^{3}\\right)$$"
       ],
       "output_type": "pyout",
       "png": "[encoded data removed]",
       "prompt_number": 92,
       "text": [
        "     2    \u239b 3\u239e\n",
        "1 + x  + O\u239dx \u23a0"
       ]
      }
     ],
     "prompt_number": 92
    },
    {
     "cell_type": "code",
     "collapsed": false,
     "input": [
      "_**2"
     ],
     "language": "python",
     "metadata": {},
     "outputs": [
      {
       "latex": [
        "$$\\left(1 + x^{2} + \\mathcal{O}\\left(x^{3}\\right)\\right)^{2}$$"
       ],
       "output_type": "pyout",
       "png": "[encoded data removed]",
       "prompt_number": 93,
       "text": [
        "                2\n",
        "\u239b     2    \u239b 3\u239e\u239e \n",
        "\u239d1 + x  + O\u239dx \u23a0\u23a0 "
       ]
      }
     ],
     "prompt_number": 93
    },
    {
     "cell_type": "code",
     "collapsed": false,
     "input": [
      "expand(_)"
     ],
     "language": "python",
     "metadata": {},
     "outputs": [
      {
       "latex": [
        "$$1 + 2 x^{2} + \\mathcal{O}\\left(x^{3}\\right)$$"
       ],
       "output_type": "pyout",
       "png": "[encoded data removed]",
       "prompt_number": 94,
       "text": [
        "       2    \u239b 3\u239e\n",
        "1 + 2\u22c5x  + O\u239dx \u23a0"
       ]
      }
     ],
     "prompt_number": 94
    },
    {
     "cell_type": "code",
     "collapsed": false,
     "input": [
      "# Takes long time\n",
      "#integrate(legendre(n, x)*sin(pi*x), (x, -1, 1))"
     ],
     "language": "python",
     "metadata": {},
     "outputs": [],
     "prompt_number": 95
    }
   ],
   "metadata": {}
  }
 ]
}