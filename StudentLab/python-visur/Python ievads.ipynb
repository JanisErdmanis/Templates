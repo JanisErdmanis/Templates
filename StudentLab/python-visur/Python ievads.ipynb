{
 "metadata": {
  "name": "Python ievads"
 },
 "nbformat": 3,
 "nbformat_minor": 0,
 "worksheets": [
  {
   "cells": [
    {
     "cell_type": "heading",
     "level": 2,
     "metadata": {},
     "source": [
      "Neliels ievads pa\u0161\u0101 python valod\u0101"
     ]
    },
    {
     "cell_type": "markdown",
     "metadata": {},
     "source": [
      "Python ir programm\u0113\u0161anas valoda kuras kods tiek izpild\u012bts ar interpret\u0113t\u0101ja pal\u012bdz\u012bbu to nekompil\u0113jot. Cit\u0101di to var\u0113tu teikt, ka python ir t\u0101da k\u0101 saikne starp jau gatav\u0101m maz\u0101m funkcij\u0101m un lietot\u0101ju. \u0160\u012bs funkcijas tiek apvienotas modu\u013cos, kuras varam no tiem izsaukt da\u017e\u0101dos veidos. Pr\u0101t\u012bgs pieraksts nosaka, ka katrai python funkcijai ir pieejams apraksts, no kura gan tiek autom\u0101tiski \u0123ener\u0113tas modu\u013cu m\u0101jaslapas, piem\u0113ram, http://docs.scipy.org/doc/ , gan tiem ir iesp\u0113jams piek\u013c\u016bt no pa\u0161a interpret\u0113t\u0101ja.\n",
      "\n",
      "Sintakse, k\u0101 \u0161\u012bm funkcij\u0101m var piek\u013c\u016bt ir\n",
      "#### aiz attiec\u012bg\u0101s funkcijas nor\u0101dot - ?\n",
      "#### vai eso\u0161aj\u0101 vid\u0113, kuru sauc par \"ipython notebook\" j\u0101uzraksta funkcijas nosaukums un, kad notiek argumentu rakst\u012b\u0161ana nospie\u017eam 'tab'  \n",
      "Lai redz\u0113tu k\u0101 tas str\u0101d\u0101 apskat\u012bsim vienu no python pamatfunkcij\u0101m range(), kuras darb\u012bbu noskaidrosim no dokument\u0101cijas, kura par\u0101d\u012bsies p\u0101rl\u016bka apak\u0161\u0101 izpildot sekojo\u0161u programmu:"
     ]
    },
    {
     "cell_type": "code",
     "collapsed": false,
     "input": [
      "range?"
     ],
     "language": "python",
     "metadata": {},
     "outputs": [],
     "prompt_number": 1
    },
    {
     "cell_type": "code",
     "collapsed": false,
     "input": [
      "range(10) # Ar kursoru ieklik\u0161\u0137inot pie atvero\u0161\u0101s iekavas un uzpie\u017eot tab ieg\u016bsim to pa\u0161u inform\u0101ciju."
     ],
     "language": "python",
     "metadata": {},
     "outputs": [
      {
       "output_type": "pyout",
       "prompt_number": 2,
       "text": [
        "[0, 1, 2, 3, 4, 5, 6, 7, 8, 9]"
       ]
      }
     ],
     "prompt_number": 2
    },
    {
     "cell_type": "heading",
     "level": 3,
     "metadata": {},
     "source": [
      "Datu tipi"
     ]
    },
    {
     "cell_type": "code",
     "collapsed": false,
     "input": [
      "# Sal\u012bdzinot ar C valodu, python main\u012bg\u0101 tips tiek noteikts tikai taj\u0101 br\u012bd\u012b, kad tam pie\u0161\u0137irta v\u0113rt\u012bba. Tas \u013cau\u013c piem\u0113ram uzrakst\u012bt funkciju:\n",
      "def sumee(x,y): # identisks p\u0113c b\u016bt\u012bbas ir ar\u012b pieraksts: summe = lambda x,y: x+y\n",
      "    \"\"\"\n",
      "Funkcija, kura atgrie\u017e summu starp diviem argumentiem x un y\n",
      "\u0160\u0101d\u0101 pa\u0161\u0101 veid\u0101 tiek piem\u0113ram ierakst\u012bta range dokumentacija. \n",
      "    \"\"\"\n",
      "    return x + y"
     ],
     "language": "python",
     "metadata": {},
     "outputs": [],
     "prompt_number": 3
    },
    {
     "cell_type": "code",
     "collapsed": false,
     "input": [
      "#Kuru izsaukt varam ar da\u017e\u0101da tipa argumentiem:\n",
      "sumee('sis','tas')"
     ],
     "language": "python",
     "metadata": {},
     "outputs": [
      {
       "output_type": "pyout",
       "prompt_number": 4,
       "text": [
        "'sistas'"
       ]
      }
     ],
     "prompt_number": 4
    },
    {
     "cell_type": "code",
     "collapsed": false,
     "input": [
      "sumee(1,2)"
     ],
     "language": "python",
     "metadata": {},
     "outputs": [
      {
       "output_type": "pyout",
       "prompt_number": 5,
       "text": [
        "3"
       ]
      }
     ],
     "prompt_number": 5
    },
    {
     "cell_type": "code",
     "collapsed": false,
     "input": [
      "sumee('f',3) # nestr\u0101d\u0101, jo nav defin\u0113ta t\u0101da oper\u0101cija"
     ],
     "language": "python",
     "metadata": {},
     "outputs": [
      {
       "ename": "TypeError",
       "evalue": "cannot concatenate 'str' and 'int' objects",
       "output_type": "pyerr",
       "traceback": [
        "\u001b[1;31m---------------------------------------------------------------------------\u001b[0m\n\u001b[1;31mTypeError\u001b[0m                                 Traceback (most recent call last)",
        "\u001b[1;32m<ipython-input-6-7dec25aa33d9>\u001b[0m in \u001b[0;36m<module>\u001b[1;34m()\u001b[0m\n\u001b[1;32m----> 1\u001b[1;33m \u001b[0msumee\u001b[0m\u001b[1;33m(\u001b[0m\u001b[1;34m'f'\u001b[0m\u001b[1;33m,\u001b[0m\u001b[1;36m3\u001b[0m\u001b[1;33m)\u001b[0m \u001b[1;31m# nestr\u0101d\u0101, jo nav defin\u0113ta t\u0101da oper\u0101cija\u001b[0m\u001b[1;33m\u001b[0m\u001b[0m\n\u001b[0m",
        "\u001b[1;32m<ipython-input-3-369ca4212954>\u001b[0m in \u001b[0;36msumee\u001b[1;34m(x, y)\u001b[0m\n\u001b[0;32m      5\u001b[0m \u001b[0;31m\u0160\u001b[0m\u001b[0;31m\u0101\u001b[0m\u001b[0md\u001b[0m\u001b[0;31m\u0101\u001b[0m \u001b[0mpa\u001b[0m\u001b[0;31m\u0161\u001b[0m\u001b[0;31m\u0101\u001b[0m \u001b[0mveid\u001b[0m\u001b[0;31m\u0101\u001b[0m \u001b[0mtiek\u001b[0m \u001b[0mpiem\u001b[0m\u001b[0;31m\u0113\u001b[0m\u001b[0mram\u001b[0m \u001b[0mierakst\u001b[0m\u001b[0;31m\u012b\u001b[0m\u001b[0mta\u001b[0m \u001b[0mrange\u001b[0m \u001b[0mdokumentacija\u001b[0m\u001b[1;33m.\u001b[0m\u001b[1;33m\u001b[0m\u001b[0m\n\u001b[0;32m      6\u001b[0m     \"\"\"\n\u001b[1;32m----> 7\u001b[1;33m     \u001b[1;32mreturn\u001b[0m \u001b[0mx\u001b[0m \u001b[1;33m+\u001b[0m \u001b[0my\u001b[0m\u001b[1;33m\u001b[0m\u001b[0m\n\u001b[0m",
        "\u001b[1;31mTypeError\u001b[0m: cannot concatenate 'str' and 'int' objects"
       ]
      }
     ],
     "prompt_number": 6
    },
    {
     "cell_type": "heading",
     "level": 3,
     "metadata": {},
     "source": [
      "Klases"
     ]
    },
    {
     "cell_type": "code",
     "collapsed": false,
     "input": [
      "#Iepriek\u0161 redz\u0113j\u0101m, ka python neat\u013cau\u013c summ\u0113t datu tipus jeb objektus (p\u0101rsvar\u0101 sinon\u012bmi python valod\u0101).\n",
      "#Defin\u0113sim klasi ar kuru defin\u0113sim objektu, kuram pieskaitot int objektu ieg\u016bst t\u0101du pa\u0161u objektu k\u0101 tad, ja skaitlis b\u016btu nor\u0101d\u012bts p\u0113di\u0146\u0101s:"
     ],
     "language": "python",
     "metadata": {},
     "outputs": [],
     "prompt_number": 7
    },
    {
     "cell_type": "code",
     "collapsed": false,
     "input": [
      "class Mana_klase(str): # Ir pie\u0146emts python klases rakst\u012bt ar lielo s\u0101kumburtu. \n",
      "    \"\"\"\n",
      "Mans apraksts par doto funkciju klasi\n",
      "    \"\"\"\n",
      "    def __add__(self,other):\n",
      "        \"\"\"\n",
      "Apraksts pa\u0161ai metodei jeb objektam piesaist\u012bt\u0101 funkcij\u0101\n",
      "        \"\"\"\n",
      "        return str(self) + str(other)"
     ],
     "language": "python",
     "metadata": {},
     "outputs": [],
     "prompt_number": 22
    },
    {
     "cell_type": "code",
     "collapsed": false,
     "input": [
      "objekts = Mana_klase('kautkas')\n",
      "objekts # P\u0113d\u0113jais objekts, kur\u0161 \u0161\u0101d\u0101 veid\u0101 vien\u0101 \u0161\u016bn\u0101 atst\u0101ts tiek izdruk\u0101ts"
     ],
     "language": "python",
     "metadata": {},
     "outputs": [
      {
       "output_type": "pyout",
       "prompt_number": 9,
       "text": [
        "'kautkas'"
       ]
      }
     ],
     "prompt_number": 9
    },
    {
     "cell_type": "code",
     "collapsed": false,
     "input": [
      "#Varam piek\u013c\u016bt objekta funkcijas aprakstam veid\u0101:\n",
      "objekts.__add__?"
     ],
     "language": "python",
     "metadata": {},
     "outputs": [],
     "prompt_number": 11
    },
    {
     "cell_type": "code",
     "collapsed": false,
     "input": [
      "objekts + 7 # j\u0101nor\u0101da, ka 7 + objekts nestr\u0101d\u0101s, jo tad tiks lietota __add__ funkcija, kura defin\u0113ta objektam int!"
     ],
     "language": "python",
     "metadata": {},
     "outputs": [
      {
       "output_type": "pyout",
       "prompt_number": 12,
       "text": [
        "'kautkas7'"
       ]
      }
     ],
     "prompt_number": 12
    },
    {
     "cell_type": "code",
     "collapsed": false,
     "input": [
      "#Funkcijai, kura ir objektam var piek\u013c\u016bt ar\u012b cit\u0101di:\n",
      "\n",
      "objekts.__add__(7) #Pirmais arguments tiek autom\u0101tiski ielikts pats objekts, kuru ir vienoju\u0161ies saukt par self\n",
      "\n",
      "#\u0160aj\u0101 gad\u012bjum\u0101 funkcija ar nosaukumu __add__ ir izmantojama ar + z\u012bmi, k\u0101 iepriek\u0161\u0113j\u0101 gad\u012bjum\u0101 (d\u0113\u013c sava speci\u0101l\u0101 nosaukuma). \n",
      "#Bet p\u0101rsvar\u0101 objekta funkcij\u0101m piek\u013c\u016bstam form\u0101:\n",
      "\n",
      "#<objekts>.<objekta funkcijas nosaukums>(<argumenti>)\n",
      "\n",
      "#Lai uzzin\u0101tu k\u0101das funkcijas ir defin\u0113tas pa\u0161am objektam varam \u0161aj\u0101 gad\u012bjum\u0101 p\u0113c tam, kad esam uzrakst\u012bju\u0161i objekts. uzspiest tab.\n"
     ],
     "language": "python",
     "metadata": {},
     "outputs": [
      {
       "output_type": "pyout",
       "prompt_number": 13,
       "text": [
        "'kautkas7'"
       ]
      }
     ],
     "prompt_number": 13
    },
    {
     "cell_type": "code",
     "collapsed": false,
     "input": [
      "#Ja v\u0113lamies, lai str\u0101d\u0101tu \u0161\u0101da programma:\n",
      "(objekts + 7) + 6"
     ],
     "language": "python",
     "metadata": {},
     "outputs": [
      {
       "ename": "TypeError",
       "evalue": "cannot concatenate 'str' and 'int' objects",
       "output_type": "pyerr",
       "traceback": [
        "\u001b[1;31m---------------------------------------------------------------------------\u001b[0m\n\u001b[1;31mTypeError\u001b[0m                                 Traceback (most recent call last)",
        "\u001b[1;32m<ipython-input-15-d0840f3b1480>\u001b[0m in \u001b[0;36m<module>\u001b[1;34m()\u001b[0m\n\u001b[0;32m      1\u001b[0m \u001b[1;31m#Ja v\u0113lamies, lai str\u0101d\u0101tu \u0161\u0101da programma:\u001b[0m\u001b[1;33m\u001b[0m\u001b[1;33m\u001b[0m\u001b[0m\n\u001b[1;32m----> 2\u001b[1;33m \u001b[1;33m(\u001b[0m\u001b[0mobjekts\u001b[0m \u001b[1;33m+\u001b[0m \u001b[1;36m7\u001b[0m\u001b[1;33m)\u001b[0m \u001b[1;33m+\u001b[0m \u001b[1;36m6\u001b[0m\u001b[1;33m\u001b[0m\u001b[0m\n\u001b[0m",
        "\u001b[1;31mTypeError\u001b[0m: cannot concatenate 'str' and 'int' objects"
       ]
      }
     ],
     "prompt_number": 15
    },
    {
     "cell_type": "code",
     "collapsed": false,
     "input": [
      "#Tad j\u0101izmaina klases metode saskait\u012b\u0161anai t\u0101, lai tiktu atgriezts pats objekts\n",
      "\n",
      "#Lai b\u016btu pam\u0101co\u0161i jauno funkciju defin\u0113sim atsevi\u0161\u0137i un to aizvietosim, pirmaj\u0101 gad\u012bjum\u0101 tikai objektam, otraj\u0101 jau iepriek\u0161 defin\u0113tai klasei.\n",
      "\n",
      "saliec = lambda x,y: Mana_klase(str(x) + str(y))"
     ],
     "language": "python",
     "metadata": {},
     "outputs": [],
     "prompt_number": 19
    },
    {
     "cell_type": "code",
     "collapsed": false,
     "input": [
      "#izmainam pa\u0161u klasi:\n",
      "Mana_klase.__add__ = saliec\n",
      "\n",
      "# Un no jauna defin\u0113jam objektu\n",
      "objekts = Mana_klase('kautkas')"
     ],
     "language": "python",
     "metadata": {},
     "outputs": [],
     "prompt_number": 36
    },
    {
     "cell_type": "code",
     "collapsed": false,
     "input": [
      "(objekts + 7)+6"
     ],
     "language": "python",
     "metadata": {},
     "outputs": [
      {
       "output_type": "pyout",
       "prompt_number": 37,
       "text": [
        "'kautkas76'"
       ]
      }
     ],
     "prompt_number": 37
    }
   ],
   "metadata": {}
  }
 ]
}